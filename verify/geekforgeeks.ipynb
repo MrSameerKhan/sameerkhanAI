{
 "cells": [
  {
   "cell_type": "code",
   "execution_count": 1,
   "metadata": {},
   "outputs": [
    {
     "data": {
      "text/plain": [
       "[6, 2, 3, 4, 5, 1]"
      ]
     },
     "execution_count": 1,
     "metadata": {},
     "output_type": "execute_result"
    }
   ],
   "source": [
    "my_list = [1,2,3, 4, 5, 6]\n",
    "\n",
    "my_list[0], my_list[-1] = my_list[-1], my_list[0]\n",
    "\n",
    "my_list[0], my_list[-1]\n",
    "my_list"
   ]
  },
  {
   "cell_type": "code",
   "execution_count": 2,
   "metadata": {},
   "outputs": [
    {
     "data": {
      "text/plain": [
       "[1, 6, 3, 4, 5, 2]"
      ]
     },
     "execution_count": 2,
     "metadata": {},
     "output_type": "execute_result"
    }
   ],
   "source": [
    "my_list = [1,2,3, 4, 5, 6]\n",
    "\n",
    "post_1 = 2\n",
    "post_2 = 6\n",
    "\n",
    "my_list[post_1-1], my_list[post_2-1] = my_list[post_2-1], my_list[post_1-1]\n",
    "\n",
    "my_list"
   ]
  },
  {
   "cell_type": "code",
   "execution_count": 3,
   "metadata": {},
   "outputs": [
    {
     "ename": "TypeError",
     "evalue": "max expected 1 argument, got 0",
     "output_type": "error",
     "traceback": [
      "\u001b[0;31m---------------------------------------------------------------------------\u001b[0m",
      "\u001b[0;31mTypeError\u001b[0m                                 Traceback (most recent call last)",
      "Cell \u001b[0;32mIn[3], line 5\u001b[0m\n\u001b[1;32m      1\u001b[0m my_list \u001b[39m=\u001b[39m [\u001b[39m1\u001b[39m,\u001b[39m2\u001b[39m,\u001b[39m3\u001b[39m, \u001b[39m4\u001b[39m, \u001b[39m5\u001b[39m, \u001b[39m6\u001b[39m]\n\u001b[1;32m      3\u001b[0m \u001b[39mlen\u001b[39m(my_list)\n\u001b[0;32m----> 5\u001b[0m \u001b[39mmax\u001b[39;49m()\n",
      "\u001b[0;31mTypeError\u001b[0m: max expected 1 argument, got 0"
     ]
    }
   ],
   "source": [
    "my_list = [1,2,3, 4, 5, 6]\n",
    "\n",
    "len(my_list)\n",
    "\n",
    "max()"
   ]
  },
  {
   "cell_type": "code",
   "execution_count": null,
   "metadata": {},
   "outputs": [
    {
     "name": "stdout",
     "output_type": "stream",
     "text": [
      "Doesn't\n",
      "Result 1\n"
     ]
    }
   ],
   "source": [
    "my_list = [1,2,3, 4, 5, 6]\n",
    "check = 33\n",
    "for elem in my_list:\n",
    "    if elem==check:\n",
    "        print(\"Exists\")\n",
    "        break\n",
    "else:\n",
    "    print(\"Doesn't\")\n",
    "\n",
    "\n",
    "result  = my_list.count(3)\n",
    "print(\"Result\", result)\n",
    "\n"
   ]
  },
  {
   "cell_type": "code",
   "execution_count": null,
   "metadata": {},
   "outputs": [
    {
     "data": {
      "text/plain": [
       "[]"
      ]
     },
     "execution_count": 22,
     "metadata": {},
     "output_type": "execute_result"
    }
   ],
   "source": [
    "my_list = [1,2,3, 4, 5, 6]\n",
    "\n",
    "my_list.clear()\n",
    "my_list"
   ]
  },
  {
   "cell_type": "code",
   "execution_count": null,
   "metadata": {},
   "outputs": [
    {
     "data": {
      "text/plain": [
       "[6, 5, 4, 3, 2, 1]"
      ]
     },
     "execution_count": 26,
     "metadata": {},
     "output_type": "execute_result"
    }
   ],
   "source": [
    "my_list = [1,2,3, 4, 5, 6]\n",
    "my_list\n",
    "\n",
    "my_list[::-1]\n"
   ]
  },
  {
   "cell_type": "code",
   "execution_count": null,
   "metadata": {},
   "outputs": [
    {
     "name": "stdout",
     "output_type": "stream",
     "text": [
      "Temp 21\n",
      "Sum 21\n"
     ]
    }
   ],
   "source": [
    "my_list = [1,2,3, 4, 5, 6]\n",
    "\n",
    "temp = 0\n",
    "for ele in my_list:\n",
    "    temp = temp + ele\n",
    "\n",
    "print(\"Temp\",temp)\n",
    "\n",
    "print(\"Sum\", sum(my_list))"
   ]
  },
  {
   "cell_type": "code",
   "execution_count": null,
   "metadata": {},
   "outputs": [
    {
     "name": "stdout",
     "output_type": "stream",
     "text": [
      "Temp 720\n",
      "Math 720\n",
      "Numpy 720\n"
     ]
    }
   ],
   "source": [
    "my_list = [1,2,3, 4, 5, 6]\n",
    "\n",
    "temp = 1\n",
    "for ele in my_list:\n",
    "    temp = temp * ele\n",
    "\n",
    "print(\"Temp\",temp)\n",
    "\n",
    "import math \n",
    "\n",
    "result = math.prod(my_list)\n",
    "print(\"Math\", result)\n",
    "\n",
    "import numpy\n",
    "\n",
    "res = numpy.prod(my_list)\n",
    "print(\"Numpy\", res)"
   ]
  },
  {
   "cell_type": "code",
   "execution_count": null,
   "metadata": {},
   "outputs": [
    {
     "name": "stdout",
     "output_type": "stream",
     "text": [
      "-2 10\n",
      "max 33\n"
     ]
    }
   ],
   "source": [
    "my_list = [10,2,33, 4, 5,1 ,6]\n",
    "\n",
    "my_list.sort()\n",
    "my_list\n",
    "print(\"-2\", my_list[-2])\n",
    "\n",
    "\n",
    "print(\"max\",max(my_list))"
   ]
  },
  {
   "cell_type": "code",
   "execution_count": null,
   "metadata": {},
   "outputs": [
    {
     "data": {
      "text/plain": [
       "[5, 6, 10, 33]"
      ]
     },
     "execution_count": 59,
     "metadata": {},
     "output_type": "execute_result"
    }
   ],
   "source": [
    "my_list = [10,2,33, 4, 5,1 ,6]\n",
    "\n",
    "my_list.sort()\n",
    "my_list\n",
    "\n",
    "n = 4\n",
    "\n",
    "my_list[-n:]"
   ]
  },
  {
   "cell_type": "code",
   "execution_count": null,
   "metadata": {},
   "outputs": [
    {
     "data": {
      "text/plain": [
       "[10, 2, 4, 6]"
      ]
     },
     "execution_count": 65,
     "metadata": {},
     "output_type": "execute_result"
    }
   ],
   "source": [
    "my_list = [10,2,33, 4, 5,1 ,6]\n",
    "\n",
    "result  = [ele for ele in my_list if ele%2 == 0]\n",
    "result = list(filter(lambda x : x%2 ==0, my_list))\n",
    "\n",
    "result"
   ]
  },
  {
   "cell_type": "code",
   "execution_count": null,
   "metadata": {},
   "outputs": [
    {
     "data": {
      "text/plain": [
       "(33, 5, 1)"
      ]
     },
     "execution_count": 74,
     "metadata": {},
     "output_type": "execute_result"
    }
   ],
   "source": [
    "result =[ele for ele in my_list if ele % 2 != 0]\n",
    "result\n",
    "\n",
    "\n",
    "reul =  tuple(filter(lambda ele : ele % 2 != 0 , my_list))\n",
    "\n",
    "reul"
   ]
  },
  {
   "cell_type": "code",
   "execution_count": null,
   "metadata": {},
   "outputs": [
    {
     "data": {
      "text/plain": [
       "[-10, -9, -8, -7, -6, -5, -4, -3, -2, -1]"
      ]
     },
     "execution_count": 77,
     "metadata": {},
     "output_type": "execute_result"
    }
   ],
   "source": [
    "my_list = [10,2,33, 4, 5,1 ,6]\n",
    "\n",
    "start , end = -10, 10\n",
    "\n",
    "new_list = []\n",
    "for ele in range(start, end+1):\n",
    "    if ele < 0:\n",
    "        new_list.append(ele)\n",
    "new_list"
   ]
  },
  {
   "cell_type": "code",
   "execution_count": null,
   "metadata": {},
   "outputs": [
    {
     "data": {
      "text/plain": [
       "[10, 6]"
      ]
     },
     "execution_count": 79,
     "metadata": {},
     "output_type": "execute_result"
    }
   ],
   "source": [
    "my_list = [10,2,33, 4, 5,1 ,6]\n",
    "\n",
    "del my_list[1:-1]\n",
    "\n",
    "my_list"
   ]
  },
  {
   "cell_type": "code",
   "execution_count": null,
   "metadata": {},
   "outputs": [
    {
     "data": {
      "text/plain": [
       "[10, 2, 33, 4, 5, 1, 6]"
      ]
     },
     "execution_count": 83,
     "metadata": {},
     "output_type": "execute_result"
    }
   ],
   "source": [
    "my_list = [10,2,33, 4, 5,1 ,6, [], []]\n",
    "new_list = []\n",
    "for ele in my_list:\n",
    "    if ele != []:\n",
    "        new_list.append(ele)\n",
    "\n",
    "new_list\n",
    "\n",
    "\n",
    "result = list(filter(None, my_list))\n",
    "result"
   ]
  },
  {
   "cell_type": "code",
   "execution_count": null,
   "metadata": {},
   "outputs": [
    {
     "name": "stdout",
     "output_type": "stream",
     "text": [
      "NN [10, 2, 33, 4, 5, 1, 6]\n"
     ]
    }
   ],
   "source": [
    "my_list = [10,2,33, 4, 5,1 ,6]\n",
    "new_list = []\n",
    "new_list  = my_list.copy()\n",
    "\n",
    "new_list\n",
    "\n",
    "\n",
    "\n",
    "nn = list(my_list)\n",
    "print(\"NN\", nn)"
   ]
  },
  {
   "cell_type": "code",
   "execution_count": null,
   "metadata": {},
   "outputs": [],
   "source": []
  }
 ],
 "metadata": {
  "kernelspec": {
   "display_name": "sameerkhanAI",
   "language": "python",
   "name": "python3"
  },
  "language_info": {
   "codemirror_mode": {
    "name": "ipython",
    "version": 3
   },
   "file_extension": ".py",
   "mimetype": "text/x-python",
   "name": "python",
   "nbconvert_exporter": "python",
   "pygments_lexer": "ipython3",
   "version": "3.8.17"
  },
  "orig_nbformat": 2
 },
 "nbformat": 4,
 "nbformat_minor": 2
}
