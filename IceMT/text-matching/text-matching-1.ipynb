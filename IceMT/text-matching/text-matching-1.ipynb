{
 "cells": [
  {
   "cell_type": "code",
   "execution_count": 2,
   "metadata": {},
   "outputs": [
    {
     "name": "stdout",
     "output_type": "stream",
     "text": [
      "                  text_1                               text_2  similarity\n",
      "0  This is a sample text  This is another  wth the sam sample    0.528156\n",
      "1   Another example text            Completely different text    0.184338\n"
     ]
    }
   ],
   "source": [
    "import pandas as pd\n",
    "from sklearn.feature_extraction.text import TfidfVectorizer\n",
    "from sklearn.metrics.pairwise import cosine_similarity\n",
    "\n",
    "# Sample DataFrame\n",
    "data = {'text_1': ['This is a sample text', 'Another example text'],\n",
    "        'text_2': ['This is another  wth the sam sample', 'Completely different text']}\n",
    "df = pd.DataFrame(data)\n",
    "\n",
    "# Initialize the TF-IDF Vectorizer\n",
    "vectorizer = TfidfVectorizer()\n",
    "\n",
    "# Combine both columns for vectorization\n",
    "combined_text = df['text_1'].tolist() + df['text_2'].tolist()\n",
    "\n",
    "# Fit and transform the text data into TF-IDF vectors\n",
    "tfidf_matrix = vectorizer.fit_transform(combined_text)\n",
    "\n",
    "# Compute the cosine similarity\n",
    "cosine_similarities = []\n",
    "for i in range(len(df)):\n",
    "    text1_vector = tfidf_matrix[i]\n",
    "    text2_vector = tfidf_matrix[len(df) + i]\n",
    "    similarity = cosine_similarity(text1_vector, text2_vector)[0][0]\n",
    "    cosine_similarities.append(similarity)\n",
    "\n",
    "# Add the similarity scores to the DataFrame\n",
    "df['similarity'] = cosine_similarities\n",
    "\n",
    "print(df)\n"
   ]
  },
  {
   "cell_type": "code",
   "execution_count": null,
   "metadata": {},
   "outputs": [],
   "source": []
  }
 ],
 "metadata": {
  "kernelspec": {
   "display_name": "sameerkhanAI10",
   "language": "python",
   "name": "python3"
  },
  "language_info": {
   "codemirror_mode": {
    "name": "ipython",
    "version": 3
   },
   "file_extension": ".py",
   "mimetype": "text/x-python",
   "name": "python",
   "nbconvert_exporter": "python",
   "pygments_lexer": "ipython3",
   "version": "3.10.13"
  }
 },
 "nbformat": 4,
 "nbformat_minor": 2
}
