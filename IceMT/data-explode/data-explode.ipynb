{
 "cells": [
  {
   "cell_type": "code",
   "execution_count": 1,
   "metadata": {},
   "outputs": [
    {
     "name": "stderr",
     "output_type": "stream",
     "text": [
      "25/02/06 23:56:21 WARN Utils: Your hostname, Sameers-MacBook-Pro.local resolves to a loopback address: 127.0.0.1; using 192.168.29.18 instead (on interface en0)\n",
      "25/02/06 23:56:21 WARN Utils: Set SPARK_LOCAL_IP if you need to bind to another address\n",
      "Setting default log level to \"WARN\".\n",
      "To adjust logging level use sc.setLogLevel(newLevel). For SparkR, use setLogLevel(newLevel).\n",
      "25/02/06 23:56:21 WARN NativeCodeLoader: Unable to load native-hadoop library for your platform... using builtin-java classes where applicable\n"
     ]
    },
    {
     "name": "stdout",
     "output_type": "stream",
     "text": [
      "+--------------+------------+----------+-----+------+----------------------------------+\n",
      "|documenttypeid|folderid    |pagenumber|image|text  |label                             |\n",
      "+--------------+------------+----------+-----+------+----------------------------------+\n",
      "|DT240123999_1 |FX2312178_1 |1         |ivB  |owners|RightToPurchaseOwnersTitlePolicy_1|\n",
      "|DT240123999_2 |FX2312178_2 |1         |ivB  |owners|RightToPurchaseOwnersTitlePolicy_1|\n",
      "|DT240123999_3 |FX2312178_3 |1         |ivB  |owners|RightToPurchaseOwnersTitlePolicy_1|\n",
      "|DT240123999_1 |FX2312178_1 |2         |ivB  |owners|RightToPurchaseOwnersTitlePolicy_0|\n",
      "|DT240123999_2 |FX2312178_2 |2         |ivB  |owners|RightToPurchaseOwnersTitlePolicy_0|\n",
      "|DT240123999_3 |FX2312178_3 |2         |ivB  |owners|RightToPurchaseOwnersTitlePolicy_0|\n",
      "|DT240218948_1 |FX24012799_1|1         |ivB  |owners|RightToPurchaseOwnersTitlePolicy_1|\n",
      "|DT240218948_2 |FX24012799_2|1         |ivB  |owners|RightToPurchaseOwnersTitlePolicy_1|\n",
      "|DT240218948_3 |FX24012799_3|1         |ivB  |owners|RightToPurchaseOwnersTitlePolicy_1|\n",
      "|DT240218948_1 |FX24012799_1|2         |ivB  |owners|RightToPurchaseOwnersTitlePolicy_0|\n",
      "|DT240218948_2 |FX24012799_2|2         |ivB  |owners|RightToPurchaseOwnersTitlePolicy_0|\n",
      "|DT240218948_3 |FX24012799_3|2         |ivB  |owners|RightToPurchaseOwnersTitlePolicy_0|\n",
      "+--------------+------------+----------+-----+------+----------------------------------+\n",
      "\n"
     ]
    }
   ],
   "source": [
    "from pyspark.sql import SparkSession\n",
    "from pyspark.sql.functions import col, lit, concat, row_number\n",
    "from pyspark.sql.window import Window\n",
    "\n",
    "# Initialize Spark Session\n",
    "spark = SparkSession.builder.appName(\"Data Augmentation\").getOrCreate()\n",
    "\n",
    "# Sample data (replace this with your DataFrame)\n",
    "data = [\n",
    "    (\"DT240123999\", \"FX2312178\", 1, \"ivB\", \"owners\", \"RightToPurchaseOwnersTitlePolicy_1\"),\n",
    "    (\"DT240123999\", \"FX2312178\", 2, \"ivB\", \"owners\", \"RightToPurchaseOwnersTitlePolicy_0\"),\n",
    "    (\"DT240218948\", \"FX24012799\", 1, \"ivB\", \"owners\", \"RightToPurchaseOwnersTitlePolicy_1\"),\n",
    "    (\"DT240218948\", \"FX24012799\", 2, \"ivB\", \"owners\", \"RightToPurchaseOwnersTitlePolicy_0\"),\n",
    "]\n",
    "\n",
    "columns = [\"documenttypeid\", \"folderid\", \"pagenumber\", \"image\", \"text\", \"label\"]\n",
    "\n",
    "# Create the base DataFrame\n",
    "df = spark.createDataFrame(data, columns)\n",
    "\n",
    "# Define a multiplier for the number of duplicates you want\n",
    "n = 3  # Change this to create more duplicates (n = 3 means 3 copies per row)\n",
    "\n",
    "# Step 1: Cross join the data with a range to duplicate rows\n",
    "range_df = spark.range(1, n + 1).withColumnRenamed(\"id\", \"suffix\")\n",
    "df_exploded = df.crossJoin(range_df)\n",
    "\n",
    "# Step 2: Append the unique suffix to documenttypeid and folderid\n",
    "df_augmented = df_exploded.withColumn(\"documenttypeid\", concat(col(\"documenttypeid\"), lit(\"_\"), col(\"suffix\"))) \\\n",
    "                          .withColumn(\"folderid\", concat(col(\"folderid\"), lit(\"_\"), col(\"suffix\")))\n",
    "\n",
    "# Step 3: Select the required columns\n",
    "df_final = df_augmented.select(\"documenttypeid\", \"folderid\", \"pagenumber\", \"image\", \"text\", \"label\")\n",
    "\n",
    "# Show the result\n",
    "df_final.show(truncate=False)\n"
   ]
  },
  {
   "cell_type": "code",
   "execution_count": 3,
   "metadata": {},
   "outputs": [
    {
     "data": {
      "text/plain": [
       "DataFrame[documenttypeid: string, folderid: string, pagenumber: bigint, image: string, text: string, label: string]"
      ]
     },
     "metadata": {},
     "output_type": "display_data"
    }
   ],
   "source": [
    "display(df_final)"
   ]
  },
  {
   "cell_type": "code",
   "execution_count": null,
   "metadata": {},
   "outputs": [],
   "source": []
  }
 ],
 "metadata": {
  "kernelspec": {
   "display_name": "sameerkhanAI10",
   "language": "python",
   "name": "python3"
  },
  "language_info": {
   "codemirror_mode": {
    "name": "ipython",
    "version": 3
   },
   "file_extension": ".py",
   "mimetype": "text/x-python",
   "name": "python",
   "nbconvert_exporter": "python",
   "pygments_lexer": "ipython3",
   "version": "3.10.13"
  }
 },
 "nbformat": 4,
 "nbformat_minor": 2
}
