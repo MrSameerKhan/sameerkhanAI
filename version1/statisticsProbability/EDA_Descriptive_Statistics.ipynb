{
 "cells": [
  {
   "cell_type": "markdown",
   "metadata": {},
   "source": [
    "# Measure of Central Tendancy"
   ]
  },
  {
   "cell_type": "markdown",
   "metadata": {},
   "source": [
    "# Mean"
   ]
  },
  {
   "cell_type": "code",
   "execution_count": 1,
   "metadata": {},
   "outputs": [
    {
     "name": "stdout",
     "output_type": "stream",
     "text": [
      "18.375\n",
      "18.375\n",
      "18.375\n"
     ]
    }
   ],
   "source": [
    "# Importing packages\n",
    "import statistics\n",
    "import numpy as np\n",
    "\n",
    "# Sample Data\n",
    "data = [1,2,4,5,6,76,8,45]\n",
    "# Using simple mean formula\n",
    "mean = sum(data)/len(data)\n",
    "\n",
    "print(mean)\n",
    "# output of numpy package\n",
    "print(np.mean(data))\n",
    "# output of statistics package\n",
    "print(statistics.mean(data))"
   ]
  },
  {
   "cell_type": "markdown",
   "metadata": {},
   "source": [
    "# Median"
   ]
  },
  {
   "cell_type": "code",
   "execution_count": 2,
   "metadata": {},
   "outputs": [
    {
     "name": "stdout",
     "output_type": "stream",
     "text": [
      "Sorted Data: [1, 2, 4, 5, 6, 8, 45, 76]\n",
      "Position of the data: 4 and 3\n",
      "Values in the Position: 6 and 5\n",
      "Median: 5.5\n",
      "5.5\n",
      "5.5\n"
     ]
    }
   ],
   "source": [
    "import statistics\n",
    "import numpy as np\n",
    "\n",
    "data = [1,2,4,5,6,76,8,45]\n",
    "\n",
    "# Using Formula without Python Packages\n",
    "\"\"\"\n",
    "If number of elements = odd - - - -> n/2\n",
    "If number of elements = even - - → (n+1)/2\n",
    "We can't use the (n+1)/2 exactly in coding. Because finding the position using float values gets error. So, I am slightly changing the formula for Even.\n",
    "m1 = (n/2)th position\n",
    "m2 = ((n/2) - 1) th position\n",
    "\"\"\"\n",
    "sorted_data_median = sorted(data)\n",
    "print(\"Sorted Data:\", sorted_data_median)\n",
    "m1 = int(len(sorted_data_median)/ 2)\n",
    "m2 = int((m1 - 1))\n",
    "print(f\"Position of the data: {m1} and {m2}\")\n",
    "print(f\"Values in the Position: {sorted_data_median[m1]} and {sorted_data_median[m2]}\")\n",
    "median = (sorted_data_median[m1] + sorted_data_median[m2])/2\n",
    "print(\"Median:\",  median)\n",
    "\n",
    "\n",
    "# Using numpy package\n",
    "print(np.median(data))\n",
    "\n",
    "# Using statistics package\n",
    "print(statistics.median(data))"
   ]
  },
  {
   "cell_type": "markdown",
   "metadata": {},
   "source": [
    "# Mode"
   ]
  },
  {
   "cell_type": "code",
   "execution_count": 3,
   "metadata": {},
   "outputs": [
    {
     "name": "stdout",
     "output_type": "stream",
     "text": [
      "The Number [7] occured [4] times\n",
      "7\n"
     ]
    },
    {
     "name": "stderr",
     "output_type": "stream",
     "text": [
      "/var/folders/dw/nbws69bn1czd2gbykbfjmnmc0000gn/T/ipykernel_30616/3308195205.py:9: FutureWarning: Unlike other reduction functions (e.g. `skew`, `kurtosis`), the default behavior of `mode` typically preserves the axis it acts along. In SciPy 1.11.0, this behavior will change: the default value of `keepdims` will become False, the `axis` over which the statistic is taken will be eliminated, and the value None will no longer be accepted. Set `keepdims` to True or False to avoid this warning.\n",
      "  output = stats.mode(data)\n"
     ]
    }
   ],
   "source": [
    "# Importing packages\n",
    "import statistics\n",
    "from scipy import stats\n",
    "\n",
    "# Sample data\n",
    "data = [1,2,3,4,4,5,6,7,7,7,7,6,6,4,3,2,1]\n",
    "\n",
    "# Using Scipy Package\n",
    "output = stats.mode(data)\n",
    "print(f\"The Number {output[0]} occured {output[1]} times\")\n",
    "\n",
    "# Using Statistics package\n",
    "print(statistics.mode(data))"
   ]
  },
  {
   "cell_type": "markdown",
   "metadata": {},
   "source": [
    "# Measure of Variability/Dispersion"
   ]
  },
  {
   "cell_type": "markdown",
   "metadata": {},
   "source": [
    "# Range"
   ]
  },
  {
   "cell_type": "code",
   "execution_count": 4,
   "metadata": {},
   "outputs": [
    {
     "name": "stdout",
     "output_type": "stream",
     "text": [
      "Maximum Value :  9\n",
      "Minimum Value :  3\n",
      "Range :  6\n"
     ]
    }
   ],
   "source": [
    "# Sample data\n",
    "data = {4, 6, 9, 3, 7}\n",
    "\n",
    "range = max(data) - min(data)\n",
    "print(\"Maximum Value : \", max(data))\n",
    "print(\"Minimum Value : \", min(data))\n",
    "print(\"Range : \", range)"
   ]
  },
  {
   "cell_type": "markdown",
   "metadata": {},
   "source": [
    "# Interquartile Range"
   ]
  },
  {
   "cell_type": "code",
   "execution_count": 5,
   "metadata": {},
   "outputs": [
    {
     "name": "stdout",
     "output_type": "stream",
     "text": [
      "Numpy Median :  34.0\n",
      "Numpy Percentile :  34.0\n",
      "Scipy :  34.0\n"
     ]
    },
    {
     "name": "stderr",
     "output_type": "stream",
     "text": [
      "/var/folders/dw/nbws69bn1czd2gbykbfjmnmc0000gn/T/ipykernel_30616/3707766324.py:20: DeprecationWarning: the `interpolation=` argument to percentile was renamed to `method=`, which has additional options.\n",
      "Users of the modes 'nearest', 'lower', 'higher', or 'midpoint' are encouraged to review the method they used. (Deprecated NumPy 1.22)\n",
      "  Q1 = np.percentile(data, 25, interpolation = 'midpoint')\n",
      "/var/folders/dw/nbws69bn1czd2gbykbfjmnmc0000gn/T/ipykernel_30616/3707766324.py:22: DeprecationWarning: the `interpolation=` argument to percentile was renamed to `method=`, which has additional options.\n",
      "Users of the modes 'nearest', 'lower', 'higher', or 'midpoint' are encouraged to review the method they used. (Deprecated NumPy 1.22)\n",
      "  Q3 = np.percentile(data, 75, interpolation = 'midpoint')\n"
     ]
    }
   ],
   "source": [
    "\n",
    "# Import the numpy library as np\n",
    "import numpy as np\n",
    "from scipy import stats\n",
    "  \n",
    "data = [32, 36, 46, 47, 56, 69, 75, 79, 79, 88, 89, 91, 92, 93, 96, 97, \n",
    "        101, 105, 112, 116]\n",
    "\n",
    "# Using Numpy Median\n",
    "# First quartile (Q1)\n",
    "Q1 = np.median(data[:10])\n",
    "# Third quartile (Q3)\n",
    "Q3 = np.median(data[10:])\n",
    "# Interquartile range (IQR)\n",
    "IQR = Q3 - Q1\n",
    "print(\"Numpy Median : \",IQR)\n",
    "\n",
    "\n",
    "# Using Numpy Percentile\n",
    "# First quartile (Q1)\n",
    "Q1 = np.percentile(data, 25, interpolation = 'midpoint')\n",
    "# Third quartile (Q3)\n",
    "Q3 = np.percentile(data, 75, interpolation = 'midpoint')\n",
    "# Interquaritle range (IQR)\n",
    "IQR = Q3 - Q1\n",
    "print(\"Numpy Percentile : \",IQR)\n",
    "\n",
    "# Using Scipy\n",
    "# Interquartile range (IQR)\n",
    "IQR = stats.iqr(data, interpolation = 'midpoint')\n",
    "print(\"Scipy : \",IQR)"
   ]
  },
  {
   "cell_type": "markdown",
   "metadata": {},
   "source": [
    "# Variance"
   ]
  },
  {
   "cell_type": "code",
   "execution_count": 6,
   "metadata": {},
   "outputs": [
    {
     "name": "stdout",
     "output_type": "stream",
     "text": [
      "4.5600000000000005\n"
     ]
    },
    {
     "data": {
      "text/plain": [
       "4.5600000000000005"
      ]
     },
     "execution_count": 6,
     "metadata": {},
     "output_type": "execute_result"
    }
   ],
   "source": [
    "import statistics\n",
    "\n",
    "data = {4, 6, 9, 3, 7}\n",
    "\n",
    "# Population Variance\n",
    "def variance(data):\n",
    "     # Number of observations\n",
    "     n = len(data)\n",
    "     # Mean of the data\n",
    "     mean = sum(data) / n\n",
    "     # Square deviations\n",
    "     deviations = [(x - mean) ** 2 for x in data]\n",
    "    # Variance\n",
    "     variance = sum(deviations) / (n)\n",
    "     return variance\n",
    "print(variance(data))\n",
    "\n",
    "\n",
    "# Using Statistics package\n",
    "statistics.pvariance(data)\n",
    "\n"
   ]
  },
  {
   "cell_type": "code",
   "execution_count": 7,
   "metadata": {},
   "outputs": [
    {
     "name": "stdout",
     "output_type": "stream",
     "text": [
      "5.7\n"
     ]
    },
    {
     "data": {
      "text/plain": [
       "5.7"
      ]
     },
     "execution_count": 7,
     "metadata": {},
     "output_type": "execute_result"
    }
   ],
   "source": [
    "import statistics\n",
    "\n",
    "data = {4, 6, 9, 3, 7}\n",
    "\n",
    "# Sample Variance\n",
    "def variance(data):\n",
    "     # Number of observations\n",
    "     n = len(data)\n",
    "     # Mean of the data\n",
    "     mean = sum(data) / n\n",
    "     # Square deviations\n",
    "     deviations = [(x - mean) ** 2 for x in data]\n",
    "    # Variance\n",
    "     variance = sum(deviations) / (n - 1)\n",
    "     return variance\n",
    "print(variance(data))\n",
    "\n",
    "\n",
    "# Using Statistics package\n",
    "statistics.variance(data)"
   ]
  },
  {
   "cell_type": "markdown",
   "metadata": {},
   "source": [
    "# Standard Deviation"
   ]
  },
  {
   "cell_type": "code",
   "execution_count": 8,
   "metadata": {},
   "outputs": [
    {
     "name": "stdout",
     "output_type": "stream",
     "text": [
      "2.1354156504062622\n"
     ]
    },
    {
     "data": {
      "text/plain": [
       "2.1354156504062622"
      ]
     },
     "execution_count": 8,
     "metadata": {},
     "output_type": "execute_result"
    }
   ],
   "source": [
    "import statistics\n",
    "import math\n",
    "\n",
    "data = {4, 6, 9, 3, 7}\n",
    "\n",
    "# Population Standard Deviation\n",
    "def popstddev(data):\n",
    "     # Number of observations\n",
    "     n = len(data)\n",
    "     # Mean of the data\n",
    "     mean = sum(data) / n\n",
    "     # Square deviations\n",
    "     deviations = [(x - mean) ** 2 for x in data]\n",
    "    # stddev\n",
    "     stddev = math.sqrt(sum(deviations) / (n))\n",
    "     return stddev\n",
    "\n",
    "print(popstddev(data))\n",
    "\n",
    "\n",
    "# Using Statistics package\n",
    "statistics.pstdev(data)\n",
    "\n"
   ]
  },
  {
   "cell_type": "code",
   "execution_count": 9,
   "metadata": {},
   "outputs": [
    {
     "name": "stdout",
     "output_type": "stream",
     "text": [
      "2.3874672772626644\n"
     ]
    },
    {
     "data": {
      "text/plain": [
       "2.3874672772626644"
      ]
     },
     "execution_count": 9,
     "metadata": {},
     "output_type": "execute_result"
    }
   ],
   "source": [
    "import statistics\n",
    "import math\n",
    "\n",
    "data = {4, 6, 9, 3, 7}\n",
    "\n",
    "# Sample Standard Deviation\n",
    "def samplestddev(data):\n",
    "     # Number of observations\n",
    "     n = len(data)\n",
    "     # Mean of the data\n",
    "     mean = sum(data) / n\n",
    "     # Square deviations\n",
    "     deviations = [(x - mean) ** 2 for x in data]\n",
    "    # stddev\n",
    "     stddev = math.sqrt(sum(deviations) / (n - 1))\n",
    "     return stddev\n",
    "print(samplestddev(data))\n",
    "\n",
    "\n",
    "# Using Statistics package\n",
    "statistics.stdev(data)"
   ]
  },
  {
   "cell_type": "markdown",
   "metadata": {},
   "source": [
    "# Measure of Assymmetry"
   ]
  },
  {
   "cell_type": "markdown",
   "metadata": {},
   "source": [
    "# Skewness"
   ]
  },
  {
   "cell_type": "code",
   "execution_count": 10,
   "metadata": {},
   "outputs": [
    {
     "name": "stdout",
     "output_type": "stream",
     "text": [
      "1.5951992273272229\n",
      "Single Age\n",
      "24.0    47\n",
      "25.0    45\n",
      "27.0    41\n",
      "23.0    41\n",
      "26.0    36\n",
      "28.0    31\n",
      "30.0    31\n",
      "29.0    28\n",
      "22.0    26\n",
      "31.0    22\n",
      "20.0    19\n",
      "21.0    19\n",
      "33.0    14\n",
      "32.0    13\n",
      "34.0    10\n",
      "36.0    10\n",
      "35.0     9\n",
      "37.0     4\n",
      "38.0     4\n",
      "40.0     3\n",
      "39.0     2\n",
      "19.0     2\n",
      "Name: count, dtype: int64\n"
     ]
    },
    {
     "ename": "TypeError",
     "evalue": "could not convert string to float: 'Avery Bradley'",
     "output_type": "error",
     "traceback": [
      "\u001b[0;31m---------------------------------------------------------------------------\u001b[0m",
      "\u001b[0;31mValueError\u001b[0m                                Traceback (most recent call last)",
      "File \u001b[0;32m~/anaconda3/envs/sameerkhanAI/lib/python3.8/site-packages/pandas/core/nanops.py:96\u001b[0m, in \u001b[0;36mdisallow.__call__.<locals>._f\u001b[0;34m(*args, **kwargs)\u001b[0m\n\u001b[1;32m     95\u001b[0m     \u001b[39mwith\u001b[39;00m np\u001b[39m.\u001b[39merrstate(invalid\u001b[39m=\u001b[39m\u001b[39m\"\u001b[39m\u001b[39mignore\u001b[39m\u001b[39m\"\u001b[39m):\n\u001b[0;32m---> 96\u001b[0m         \u001b[39mreturn\u001b[39;00m f(\u001b[39m*\u001b[39;49margs, \u001b[39m*\u001b[39;49m\u001b[39m*\u001b[39;49mkwargs)\n\u001b[1;32m     97\u001b[0m \u001b[39mexcept\u001b[39;00m \u001b[39mValueError\u001b[39;00m \u001b[39mas\u001b[39;00m e:\n\u001b[1;32m     98\u001b[0m     \u001b[39m# we want to transform an object array\u001b[39;00m\n\u001b[1;32m     99\u001b[0m     \u001b[39m# ValueError message to the more typical TypeError\u001b[39;00m\n\u001b[1;32m    100\u001b[0m     \u001b[39m# e.g. this is normally a disallowed function on\u001b[39;00m\n\u001b[1;32m    101\u001b[0m     \u001b[39m# object arrays that contain strings\u001b[39;00m\n",
      "File \u001b[0;32m~/anaconda3/envs/sameerkhanAI/lib/python3.8/site-packages/pandas/core/nanops.py:494\u001b[0m, in \u001b[0;36mmaybe_operate_rowwise.<locals>.newfunc\u001b[0;34m(values, axis, **kwargs)\u001b[0m\n\u001b[1;32m    492\u001b[0m     \u001b[39mreturn\u001b[39;00m np\u001b[39m.\u001b[39marray(results)\n\u001b[0;32m--> 494\u001b[0m \u001b[39mreturn\u001b[39;00m func(values, axis\u001b[39m=\u001b[39;49maxis, \u001b[39m*\u001b[39;49m\u001b[39m*\u001b[39;49mkwargs)\n",
      "File \u001b[0;32m~/anaconda3/envs/sameerkhanAI/lib/python3.8/site-packages/pandas/core/nanops.py:1240\u001b[0m, in \u001b[0;36mnanskew\u001b[0;34m(values, axis, skipna, mask)\u001b[0m\n\u001b[1;32m   1239\u001b[0m \u001b[39mif\u001b[39;00m \u001b[39mnot\u001b[39;00m is_float_dtype(values\u001b[39m.\u001b[39mdtype):\n\u001b[0;32m-> 1240\u001b[0m     values \u001b[39m=\u001b[39m values\u001b[39m.\u001b[39;49mastype(\u001b[39m\"\u001b[39;49m\u001b[39mf8\u001b[39;49m\u001b[39m\"\u001b[39;49m)\n\u001b[1;32m   1241\u001b[0m     count \u001b[39m=\u001b[39m _get_counts(values\u001b[39m.\u001b[39mshape, mask, axis)\n",
      "\u001b[0;31mValueError\u001b[0m: could not convert string to float: 'Avery Bradley'",
      "\nThe above exception was the direct cause of the following exception:\n",
      "\u001b[0;31mTypeError\u001b[0m                                 Traceback (most recent call last)",
      "Cell \u001b[0;32mIn[10], line 23\u001b[0m\n\u001b[1;32m     19\u001b[0m sns\u001b[39m.\u001b[39mkdeplot(age)\n\u001b[1;32m     21\u001b[0m \u001b[39m# skip the na values\u001b[39;00m\n\u001b[1;32m     22\u001b[0m \u001b[39m# find skewness in each row\u001b[39;00m\n\u001b[0;32m---> 23\u001b[0m df\u001b[39m.\u001b[39;49mskew(axis \u001b[39m=\u001b[39;49m \u001b[39m0\u001b[39;49m, skipna \u001b[39m=\u001b[39;49m \u001b[39mTrue\u001b[39;49;00m)\n",
      "File \u001b[0;32m~/anaconda3/envs/sameerkhanAI/lib/python3.8/site-packages/pandas/core/generic.py:11577\u001b[0m, in \u001b[0;36mNDFrame._add_numeric_operations.<locals>.skew\u001b[0;34m(self, axis, skipna, numeric_only, **kwargs)\u001b[0m\n\u001b[1;32m  11560\u001b[0m \u001b[39m@doc\u001b[39m(\n\u001b[1;32m  11561\u001b[0m     _num_doc,\n\u001b[1;32m  11562\u001b[0m     desc\u001b[39m=\u001b[39m\u001b[39m\"\u001b[39m\u001b[39mReturn unbiased skew over requested axis.\u001b[39m\u001b[39m\\n\u001b[39;00m\u001b[39m\\n\u001b[39;00m\u001b[39mNormalized by N-1.\u001b[39m\u001b[39m\"\u001b[39m,\n\u001b[0;32m   (...)\u001b[0m\n\u001b[1;32m  11575\u001b[0m     \u001b[39m*\u001b[39m\u001b[39m*\u001b[39mkwargs,\n\u001b[1;32m  11576\u001b[0m ):\n\u001b[0;32m> 11577\u001b[0m     \u001b[39mreturn\u001b[39;00m NDFrame\u001b[39m.\u001b[39;49mskew(\u001b[39mself\u001b[39;49m, axis, skipna, numeric_only, \u001b[39m*\u001b[39;49m\u001b[39m*\u001b[39;49mkwargs)\n",
      "File \u001b[0;32m~/anaconda3/envs/sameerkhanAI/lib/python3.8/site-packages/pandas/core/generic.py:11223\u001b[0m, in \u001b[0;36mNDFrame.skew\u001b[0;34m(self, axis, skipna, numeric_only, **kwargs)\u001b[0m\n\u001b[1;32m  11216\u001b[0m \u001b[39mdef\u001b[39;00m \u001b[39mskew\u001b[39m(\n\u001b[1;32m  11217\u001b[0m     \u001b[39mself\u001b[39m,\n\u001b[1;32m  11218\u001b[0m     axis: Axis \u001b[39m|\u001b[39m \u001b[39mNone\u001b[39;00m \u001b[39m=\u001b[39m \u001b[39m0\u001b[39m,\n\u001b[0;32m   (...)\u001b[0m\n\u001b[1;32m  11221\u001b[0m     \u001b[39m*\u001b[39m\u001b[39m*\u001b[39mkwargs,\n\u001b[1;32m  11222\u001b[0m ) \u001b[39m-\u001b[39m\u001b[39m>\u001b[39m Series \u001b[39m|\u001b[39m \u001b[39mfloat\u001b[39m:\n\u001b[0;32m> 11223\u001b[0m     \u001b[39mreturn\u001b[39;00m \u001b[39mself\u001b[39;49m\u001b[39m.\u001b[39;49m_stat_function(\n\u001b[1;32m  11224\u001b[0m         \u001b[39m\"\u001b[39;49m\u001b[39mskew\u001b[39;49m\u001b[39m\"\u001b[39;49m, nanops\u001b[39m.\u001b[39;49mnanskew, axis, skipna, numeric_only, \u001b[39m*\u001b[39;49m\u001b[39m*\u001b[39;49mkwargs\n\u001b[1;32m  11225\u001b[0m     )\n",
      "File \u001b[0;32m~/anaconda3/envs/sameerkhanAI/lib/python3.8/site-packages/pandas/core/generic.py:11158\u001b[0m, in \u001b[0;36mNDFrame._stat_function\u001b[0;34m(self, name, func, axis, skipna, numeric_only, **kwargs)\u001b[0m\n\u001b[1;32m  11154\u001b[0m     nv\u001b[39m.\u001b[39mvalidate_stat_func((), kwargs, fname\u001b[39m=\u001b[39mname)\n\u001b[1;32m  11156\u001b[0m validate_bool_kwarg(skipna, \u001b[39m\"\u001b[39m\u001b[39mskipna\u001b[39m\u001b[39m\"\u001b[39m, none_allowed\u001b[39m=\u001b[39m\u001b[39mFalse\u001b[39;00m)\n\u001b[0;32m> 11158\u001b[0m \u001b[39mreturn\u001b[39;00m \u001b[39mself\u001b[39;49m\u001b[39m.\u001b[39;49m_reduce(\n\u001b[1;32m  11159\u001b[0m     func, name\u001b[39m=\u001b[39;49mname, axis\u001b[39m=\u001b[39;49maxis, skipna\u001b[39m=\u001b[39;49mskipna, numeric_only\u001b[39m=\u001b[39;49mnumeric_only\n\u001b[1;32m  11160\u001b[0m )\n",
      "File \u001b[0;32m~/anaconda3/envs/sameerkhanAI/lib/python3.8/site-packages/pandas/core/frame.py:10519\u001b[0m, in \u001b[0;36mDataFrame._reduce\u001b[0;34m(self, op, name, axis, skipna, numeric_only, filter_type, **kwds)\u001b[0m\n\u001b[1;32m  10515\u001b[0m     df \u001b[39m=\u001b[39m df\u001b[39m.\u001b[39mT\n\u001b[1;32m  10517\u001b[0m \u001b[39m# After possibly _get_data and transposing, we are now in the\u001b[39;00m\n\u001b[1;32m  10518\u001b[0m \u001b[39m#  simple case where we can use BlockManager.reduce\u001b[39;00m\n\u001b[0;32m> 10519\u001b[0m res \u001b[39m=\u001b[39m df\u001b[39m.\u001b[39;49m_mgr\u001b[39m.\u001b[39;49mreduce(blk_func)\n\u001b[1;32m  10520\u001b[0m out \u001b[39m=\u001b[39m df\u001b[39m.\u001b[39m_constructor(res)\u001b[39m.\u001b[39miloc[\u001b[39m0\u001b[39m]\n\u001b[1;32m  10521\u001b[0m \u001b[39mif\u001b[39;00m out_dtype \u001b[39mis\u001b[39;00m \u001b[39mnot\u001b[39;00m \u001b[39mNone\u001b[39;00m:\n",
      "File \u001b[0;32m~/anaconda3/envs/sameerkhanAI/lib/python3.8/site-packages/pandas/core/internals/managers.py:1534\u001b[0m, in \u001b[0;36mBlockManager.reduce\u001b[0;34m(self, func)\u001b[0m\n\u001b[1;32m   1532\u001b[0m res_blocks: \u001b[39mlist\u001b[39m[Block] \u001b[39m=\u001b[39m []\n\u001b[1;32m   1533\u001b[0m \u001b[39mfor\u001b[39;00m blk \u001b[39min\u001b[39;00m \u001b[39mself\u001b[39m\u001b[39m.\u001b[39mblocks:\n\u001b[0;32m-> 1534\u001b[0m     nbs \u001b[39m=\u001b[39m blk\u001b[39m.\u001b[39;49mreduce(func)\n\u001b[1;32m   1535\u001b[0m     res_blocks\u001b[39m.\u001b[39mextend(nbs)\n\u001b[1;32m   1537\u001b[0m index \u001b[39m=\u001b[39m Index([\u001b[39mNone\u001b[39;00m])  \u001b[39m# placeholder\u001b[39;00m\n",
      "File \u001b[0;32m~/anaconda3/envs/sameerkhanAI/lib/python3.8/site-packages/pandas/core/internals/blocks.py:339\u001b[0m, in \u001b[0;36mBlock.reduce\u001b[0;34m(self, func)\u001b[0m\n\u001b[1;32m    333\u001b[0m \u001b[39m@final\u001b[39m\n\u001b[1;32m    334\u001b[0m \u001b[39mdef\u001b[39;00m \u001b[39mreduce\u001b[39m(\u001b[39mself\u001b[39m, func) \u001b[39m-\u001b[39m\u001b[39m>\u001b[39m \u001b[39mlist\u001b[39m[Block]:\n\u001b[1;32m    335\u001b[0m     \u001b[39m# We will apply the function and reshape the result into a single-row\u001b[39;00m\n\u001b[1;32m    336\u001b[0m     \u001b[39m#  Block with the same mgr_locs; squeezing will be done at a higher level\u001b[39;00m\n\u001b[1;32m    337\u001b[0m     \u001b[39massert\u001b[39;00m \u001b[39mself\u001b[39m\u001b[39m.\u001b[39mndim \u001b[39m==\u001b[39m \u001b[39m2\u001b[39m\n\u001b[0;32m--> 339\u001b[0m     result \u001b[39m=\u001b[39m func(\u001b[39mself\u001b[39;49m\u001b[39m.\u001b[39;49mvalues)\n\u001b[1;32m    341\u001b[0m     \u001b[39mif\u001b[39;00m \u001b[39mself\u001b[39m\u001b[39m.\u001b[39mvalues\u001b[39m.\u001b[39mndim \u001b[39m==\u001b[39m \u001b[39m1\u001b[39m:\n\u001b[1;32m    342\u001b[0m         \u001b[39m# TODO(EA2D): special case not needed with 2D EAs\u001b[39;00m\n\u001b[1;32m    343\u001b[0m         res_values \u001b[39m=\u001b[39m np\u001b[39m.\u001b[39marray([[result]])\n",
      "File \u001b[0;32m~/anaconda3/envs/sameerkhanAI/lib/python3.8/site-packages/pandas/core/frame.py:10482\u001b[0m, in \u001b[0;36mDataFrame._reduce.<locals>.blk_func\u001b[0;34m(values, axis)\u001b[0m\n\u001b[1;32m  10480\u001b[0m     \u001b[39mreturn\u001b[39;00m values\u001b[39m.\u001b[39m_reduce(name, skipna\u001b[39m=\u001b[39mskipna, \u001b[39m*\u001b[39m\u001b[39m*\u001b[39mkwds)\n\u001b[1;32m  10481\u001b[0m \u001b[39melse\u001b[39;00m:\n\u001b[0;32m> 10482\u001b[0m     \u001b[39mreturn\u001b[39;00m op(values, axis\u001b[39m=\u001b[39;49maxis, skipna\u001b[39m=\u001b[39;49mskipna, \u001b[39m*\u001b[39;49m\u001b[39m*\u001b[39;49mkwds)\n",
      "File \u001b[0;32m~/anaconda3/envs/sameerkhanAI/lib/python3.8/site-packages/pandas/core/nanops.py:103\u001b[0m, in \u001b[0;36mdisallow.__call__.<locals>._f\u001b[0;34m(*args, **kwargs)\u001b[0m\n\u001b[1;32m     97\u001b[0m \u001b[39mexcept\u001b[39;00m \u001b[39mValueError\u001b[39;00m \u001b[39mas\u001b[39;00m e:\n\u001b[1;32m     98\u001b[0m     \u001b[39m# we want to transform an object array\u001b[39;00m\n\u001b[1;32m     99\u001b[0m     \u001b[39m# ValueError message to the more typical TypeError\u001b[39;00m\n\u001b[1;32m    100\u001b[0m     \u001b[39m# e.g. this is normally a disallowed function on\u001b[39;00m\n\u001b[1;32m    101\u001b[0m     \u001b[39m# object arrays that contain strings\u001b[39;00m\n\u001b[1;32m    102\u001b[0m     \u001b[39mif\u001b[39;00m is_object_dtype(args[\u001b[39m0\u001b[39m]):\n\u001b[0;32m--> 103\u001b[0m         \u001b[39mraise\u001b[39;00m \u001b[39mTypeError\u001b[39;00m(e) \u001b[39mfrom\u001b[39;00m \u001b[39me\u001b[39;00m\n\u001b[1;32m    104\u001b[0m     \u001b[39mraise\u001b[39;00m\n",
      "\u001b[0;31mTypeError\u001b[0m: could not convert string to float: 'Avery Bradley'"
     ]
    },
    {
     "data": {
      "image/png": "[encoded data removed]",
      "text/plain": [
       "<Figure size 640x480 with 1 Axes>"
      ]
     },
     "metadata": {},
     "output_type": "display_data"
    }
   ],
   "source": [
    "# importing pandas as pd\n",
    "import pandas as pd\n",
    "import numpy as np\n",
    "import matplotlib.pyplot as plt\n",
    "import seaborn as sns\n",
    "\n",
    "# Creating the dataframe \n",
    "df = pd.read_csv(\"nba.csv\")\n",
    "\n",
    "# Two features using groupby\n",
    "salary = df.groupby(\"Name\")[\"Salary\"].sum()\n",
    "print(salary.skew())\n",
    "sns.kdeplot(salary)\n",
    "\n",
    "# Single feature skew pandas library\n",
    "age = df[\"Age\"].value_counts()\n",
    "age.skew()\n",
    "print(\"Single\", age)\n",
    "sns.kdeplot(age)\n",
    "\n",
    "# skip the na values\n",
    "# find skewness in each row\n",
    "df.skew(axis = 0, skipna = True)"
   ]
  },
  {
   "cell_type": "code",
   "execution_count": null,
   "metadata": {},
   "outputs": [],
   "source": []
  }
 ],
 "metadata": {
  "kernelspec": {
   "display_name": "sameerkhanAI",
   "language": "python",
   "name": "python3"
  },
  "language_info": {
   "codemirror_mode": {
    "name": "ipython",
    "version": 3
   },
   "file_extension": ".py",
   "mimetype": "text/x-python",
   "name": "python",
   "nbconvert_exporter": "python",
   "pygments_lexer": "ipython3",
   "version": "3.8.17"
  },
  "orig_nbformat": 2
 },
 "nbformat": 4,
 "nbformat_minor": 2
}
