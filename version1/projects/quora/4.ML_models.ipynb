{
 "cells": [
  {
   "cell_type": "code",
   "execution_count": 5,
   "metadata": {
    "colab": {},
    "colab_type": "code",
    "id": "6VXPfRp-tARR",
    "outputId": "6c27acaf-2c6a-467f-fd7a-68efce98e30b"
   },
   "outputs": [],
   "source": [
    "import pandas as pd\n",
    "import matplotlib.pyplot as plt\n",
    "import re\n",
    "import time\n",
    "import warnings\n",
    "import sqlite3\n",
    "from sqlalchemy import create_engine # database connection\n",
    "import csv\n",
    "import os\n",
    "warnings.filterwarnings(\"ignore\")\n",
    "import datetime as dt\n",
    "import numpy as np\n",
    "from nltk.corpus import stopwords\n",
    "from sklearn.decomposition import TruncatedSVD\n",
    "from sklearn.preprocessing import normalize\n",
    "from sklearn.feature_extraction.text import CountVectorizer\n",
    "from sklearn.manifold import TSNE\n",
    "import seaborn as sns\n",
    "from sklearn.neighbors import KNeighborsClassifier\n",
    "from sklearn.metrics import confusion_matrix\n",
    "# from sklearn.metrics.classification import accuracy_score, log_loss\n",
    "from sklearn.feature_extraction.text import TfidfVectorizer\n",
    "from collections import Counter\n",
    "from scipy.sparse import hstack\n",
    "from sklearn.multiclass import OneVsRestClassifier\n",
    "from sklearn.svm import SVC\n",
    "# from sklearn.cross_validation import StratifiedKFold \n",
    "from collections import Counter, defaultdict\n",
    "from sklearn.calibration import CalibratedClassifierCV\n",
    "from sklearn.naive_bayes import MultinomialNB\n",
    "from sklearn.naive_bayes import GaussianNB\n",
    "from sklearn.model_selection import train_test_split\n",
    "from sklearn.model_selection import GridSearchCV\n",
    "import math\n",
    "from sklearn.metrics import normalized_mutual_info_score\n",
    "from sklearn.ensemble import RandomForestClassifier\n",
    "\n",
    "\n",
    "\n",
    "from sklearn.model_selection import cross_val_score\n",
    "from sklearn.linear_model import SGDClassifier\n",
    "from mlxtend.classifier import StackingClassifier\n",
    "\n",
    "from sklearn import model_selection\n",
    "from sklearn.linear_model import LogisticRegression\n",
    "from sklearn.metrics import precision_recall_curve, auc, roc_curve"
   ]
  },
  {
   "cell_type": "markdown",
   "metadata": {
    "colab_type": "text",
    "id": "ZihvUPvHtARd"
   },
   "source": [
    "<h1>4. Machine Learning Models </h1>"
   ]
  },
  {
   "cell_type": "markdown",
   "metadata": {
    "colab_type": "text",
    "id": "CtN9VBPutARf"
   },
   "source": [
    "<h2> 4.1 Reading data from file and storing into sql table </h2>"
   ]
  },
  {
   "cell_type": "code",
   "execution_count": 6,
   "metadata": {
    "colab": {},
    "colab_type": "code",
    "id": "owBQdjY1tARh"
   },
   "outputs": [
    {
     "output_type": "error",
     "ename": "FileNotFoundError",
     "evalue": "[Errno 2] No such file or directory: 'final_features.csv'",
     "traceback": [
      "\u001b[0;31m---------------------------------------------------------------------------\u001b[0m",
      "\u001b[0;31mFileNotFoundError\u001b[0m                         Traceback (most recent call last)",
      "\u001b[0;32m<ipython-input-6-5a06afcf1686>\u001b[0m in \u001b[0;36m<module>\u001b[0;34m\u001b[0m\n\u001b[1;32m      6\u001b[0m     \u001b[0mj\u001b[0m \u001b[0;34m=\u001b[0m \u001b[0;36m0\u001b[0m\u001b[0;34m\u001b[0m\u001b[0;34m\u001b[0m\u001b[0m\n\u001b[1;32m      7\u001b[0m     \u001b[0mindex_start\u001b[0m \u001b[0;34m=\u001b[0m \u001b[0;36m1\u001b[0m\u001b[0;34m\u001b[0m\u001b[0;34m\u001b[0m\u001b[0m\n\u001b[0;32m----> 8\u001b[0;31m     \u001b[0;32mfor\u001b[0m \u001b[0mdf\u001b[0m \u001b[0;32min\u001b[0m \u001b[0mpd\u001b[0m\u001b[0;34m.\u001b[0m\u001b[0mread_csv\u001b[0m\u001b[0;34m(\u001b[0m\u001b[0;34m'final_features.csv'\u001b[0m\u001b[0;34m,\u001b[0m \u001b[0mnames\u001b[0m\u001b[0;34m=\u001b[0m\u001b[0;34m[\u001b[0m\u001b[0;34m'Unnamed: 0'\u001b[0m\u001b[0;34m,\u001b[0m\u001b[0;34m'id'\u001b[0m\u001b[0;34m,\u001b[0m\u001b[0;34m'is_duplicate'\u001b[0m\u001b[0;34m,\u001b[0m\u001b[0;34m'cwc_min'\u001b[0m\u001b[0;34m,\u001b[0m\u001b[0;34m'cwc_max'\u001b[0m\u001b[0;34m,\u001b[0m\u001b[0;34m'csc_min'\u001b[0m\u001b[0;34m,\u001b[0m\u001b[0;34m'csc_max'\u001b[0m\u001b[0;34m,\u001b[0m\u001b[0;34m'ctc_min'\u001b[0m\u001b[0;34m,\u001b[0m\u001b[0;34m'ctc_max'\u001b[0m\u001b[0;34m,\u001b[0m\u001b[0;34m'last_word_eq'\u001b[0m\u001b[0;34m,\u001b[0m\u001b[0;34m'first_word_eq'\u001b[0m\u001b[0;34m,\u001b[0m\u001b[0;34m'abs_len_diff'\u001b[0m\u001b[0;34m,\u001b[0m\u001b[0;34m'mean_len'\u001b[0m\u001b[0;34m,\u001b[0m\u001b[0;34m'token_set_ratio'\u001b[0m\u001b[0;34m,\u001b[0m\u001b[0;34m'token_sort_ratio'\u001b[0m\u001b[0;34m,\u001b[0m\u001b[0;34m'fuzz_ratio'\u001b[0m\u001b[0;34m,\u001b[0m\u001b[0;34m'fuzz_partial_ratio'\u001b[0m\u001b[0;34m,\u001b[0m\u001b[0;34m'longest_substr_ratio'\u001b[0m\u001b[0;34m,\u001b[0m\u001b[0;34m'freq_qid1'\u001b[0m\u001b[0;34m,\u001b[0m\u001b[0;34m'freq_qid2'\u001b[0m\u001b[0;34m,\u001b[0m\u001b[0;34m'q1len'\u001b[0m\u001b[0;34m,\u001b[0m\u001b[0;34m'q2len'\u001b[0m\u001b[0;34m,\u001b[0m\u001b[0;34m'q1_n_words'\u001b[0m\u001b[0;34m,\u001b[0m\u001b[0;34m'q2_n_words'\u001b[0m\u001b[0;34m,\u001b[0m\u001b[0;34m'word_Common'\u001b[0m\u001b[0;34m,\u001b[0m\u001b[0;34m'word_Total'\u001b[0m\u001b[0;34m,\u001b[0m\u001b[0;34m'word_share'\u001b[0m\u001b[0;34m,\u001b[0m\u001b[0;34m'freq_q1+q2'\u001b[0m\u001b[0;34m,\u001b[0m\u001b[0;34m'freq_q1-q2'\u001b[0m\u001b[0;34m,\u001b[0m\u001b[0;34m'0_x'\u001b[0m\u001b[0;34m,\u001b[0m\u001b[0;34m'1_x'\u001b[0m\u001b[0;34m,\u001b[0m\u001b[0;34m'2_x'\u001b[0m\u001b[0;34m,\u001b[0m\u001b[0;34m'3_x'\u001b[0m\u001b[0;34m,\u001b[0m\u001b[0;34m'4_x'\u001b[0m\u001b[0;34m,\u001b[0m\u001b[0;34m'5_x'\u001b[0m\u001b[0;34m,\u001b[0m\u001b[0;34m'6_x'\u001b[0m\u001b[0;34m,\u001b[0m\u001b[0;34m'7_x'\u001b[0m\u001b[0;34m,\u001b[0m\u001b[0;34m'8_x'\u001b[0m\u001b[0;34m,\u001b[0m\u001b[0;34m'9_x'\u001b[0m\u001b[0;34m,\u001b[0m\u001b[0;34m'10_x'\u001b[0m\u001b[0;34m,\u001b[0m\u001b[0;34m'11_x'\u001b[0m\u001b[0;34m,\u001b[0m\u001b[0;34m'12_x'\u001b[0m\u001b[0;34m,\u001b[0m\u001b[0;34m'13_x'\u001b[0m\u001b[0;34m,\u001b[0m\u001b[0;34m'14_x'\u001b[0m\u001b[0;34m,\u001b[0m\u001b[0;34m'15_x'\u001b[0m\u001b[0;34m,\u001b[0m\u001b[0;34m'16_x'\u001b[0m\u001b[0;34m,\u001b[0m\u001b[0;34m'17_x'\u001b[0m\u001b[0;34m,\u001b[0m\u001b[0;34m'18_x'\u001b[0m\u001b[0;34m,\u001b[0m\u001b[0;34m'19_x'\u001b[0m\u001b[0;34m,\u001b[0m\u001b[0;34m'20_x'\u001b[0m\u001b[0;34m,\u001b[0m\u001b[0;34m'21_x'\u001b[0m\u001b[0;34m,\u001b[0m\u001b[0;34m'22_x'\u001b[0m\u001b[0;34m,\u001b[0m\u001b[0;34m'23_x'\u001b[0m\u001b[0;34m,\u001b[0m\u001b[0;34m'24_x'\u001b[0m\u001b[0;34m,\u001b[0m\u001b[0;34m'25_x'\u001b[0m\u001b[0;34m,\u001b[0m\u001b[0;34m'26_x'\u001b[0m\u001b[0;34m,\u001b[0m\u001b[0;34m'27_x'\u001b[0m\u001b[0;34m,\u001b[0m\u001b[0;34m'28_x'\u001b[0m\u001b[0;34m,\u001b[0m\u001b[0;34m'29_x'\u001b[0m\u001b[0;34m,\u001b[0m\u001b[0;34m'30_x'\u001b[0m\u001b[0;34m,\u001b[0m\u001b[0;34m'31_x'\u001b[0m\u001b[0;34m,\u001b[0m\u001b[0;34m'32_x'\u001b[0m\u001b[0;34m,\u001b[0m\u001b[0;34m'33_x'\u001b[0m\u001b[0;34m,\u001b[0m\u001b[0;34m'34_x'\u001b[0m\u001b[0;34m,\u001b[0m\u001b[0;34m'35_x'\u001b[0m\u001b[0;34m,\u001b[0m\u001b[0;34m'36_x'\u001b[0m\u001b[0;34m,\u001b[0m\u001b[0;34m'37_x'\u001b[0m\u001b[0;34m,\u001b[0m\u001b[0;34m'38_x'\u001b[0m\u001b[0;34m,\u001b[0m\u001b[0;34m'39_x'\u001b[0m\u001b[0;34m,\u001b[0m\u001b[0;34m'40_x'\u001b[0m\u001b[0;34m,\u001b[0m\u001b[0;34m'41_x'\u001b[0m\u001b[0;34m,\u001b[0m\u001b[0;34m'42_x'\u001b[0m\u001b[0;34m,\u001b[0m\u001b[0;34m'43_x'\u001b[0m\u001b[0;34m,\u001b[0m\u001b[0;34m'44_x'\u001b[0m\u001b[0;34m,\u001b[0m\u001b[0;34m'45_x'\u001b[0m\u001b[0;34m,\u001b[0m\u001b[0;34m'46_x'\u001b[0m\u001b[0;34m,\u001b[0m\u001b[0;34m'47_x'\u001b[0m\u001b[0;34m,\u001b[0m\u001b[0;34m'48_x'\u001b[0m\u001b[0;34m,\u001b[0m\u001b[0;34m'49_x'\u001b[0m\u001b[0;34m,\u001b[0m\u001b[0;34m'50_x'\u001b[0m\u001b[0;34m,\u001b[0m\u001b[0;34m'51_x'\u001b[0m\u001b[0;34m,\u001b[0m\u001b[0;34m'52_x'\u001b[0m\u001b[0;34m,\u001b[0m\u001b[0;34m'53_x'\u001b[0m\u001b[0;34m,\u001b[0m\u001b[0;34m'54_x'\u001b[0m\u001b[0;34m,\u001b[0m\u001b[0;34m'55_x'\u001b[0m\u001b[0;34m,\u001b[0m\u001b[0;34m'56_x'\u001b[0m\u001b[0;34m,\u001b[0m\u001b[0;34m'57_x'\u001b[0m\u001b[0;34m,\u001b[0m\u001b[0;34m'58_x'\u001b[0m\u001b[0;34m,\u001b[0m\u001b[0;34m'59_x'\u001b[0m\u001b[0;34m,\u001b[0m\u001b[0;34m'60_x'\u001b[0m\u001b[0;34m,\u001b[0m\u001b[0;34m'61_x'\u001b[0m\u001b[0;34m,\u001b[0m\u001b[0;34m'62_x'\u001b[0m\u001b[0;34m,\u001b[0m\u001b[0;34m'63_x'\u001b[0m\u001b[0;34m,\u001b[0m\u001b[0;34m'64_x'\u001b[0m\u001b[0;34m,\u001b[0m\u001b[0;34m'65_x'\u001b[0m\u001b[0;34m,\u001b[0m\u001b[0;34m'66_x'\u001b[0m\u001b[0;34m,\u001b[0m\u001b[0;34m'67_x'\u001b[0m\u001b[0;34m,\u001b[0m\u001b[0;34m'68_x'\u001b[0m\u001b[0;34m,\u001b[0m\u001b[0;34m'69_x'\u001b[0m\u001b[0;34m,\u001b[0m\u001b[0;34m'70_x'\u001b[0m\u001b[0;34m,\u001b[0m\u001b[0;34m'71_x'\u001b[0m\u001b[0;34m,\u001b[0m\u001b[0;34m'72_x'\u001b[0m\u001b[0;34m,\u001b[0m\u001b[0;34m'73_x'\u001b[0m\u001b[0;34m,\u001b[0m\u001b[0;34m'74_x'\u001b[0m\u001b[0;34m,\u001b[0m\u001b[0;34m'75_x'\u001b[0m\u001b[0;34m,\u001b[0m\u001b[0;34m'76_x'\u001b[0m\u001b[0;34m,\u001b[0m\u001b[0;34m'77_x'\u001b[0m\u001b[0;34m,\u001b[0m\u001b[0;34m'78_x'\u001b[0m\u001b[0;34m,\u001b[0m\u001b[0;34m'79_x'\u001b[0m\u001b[0;34m,\u001b[0m\u001b[0;34m'80_x'\u001b[0m\u001b[0;34m,\u001b[0m\u001b[0;34m'81_x'\u001b[0m\u001b[0;34m,\u001b[0m\u001b[0;34m'82_x'\u001b[0m\u001b[0;34m,\u001b[0m\u001b[0;34m'83_x'\u001b[0m\u001b[0;34m,\u001b[0m\u001b[0;34m'84_x'\u001b[0m\u001b[0;34m,\u001b[0m\u001b[0;34m'85_x'\u001b[0m\u001b[0;34m,\u001b[0m\u001b[0;34m'86_x'\u001b[0m\u001b[0;34m,\u001b[0m\u001b[0;34m'87_x'\u001b[0m\u001b[0;34m,\u001b[0m\u001b[0;34m'88_x'\u001b[0m\u001b[0;34m,\u001b[0m\u001b[0;34m'89_x'\u001b[0m\u001b[0;34m,\u001b[0m\u001b[0;34m'90_x'\u001b[0m\u001b[0;34m,\u001b[0m\u001b[0;34m'91_x'\u001b[0m\u001b[0;34m,\u001b[0m\u001b[0;34m'92_x'\u001b[0m\u001b[0;34m,\u001b[0m\u001b[0;34m'93_x'\u001b[0m\u001b[0;34m,\u001b[0m\u001b[0;34m'94_x'\u001b[0m\u001b[0;34m,\u001b[0m\u001b[0;34m'95_x'\u001b[0m\u001b[0;34m,\u001b[0m\u001b[0;34m'96_x'\u001b[0m\u001b[0;34m,\u001b[0m\u001b[0;34m'97_x'\u001b[0m\u001b[0;34m,\u001b[0m\u001b[0;34m'98_x'\u001b[0m\u001b[0;34m,\u001b[0m\u001b[0;34m'99_x'\u001b[0m\u001b[0;34m,\u001b[0m\u001b[0;34m'100_x'\u001b[0m\u001b[0;34m,\u001b[0m\u001b[0;34m'101_x'\u001b[0m\u001b[0;34m,\u001b[0m\u001b[0;34m'102_x'\u001b[0m\u001b[0;34m,\u001b[0m\u001b[0;34m'103_x'\u001b[0m\u001b[0;34m,\u001b[0m\u001b[0;34m'104_x'\u001b[0m\u001b[0;34m,\u001b[0m\u001b[0;34m'105_x'\u001b[0m\u001b[0;34m,\u001b[0m\u001b[0;34m'106_x'\u001b[0m\u001b[0;34m,\u001b[0m\u001b[0;34m'107_x'\u001b[0m\u001b[0;34m,\u001b[0m\u001b[0;34m'108_x'\u001b[0m\u001b[0;34m,\u001b[0m\u001b[0;34m'109_x'\u001b[0m\u001b[0;34m,\u001b[0m\u001b[0;34m'110_x'\u001b[0m\u001b[0;34m,\u001b[0m\u001b[0;34m'111_x'\u001b[0m\u001b[0;34m,\u001b[0m\u001b[0;34m'112_x'\u001b[0m\u001b[0;34m,\u001b[0m\u001b[0;34m'113_x'\u001b[0m\u001b[0;34m,\u001b[0m\u001b[0;34m'114_x'\u001b[0m\u001b[0;34m,\u001b[0m\u001b[0;34m'115_x'\u001b[0m\u001b[0;34m,\u001b[0m\u001b[0;34m'116_x'\u001b[0m\u001b[0;34m,\u001b[0m\u001b[0;34m'117_x'\u001b[0m\u001b[0;34m,\u001b[0m\u001b[0;34m'118_x'\u001b[0m\u001b[0;34m,\u001b[0m\u001b[0;34m'119_x'\u001b[0m\u001b[0;34m,\u001b[0m\u001b[0;34m'120_x'\u001b[0m\u001b[0;34m,\u001b[0m\u001b[0;34m'121_x'\u001b[0m\u001b[0;34m,\u001b[0m\u001b[0;34m'122_x'\u001b[0m\u001b[0;34m,\u001b[0m\u001b[0;34m'123_x'\u001b[0m\u001b[0;34m,\u001b[0m\u001b[0;34m'124_x'\u001b[0m\u001b[0;34m,\u001b[0m\u001b[0;34m'125_x'\u001b[0m\u001b[0;34m,\u001b[0m\u001b[0;34m'126_x'\u001b[0m\u001b[0;34m,\u001b[0m\u001b[0;34m'127_x'\u001b[0m\u001b[0;34m,\u001b[0m\u001b[0;34m'128_x'\u001b[0m\u001b[0;34m,\u001b[0m\u001b[0;34m'129_x'\u001b[0m\u001b[0;34m,\u001b[0m\u001b[0;34m'130_x'\u001b[0m\u001b[0;34m,\u001b[0m\u001b[0;34m'131_x'\u001b[0m\u001b[0;34m,\u001b[0m\u001b[0;34m'132_x'\u001b[0m\u001b[0;34m,\u001b[0m\u001b[0;34m'133_x'\u001b[0m\u001b[0;34m,\u001b[0m\u001b[0;34m'134_x'\u001b[0m\u001b[0;34m,\u001b[0m\u001b[0;34m'135_x'\u001b[0m\u001b[0;34m,\u001b[0m\u001b[0;34m'136_x'\u001b[0m\u001b[0;34m,\u001b[0m\u001b[0;34m'137_x'\u001b[0m\u001b[0;34m,\u001b[0m\u001b[0;34m'138_x'\u001b[0m\u001b[0;34m,\u001b[0m\u001b[0;34m'139_x'\u001b[0m\u001b[0;34m,\u001b[0m\u001b[0;34m'140_x'\u001b[0m\u001b[0;34m,\u001b[0m\u001b[0;34m'141_x'\u001b[0m\u001b[0;34m,\u001b[0m\u001b[0;34m'142_x'\u001b[0m\u001b[0;34m,\u001b[0m\u001b[0;34m'143_x'\u001b[0m\u001b[0;34m,\u001b[0m\u001b[0;34m'144_x'\u001b[0m\u001b[0;34m,\u001b[0m\u001b[0;34m'145_x'\u001b[0m\u001b[0;34m,\u001b[0m\u001b[0;34m'146_x'\u001b[0m\u001b[0;34m,\u001b[0m\u001b[0;34m'147_x'\u001b[0m\u001b[0;34m,\u001b[0m\u001b[0;34m'148_x'\u001b[0m\u001b[0;34m,\u001b[0m\u001b[0;34m'149_x'\u001b[0m\u001b[0;34m,\u001b[0m\u001b[0;34m'150_x'\u001b[0m\u001b[0;34m,\u001b[0m\u001b[0;34m'151_x'\u001b[0m\u001b[0;34m,\u001b[0m\u001b[0;34m'152_x'\u001b[0m\u001b[0;34m,\u001b[0m\u001b[0;34m'153_x'\u001b[0m\u001b[0;34m,\u001b[0m\u001b[0;34m'154_x'\u001b[0m\u001b[0;34m,\u001b[0m\u001b[0;34m'155_x'\u001b[0m\u001b[0;34m,\u001b[0m\u001b[0;34m'156_x'\u001b[0m\u001b[0;34m,\u001b[0m\u001b[0;34m'157_x'\u001b[0m\u001b[0;34m,\u001b[0m\u001b[0;34m'158_x'\u001b[0m\u001b[0;34m,\u001b[0m\u001b[0;34m'159_x'\u001b[0m\u001b[0;34m,\u001b[0m\u001b[0;34m'160_x'\u001b[0m\u001b[0;34m,\u001b[0m\u001b[0;34m'161_x'\u001b[0m\u001b[0;34m,\u001b[0m\u001b[0;34m'162_x'\u001b[0m\u001b[0;34m,\u001b[0m\u001b[0;34m'163_x'\u001b[0m\u001b[0;34m,\u001b[0m\u001b[0;34m'164_x'\u001b[0m\u001b[0;34m,\u001b[0m\u001b[0;34m'165_x'\u001b[0m\u001b[0;34m,\u001b[0m\u001b[0;34m'166_x'\u001b[0m\u001b[0;34m,\u001b[0m\u001b[0;34m'167_x'\u001b[0m\u001b[0;34m,\u001b[0m\u001b[0;34m'168_x'\u001b[0m\u001b[0;34m,\u001b[0m\u001b[0;34m'169_x'\u001b[0m\u001b[0;34m,\u001b[0m\u001b[0;34m'170_x'\u001b[0m\u001b[0;34m,\u001b[0m\u001b[0;34m'171_x'\u001b[0m\u001b[0;34m,\u001b[0m\u001b[0;34m'172_x'\u001b[0m\u001b[0;34m,\u001b[0m\u001b[0;34m'173_x'\u001b[0m\u001b[0;34m,\u001b[0m\u001b[0;34m'174_x'\u001b[0m\u001b[0;34m,\u001b[0m\u001b[0;34m'175_x'\u001b[0m\u001b[0;34m,\u001b[0m\u001b[0;34m'176_x'\u001b[0m\u001b[0;34m,\u001b[0m\u001b[0;34m'177_x'\u001b[0m\u001b[0;34m,\u001b[0m\u001b[0;34m'178_x'\u001b[0m\u001b[0;34m,\u001b[0m\u001b[0;34m'179_x'\u001b[0m\u001b[0;34m,\u001b[0m\u001b[0;34m'180_x'\u001b[0m\u001b[0;34m,\u001b[0m\u001b[0;34m'181_x'\u001b[0m\u001b[0;34m,\u001b[0m\u001b[0;34m'182_x'\u001b[0m\u001b[0;34m,\u001b[0m\u001b[0;34m'183_x'\u001b[0m\u001b[0;34m,\u001b[0m\u001b[0;34m'184_x'\u001b[0m\u001b[0;34m,\u001b[0m\u001b[0;34m'185_x'\u001b[0m\u001b[0;34m,\u001b[0m\u001b[0;34m'186_x'\u001b[0m\u001b[0;34m,\u001b[0m\u001b[0;34m'187_x'\u001b[0m\u001b[0;34m,\u001b[0m\u001b[0;34m'188_x'\u001b[0m\u001b[0;34m,\u001b[0m\u001b[0;34m'189_x'\u001b[0m\u001b[0;34m,\u001b[0m\u001b[0;34m'190_x'\u001b[0m\u001b[0;34m,\u001b[0m\u001b[0;34m'191_x'\u001b[0m\u001b[0;34m,\u001b[0m\u001b[0;34m'192_x'\u001b[0m\u001b[0;34m,\u001b[0m\u001b[0;34m'193_x'\u001b[0m\u001b[0;34m,\u001b[0m\u001b[0;34m'194_x'\u001b[0m\u001b[0;34m,\u001b[0m\u001b[0;34m'195_x'\u001b[0m\u001b[0;34m,\u001b[0m\u001b[0;34m'196_x'\u001b[0m\u001b[0;34m,\u001b[0m\u001b[0;34m'197_x'\u001b[0m\u001b[0;34m,\u001b[0m\u001b[0;34m'198_x'\u001b[0m\u001b[0;34m,\u001b[0m\u001b[0;34m'199_x'\u001b[0m\u001b[0;34m,\u001b[0m\u001b[0;34m'200_x'\u001b[0m\u001b[0;34m,\u001b[0m\u001b[0;34m'201_x'\u001b[0m\u001b[0;34m,\u001b[0m\u001b[0;34m'202_x'\u001b[0m\u001b[0;34m,\u001b[0m\u001b[0;34m'203_x'\u001b[0m\u001b[0;34m,\u001b[0m\u001b[0;34m'204_x'\u001b[0m\u001b[0;34m,\u001b[0m\u001b[0;34m'205_x'\u001b[0m\u001b[0;34m,\u001b[0m\u001b[0;34m'206_x'\u001b[0m\u001b[0;34m,\u001b[0m\u001b[0;34m'207_x'\u001b[0m\u001b[0;34m,\u001b[0m\u001b[0;34m'208_x'\u001b[0m\u001b[0;34m,\u001b[0m\u001b[0;34m'209_x'\u001b[0m\u001b[0;34m,\u001b[0m\u001b[0;34m'210_x'\u001b[0m\u001b[0;34m,\u001b[0m\u001b[0;34m'211_x'\u001b[0m\u001b[0;34m,\u001b[0m\u001b[0;34m'212_x'\u001b[0m\u001b[0;34m,\u001b[0m\u001b[0;34m'213_x'\u001b[0m\u001b[0;34m,\u001b[0m\u001b[0;34m'214_x'\u001b[0m\u001b[0;34m,\u001b[0m\u001b[0;34m'215_x'\u001b[0m\u001b[0;34m,\u001b[0m\u001b[0;34m'216_x'\u001b[0m\u001b[0;34m,\u001b[0m\u001b[0;34m'217_x'\u001b[0m\u001b[0;34m,\u001b[0m\u001b[0;34m'218_x'\u001b[0m\u001b[0;34m,\u001b[0m\u001b[0;34m'219_x'\u001b[0m\u001b[0;34m,\u001b[0m\u001b[0;34m'220_x'\u001b[0m\u001b[0;34m,\u001b[0m\u001b[0;34m'221_x'\u001b[0m\u001b[0;34m,\u001b[0m\u001b[0;34m'222_x'\u001b[0m\u001b[0;34m,\u001b[0m\u001b[0;34m'223_x'\u001b[0m\u001b[0;34m,\u001b[0m\u001b[0;34m'224_x'\u001b[0m\u001b[0;34m,\u001b[0m\u001b[0;34m'225_x'\u001b[0m\u001b[0;34m,\u001b[0m\u001b[0;34m'226_x'\u001b[0m\u001b[0;34m,\u001b[0m\u001b[0;34m'227_x'\u001b[0m\u001b[0;34m,\u001b[0m\u001b[0;34m'228_x'\u001b[0m\u001b[0;34m,\u001b[0m\u001b[0;34m'229_x'\u001b[0m\u001b[0;34m,\u001b[0m\u001b[0;34m'230_x'\u001b[0m\u001b[0;34m,\u001b[0m\u001b[0;34m'231_x'\u001b[0m\u001b[0;34m,\u001b[0m\u001b[0;34m'232_x'\u001b[0m\u001b[0;34m,\u001b[0m\u001b[0;34m'233_x'\u001b[0m\u001b[0;34m,\u001b[0m\u001b[0;34m'234_x'\u001b[0m\u001b[0;34m,\u001b[0m\u001b[0;34m'235_x'\u001b[0m\u001b[0;34m,\u001b[0m\u001b[0;34m'236_x'\u001b[0m\u001b[0;34m,\u001b[0m\u001b[0;34m'237_x'\u001b[0m\u001b[0;34m,\u001b[0m\u001b[0;34m'238_x'\u001b[0m\u001b[0;34m,\u001b[0m\u001b[0;34m'239_x'\u001b[0m\u001b[0;34m,\u001b[0m\u001b[0;34m'240_x'\u001b[0m\u001b[0;34m,\u001b[0m\u001b[0;34m'241_x'\u001b[0m\u001b[0;34m,\u001b[0m\u001b[0;34m'242_x'\u001b[0m\u001b[0;34m,\u001b[0m\u001b[0;34m'243_x'\u001b[0m\u001b[0;34m,\u001b[0m\u001b[0;34m'244_x'\u001b[0m\u001b[0;34m,\u001b[0m\u001b[0;34m'245_x'\u001b[0m\u001b[0;34m,\u001b[0m\u001b[0;34m'246_x'\u001b[0m\u001b[0;34m,\u001b[0m\u001b[0;34m'247_x'\u001b[0m\u001b[0;34m,\u001b[0m\u001b[0;34m'248_x'\u001b[0m\u001b[0;34m,\u001b[0m\u001b[0;34m'249_x'\u001b[0m\u001b[0;34m,\u001b[0m\u001b[0;34m'250_x'\u001b[0m\u001b[0;34m,\u001b[0m\u001b[0;34m'251_x'\u001b[0m\u001b[0;34m,\u001b[0m\u001b[0;34m'252_x'\u001b[0m\u001b[0;34m,\u001b[0m\u001b[0;34m'253_x'\u001b[0m\u001b[0;34m,\u001b[0m\u001b[0;34m'254_x'\u001b[0m\u001b[0;34m,\u001b[0m\u001b[0;34m'255_x'\u001b[0m\u001b[0;34m,\u001b[0m\u001b[0;34m'256_x'\u001b[0m\u001b[0;34m,\u001b[0m\u001b[0;34m'257_x'\u001b[0m\u001b[0;34m,\u001b[0m\u001b[0;34m'258_x'\u001b[0m\u001b[0;34m,\u001b[0m\u001b[0;34m'259_x'\u001b[0m\u001b[0;34m,\u001b[0m\u001b[0;34m'260_x'\u001b[0m\u001b[0;34m,\u001b[0m\u001b[0;34m'261_x'\u001b[0m\u001b[0;34m,\u001b[0m\u001b[0;34m'262_x'\u001b[0m\u001b[0;34m,\u001b[0m\u001b[0;34m'263_x'\u001b[0m\u001b[0;34m,\u001b[0m\u001b[0;34m'264_x'\u001b[0m\u001b[0;34m,\u001b[0m\u001b[0;34m'265_x'\u001b[0m\u001b[0;34m,\u001b[0m\u001b[0;34m'266_x'\u001b[0m\u001b[0;34m,\u001b[0m\u001b[0;34m'267_x'\u001b[0m\u001b[0;34m,\u001b[0m\u001b[0;34m'268_x'\u001b[0m\u001b[0;34m,\u001b[0m\u001b[0;34m'269_x'\u001b[0m\u001b[0;34m,\u001b[0m\u001b[0;34m'270_x'\u001b[0m\u001b[0;34m,\u001b[0m\u001b[0;34m'271_x'\u001b[0m\u001b[0;34m,\u001b[0m\u001b[0;34m'272_x'\u001b[0m\u001b[0;34m,\u001b[0m\u001b[0;34m'273_x'\u001b[0m\u001b[0;34m,\u001b[0m\u001b[0;34m'274_x'\u001b[0m\u001b[0;34m,\u001b[0m\u001b[0;34m'275_x'\u001b[0m\u001b[0;34m,\u001b[0m\u001b[0;34m'276_x'\u001b[0m\u001b[0;34m,\u001b[0m\u001b[0;34m'277_x'\u001b[0m\u001b[0;34m,\u001b[0m\u001b[0;34m'278_x'\u001b[0m\u001b[0;34m,\u001b[0m\u001b[0;34m'279_x'\u001b[0m\u001b[0;34m,\u001b[0m\u001b[0;34m'280_x'\u001b[0m\u001b[0;34m,\u001b[0m\u001b[0;34m'281_x'\u001b[0m\u001b[0;34m,\u001b[0m\u001b[0;34m'282_x'\u001b[0m\u001b[0;34m,\u001b[0m\u001b[0;34m'283_x'\u001b[0m\u001b[0;34m,\u001b[0m\u001b[0;34m'284_x'\u001b[0m\u001b[0;34m,\u001b[0m\u001b[0;34m'285_x'\u001b[0m\u001b[0;34m,\u001b[0m\u001b[0;34m'286_x'\u001b[0m\u001b[0;34m,\u001b[0m\u001b[0;34m'287_x'\u001b[0m\u001b[0;34m,\u001b[0m\u001b[0;34m'288_x'\u001b[0m\u001b[0;34m,\u001b[0m\u001b[0;34m'289_x'\u001b[0m\u001b[0;34m,\u001b[0m\u001b[0;34m'290_x'\u001b[0m\u001b[0;34m,\u001b[0m\u001b[0;34m'291_x'\u001b[0m\u001b[0;34m,\u001b[0m\u001b[0;34m'292_x'\u001b[0m\u001b[0;34m,\u001b[0m\u001b[0;34m'293_x'\u001b[0m\u001b[0;34m,\u001b[0m\u001b[0;34m'294_x'\u001b[0m\u001b[0;34m,\u001b[0m\u001b[0;34m'295_x'\u001b[0m\u001b[0;34m,\u001b[0m\u001b[0;34m'296_x'\u001b[0m\u001b[0;34m,\u001b[0m\u001b[0;34m'297_x'\u001b[0m\u001b[0;34m,\u001b[0m\u001b[0;34m'298_x'\u001b[0m\u001b[0;34m,\u001b[0m\u001b[0;34m'299_x'\u001b[0m\u001b[0;34m,\u001b[0m\u001b[0;34m'300_x'\u001b[0m\u001b[0;34m,\u001b[0m\u001b[0;34m'301_x'\u001b[0m\u001b[0;34m,\u001b[0m\u001b[0;34m'302_x'\u001b[0m\u001b[0;34m,\u001b[0m\u001b[0;34m'303_x'\u001b[0m\u001b[0;34m,\u001b[0m\u001b[0;34m'304_x'\u001b[0m\u001b[0;34m,\u001b[0m\u001b[0;34m'305_x'\u001b[0m\u001b[0;34m,\u001b[0m\u001b[0;34m'306_x'\u001b[0m\u001b[0;34m,\u001b[0m\u001b[0;34m'307_x'\u001b[0m\u001b[0;34m,\u001b[0m\u001b[0;34m'308_x'\u001b[0m\u001b[0;34m,\u001b[0m\u001b[0;34m'309_x'\u001b[0m\u001b[0;34m,\u001b[0m\u001b[0;34m'310_x'\u001b[0m\u001b[0;34m,\u001b[0m\u001b[0;34m'311_x'\u001b[0m\u001b[0;34m,\u001b[0m\u001b[0;34m'312_x'\u001b[0m\u001b[0;34m,\u001b[0m\u001b[0;34m'313_x'\u001b[0m\u001b[0;34m,\u001b[0m\u001b[0;34m'314_x'\u001b[0m\u001b[0;34m,\u001b[0m\u001b[0;34m'315_x'\u001b[0m\u001b[0;34m,\u001b[0m\u001b[0;34m'316_x'\u001b[0m\u001b[0;34m,\u001b[0m\u001b[0;34m'317_x'\u001b[0m\u001b[0;34m,\u001b[0m\u001b[0;34m'318_x'\u001b[0m\u001b[0;34m,\u001b[0m\u001b[0;34m'319_x'\u001b[0m\u001b[0;34m,\u001b[0m\u001b[0;34m'320_x'\u001b[0m\u001b[0;34m,\u001b[0m\u001b[0;34m'321_x'\u001b[0m\u001b[0;34m,\u001b[0m\u001b[0;34m'322_x'\u001b[0m\u001b[0;34m,\u001b[0m\u001b[0;34m'323_x'\u001b[0m\u001b[0;34m,\u001b[0m\u001b[0;34m'324_x'\u001b[0m\u001b[0;34m,\u001b[0m\u001b[0;34m'325_x'\u001b[0m\u001b[0;34m,\u001b[0m\u001b[0;34m'326_x'\u001b[0m\u001b[0;34m,\u001b[0m\u001b[0;34m'327_x'\u001b[0m\u001b[0;34m,\u001b[0m\u001b[0;34m'328_x'\u001b[0m\u001b[0;34m,\u001b[0m\u001b[0;34m'329_x'\u001b[0m\u001b[0;34m,\u001b[0m\u001b[0;34m'330_x'\u001b[0m\u001b[0;34m,\u001b[0m\u001b[0;34m'331_x'\u001b[0m\u001b[0;34m,\u001b[0m\u001b[0;34m'332_x'\u001b[0m\u001b[0;34m,\u001b[0m\u001b[0;34m'333_x'\u001b[0m\u001b[0;34m,\u001b[0m\u001b[0;34m'334_x'\u001b[0m\u001b[0;34m,\u001b[0m\u001b[0;34m'335_x'\u001b[0m\u001b[0;34m,\u001b[0m\u001b[0;34m'336_x'\u001b[0m\u001b[0;34m,\u001b[0m\u001b[0;34m'337_x'\u001b[0m\u001b[0;34m,\u001b[0m\u001b[0;34m'338_x'\u001b[0m\u001b[0;34m,\u001b[0m\u001b[0;34m'339_x'\u001b[0m\u001b[0;34m,\u001b[0m\u001b[0;34m'340_x'\u001b[0m\u001b[0;34m,\u001b[0m\u001b[0;34m'341_x'\u001b[0m\u001b[0;34m,\u001b[0m\u001b[0;34m'342_x'\u001b[0m\u001b[0;34m,\u001b[0m\u001b[0;34m'343_x'\u001b[0m\u001b[0;34m,\u001b[0m\u001b[0;34m'344_x'\u001b[0m\u001b[0;34m,\u001b[0m\u001b[0;34m'345_x'\u001b[0m\u001b[0;34m,\u001b[0m\u001b[0;34m'346_x'\u001b[0m\u001b[0;34m,\u001b[0m\u001b[0;34m'347_x'\u001b[0m\u001b[0;34m,\u001b[0m\u001b[0;34m'348_x'\u001b[0m\u001b[0;34m,\u001b[0m\u001b[0;34m'349_x'\u001b[0m\u001b[0;34m,\u001b[0m\u001b[0;34m'350_x'\u001b[0m\u001b[0;34m,\u001b[0m\u001b[0;34m'351_x'\u001b[0m\u001b[0;34m,\u001b[0m\u001b[0;34m'352_x'\u001b[0m\u001b[0;34m,\u001b[0m\u001b[0;34m'353_x'\u001b[0m\u001b[0;34m,\u001b[0m\u001b[0;34m'354_x'\u001b[0m\u001b[0;34m,\u001b[0m\u001b[0;34m'355_x'\u001b[0m\u001b[0;34m,\u001b[0m\u001b[0;34m'356_x'\u001b[0m\u001b[0;34m,\u001b[0m\u001b[0;34m'357_x'\u001b[0m\u001b[0;34m,\u001b[0m\u001b[0;34m'358_x'\u001b[0m\u001b[0;34m,\u001b[0m\u001b[0;34m'359_x'\u001b[0m\u001b[0;34m,\u001b[0m\u001b[0;34m'360_x'\u001b[0m\u001b[0;34m,\u001b[0m\u001b[0;34m'361_x'\u001b[0m\u001b[0;34m,\u001b[0m\u001b[0;34m'362_x'\u001b[0m\u001b[0;34m,\u001b[0m\u001b[0;34m'363_x'\u001b[0m\u001b[0;34m,\u001b[0m\u001b[0;34m'364_x'\u001b[0m\u001b[0;34m,\u001b[0m\u001b[0;34m'365_x'\u001b[0m\u001b[0;34m,\u001b[0m\u001b[0;34m'366_x'\u001b[0m\u001b[0;34m,\u001b[0m\u001b[0;34m'367_x'\u001b[0m\u001b[0;34m,\u001b[0m\u001b[0;34m'368_x'\u001b[0m\u001b[0;34m,\u001b[0m\u001b[0;34m'369_x'\u001b[0m\u001b[0;34m,\u001b[0m\u001b[0;34m'370_x'\u001b[0m\u001b[0;34m,\u001b[0m\u001b[0;34m'371_x'\u001b[0m\u001b[0;34m,\u001b[0m\u001b[0;34m'372_x'\u001b[0m\u001b[0;34m,\u001b[0m\u001b[0;34m'373_x'\u001b[0m\u001b[0;34m,\u001b[0m\u001b[0;34m'374_x'\u001b[0m\u001b[0;34m,\u001b[0m\u001b[0;34m'375_x'\u001b[0m\u001b[0;34m,\u001b[0m\u001b[0;34m'376_x'\u001b[0m\u001b[0;34m,\u001b[0m\u001b[0;34m'377_x'\u001b[0m\u001b[0;34m,\u001b[0m\u001b[0;34m'378_x'\u001b[0m\u001b[0;34m,\u001b[0m\u001b[0;34m'379_x'\u001b[0m\u001b[0;34m,\u001b[0m\u001b[0;34m'380_x'\u001b[0m\u001b[0;34m,\u001b[0m\u001b[0;34m'381_x'\u001b[0m\u001b[0;34m,\u001b[0m\u001b[0;34m'382_x'\u001b[0m\u001b[0;34m,\u001b[0m\u001b[0;34m'383_x'\u001b[0m\u001b[0;34m,\u001b[0m\u001b[0;34m'0_y'\u001b[0m\u001b[0;34m,\u001b[0m\u001b[0;34m'1_y'\u001b[0m\u001b[0;34m,\u001b[0m\u001b[0;34m'2_y'\u001b[0m\u001b[0;34m,\u001b[0m\u001b[0;34m'3_y'\u001b[0m\u001b[0;34m,\u001b[0m\u001b[0;34m'4_y'\u001b[0m\u001b[0;34m,\u001b[0m\u001b[0;34m'5_y'\u001b[0m\u001b[0;34m,\u001b[0m\u001b[0;34m'6_y'\u001b[0m\u001b[0;34m,\u001b[0m\u001b[0;34m'7_y'\u001b[0m\u001b[0;34m,\u001b[0m\u001b[0;34m'8_y'\u001b[0m\u001b[0;34m,\u001b[0m\u001b[0;34m'9_y'\u001b[0m\u001b[0;34m,\u001b[0m\u001b[0;34m'10_y'\u001b[0m\u001b[0;34m,\u001b[0m\u001b[0;34m'11_y'\u001b[0m\u001b[0;34m,\u001b[0m\u001b[0;34m'12_y'\u001b[0m\u001b[0;34m,\u001b[0m\u001b[0;34m'13_y'\u001b[0m\u001b[0;34m,\u001b[0m\u001b[0;34m'14_y'\u001b[0m\u001b[0;34m,\u001b[0m\u001b[0;34m'15_y'\u001b[0m\u001b[0;34m,\u001b[0m\u001b[0;34m'16_y'\u001b[0m\u001b[0;34m,\u001b[0m\u001b[0;34m'17_y'\u001b[0m\u001b[0;34m,\u001b[0m\u001b[0;34m'18_y'\u001b[0m\u001b[0;34m,\u001b[0m\u001b[0;34m'19_y'\u001b[0m\u001b[0;34m,\u001b[0m\u001b[0;34m'20_y'\u001b[0m\u001b[0;34m,\u001b[0m\u001b[0;34m'21_y'\u001b[0m\u001b[0;34m,\u001b[0m\u001b[0;34m'22_y'\u001b[0m\u001b[0;34m,\u001b[0m\u001b[0;34m'23_y'\u001b[0m\u001b[0;34m,\u001b[0m\u001b[0;34m'24_y'\u001b[0m\u001b[0;34m,\u001b[0m\u001b[0;34m'25_y'\u001b[0m\u001b[0;34m,\u001b[0m\u001b[0;34m'26_y'\u001b[0m\u001b[0;34m,\u001b[0m\u001b[0;34m'27_y'\u001b[0m\u001b[0;34m,\u001b[0m\u001b[0;34m'28_y'\u001b[0m\u001b[0;34m,\u001b[0m\u001b[0;34m'29_y'\u001b[0m\u001b[0;34m,\u001b[0m\u001b[0;34m'30_y'\u001b[0m\u001b[0;34m,\u001b[0m\u001b[0;34m'31_y'\u001b[0m\u001b[0;34m,\u001b[0m\u001b[0;34m'32_y'\u001b[0m\u001b[0;34m,\u001b[0m\u001b[0;34m'33_y'\u001b[0m\u001b[0;34m,\u001b[0m\u001b[0;34m'34_y'\u001b[0m\u001b[0;34m,\u001b[0m\u001b[0;34m'35_y'\u001b[0m\u001b[0;34m,\u001b[0m\u001b[0;34m'36_y'\u001b[0m\u001b[0;34m,\u001b[0m\u001b[0;34m'37_y'\u001b[0m\u001b[0;34m,\u001b[0m\u001b[0;34m'38_y'\u001b[0m\u001b[0;34m,\u001b[0m\u001b[0;34m'39_y'\u001b[0m\u001b[0;34m,\u001b[0m\u001b[0;34m'40_y'\u001b[0m\u001b[0;34m,\u001b[0m\u001b[0;34m'41_y'\u001b[0m\u001b[0;34m,\u001b[0m\u001b[0;34m'42_y'\u001b[0m\u001b[0;34m,\u001b[0m\u001b[0;34m'43_y'\u001b[0m\u001b[0;34m,\u001b[0m\u001b[0;34m'44_y'\u001b[0m\u001b[0;34m,\u001b[0m\u001b[0;34m'45_y'\u001b[0m\u001b[0;34m,\u001b[0m\u001b[0;34m'46_y'\u001b[0m\u001b[0;34m,\u001b[0m\u001b[0;34m'47_y'\u001b[0m\u001b[0;34m,\u001b[0m\u001b[0;34m'48_y'\u001b[0m\u001b[0;34m,\u001b[0m\u001b[0;34m'49_y'\u001b[0m\u001b[0;34m,\u001b[0m\u001b[0;34m'50_y'\u001b[0m\u001b[0;34m,\u001b[0m\u001b[0;34m'51_y'\u001b[0m\u001b[0;34m,\u001b[0m\u001b[0;34m'52_y'\u001b[0m\u001b[0;34m,\u001b[0m\u001b[0;34m'53_y'\u001b[0m\u001b[0;34m,\u001b[0m\u001b[0;34m'54_y'\u001b[0m\u001b[0;34m,\u001b[0m\u001b[0;34m'55_y'\u001b[0m\u001b[0;34m,\u001b[0m\u001b[0;34m'56_y'\u001b[0m\u001b[0;34m,\u001b[0m\u001b[0;34m'57_y'\u001b[0m\u001b[0;34m,\u001b[0m\u001b[0;34m'58_y'\u001b[0m\u001b[0;34m,\u001b[0m\u001b[0;34m'59_y'\u001b[0m\u001b[0;34m,\u001b[0m\u001b[0;34m'60_y'\u001b[0m\u001b[0;34m,\u001b[0m\u001b[0;34m'61_y'\u001b[0m\u001b[0;34m,\u001b[0m\u001b[0;34m'62_y'\u001b[0m\u001b[0;34m,\u001b[0m\u001b[0;34m'63_y'\u001b[0m\u001b[0;34m,\u001b[0m\u001b[0;34m'64_y'\u001b[0m\u001b[0;34m,\u001b[0m\u001b[0;34m'65_y'\u001b[0m\u001b[0;34m,\u001b[0m\u001b[0;34m'66_y'\u001b[0m\u001b[0;34m,\u001b[0m\u001b[0;34m'67_y'\u001b[0m\u001b[0;34m,\u001b[0m\u001b[0;34m'68_y'\u001b[0m\u001b[0;34m,\u001b[0m\u001b[0;34m'69_y'\u001b[0m\u001b[0;34m,\u001b[0m\u001b[0;34m'70_y'\u001b[0m\u001b[0;34m,\u001b[0m\u001b[0;34m'71_y'\u001b[0m\u001b[0;34m,\u001b[0m\u001b[0;34m'72_y'\u001b[0m\u001b[0;34m,\u001b[0m\u001b[0;34m'73_y'\u001b[0m\u001b[0;34m,\u001b[0m\u001b[0;34m'74_y'\u001b[0m\u001b[0;34m,\u001b[0m\u001b[0;34m'75_y'\u001b[0m\u001b[0;34m,\u001b[0m\u001b[0;34m'76_y'\u001b[0m\u001b[0;34m,\u001b[0m\u001b[0;34m'77_y'\u001b[0m\u001b[0;34m,\u001b[0m\u001b[0;34m'78_y'\u001b[0m\u001b[0;34m,\u001b[0m\u001b[0;34m'79_y'\u001b[0m\u001b[0;34m,\u001b[0m\u001b[0;34m'80_y'\u001b[0m\u001b[0;34m,\u001b[0m\u001b[0;34m'81_y'\u001b[0m\u001b[0;34m,\u001b[0m\u001b[0;34m'82_y'\u001b[0m\u001b[0;34m,\u001b[0m\u001b[0;34m'83_y'\u001b[0m\u001b[0;34m,\u001b[0m\u001b[0;34m'84_y'\u001b[0m\u001b[0;34m,\u001b[0m\u001b[0;34m'85_y'\u001b[0m\u001b[0;34m,\u001b[0m\u001b[0;34m'86_y'\u001b[0m\u001b[0;34m,\u001b[0m\u001b[0;34m'87_y'\u001b[0m\u001b[0;34m,\u001b[0m\u001b[0;34m'88_y'\u001b[0m\u001b[0;34m,\u001b[0m\u001b[0;34m'89_y'\u001b[0m\u001b[0;34m,\u001b[0m\u001b[0;34m'90_y'\u001b[0m\u001b[0;34m,\u001b[0m\u001b[0;34m'91_y'\u001b[0m\u001b[0;34m,\u001b[0m\u001b[0;34m'92_y'\u001b[0m\u001b[0;34m,\u001b[0m\u001b[0;34m'93_y'\u001b[0m\u001b[0;34m,\u001b[0m\u001b[0;34m'94_y'\u001b[0m\u001b[0;34m,\u001b[0m\u001b[0;34m'95_y'\u001b[0m\u001b[0;34m,\u001b[0m\u001b[0;34m'96_y'\u001b[0m\u001b[0;34m,\u001b[0m\u001b[0;34m'97_y'\u001b[0m\u001b[0;34m,\u001b[0m\u001b[0;34m'98_y'\u001b[0m\u001b[0;34m,\u001b[0m\u001b[0;34m'99_y'\u001b[0m\u001b[0;34m,\u001b[0m\u001b[0;34m'100_y'\u001b[0m\u001b[0;34m,\u001b[0m\u001b[0;34m'101_y'\u001b[0m\u001b[0;34m,\u001b[0m\u001b[0;34m'102_y'\u001b[0m\u001b[0;34m,\u001b[0m\u001b[0;34m'103_y'\u001b[0m\u001b[0;34m,\u001b[0m\u001b[0;34m'104_y'\u001b[0m\u001b[0;34m,\u001b[0m\u001b[0;34m'105_y'\u001b[0m\u001b[0;34m,\u001b[0m\u001b[0;34m'106_y'\u001b[0m\u001b[0;34m,\u001b[0m\u001b[0;34m'107_y'\u001b[0m\u001b[0;34m,\u001b[0m\u001b[0;34m'108_y'\u001b[0m\u001b[0;34m,\u001b[0m\u001b[0;34m'109_y'\u001b[0m\u001b[0;34m,\u001b[0m\u001b[0;34m'110_y'\u001b[0m\u001b[0;34m,\u001b[0m\u001b[0;34m'111_y'\u001b[0m\u001b[0;34m,\u001b[0m\u001b[0;34m'112_y'\u001b[0m\u001b[0;34m,\u001b[0m\u001b[0;34m'113_y'\u001b[0m\u001b[0;34m,\u001b[0m\u001b[0;34m'114_y'\u001b[0m\u001b[0;34m,\u001b[0m\u001b[0;34m'115_y'\u001b[0m\u001b[0;34m,\u001b[0m\u001b[0;34m'116_y'\u001b[0m\u001b[0;34m,\u001b[0m\u001b[0;34m'117_y'\u001b[0m\u001b[0;34m,\u001b[0m\u001b[0;34m'118_y'\u001b[0m\u001b[0;34m,\u001b[0m\u001b[0;34m'119_y'\u001b[0m\u001b[0;34m,\u001b[0m\u001b[0;34m'120_y'\u001b[0m\u001b[0;34m,\u001b[0m\u001b[0;34m'121_y'\u001b[0m\u001b[0;34m,\u001b[0m\u001b[0;34m'122_y'\u001b[0m\u001b[0;34m,\u001b[0m\u001b[0;34m'123_y'\u001b[0m\u001b[0;34m,\u001b[0m\u001b[0;34m'124_y'\u001b[0m\u001b[0;34m,\u001b[0m\u001b[0;34m'125_y'\u001b[0m\u001b[0;34m,\u001b[0m\u001b[0;34m'126_y'\u001b[0m\u001b[0;34m,\u001b[0m\u001b[0;34m'127_y'\u001b[0m\u001b[0;34m,\u001b[0m\u001b[0;34m'128_y'\u001b[0m\u001b[0;34m,\u001b[0m\u001b[0;34m'129_y'\u001b[0m\u001b[0;34m,\u001b[0m\u001b[0;34m'130_y'\u001b[0m\u001b[0;34m,\u001b[0m\u001b[0;34m'131_y'\u001b[0m\u001b[0;34m,\u001b[0m\u001b[0;34m'132_y'\u001b[0m\u001b[0;34m,\u001b[0m\u001b[0;34m'133_y'\u001b[0m\u001b[0;34m,\u001b[0m\u001b[0;34m'134_y'\u001b[0m\u001b[0;34m,\u001b[0m\u001b[0;34m'135_y'\u001b[0m\u001b[0;34m,\u001b[0m\u001b[0;34m'136_y'\u001b[0m\u001b[0;34m,\u001b[0m\u001b[0;34m'137_y'\u001b[0m\u001b[0;34m,\u001b[0m\u001b[0;34m'138_y'\u001b[0m\u001b[0;34m,\u001b[0m\u001b[0;34m'139_y'\u001b[0m\u001b[0;34m,\u001b[0m\u001b[0;34m'140_y'\u001b[0m\u001b[0;34m,\u001b[0m\u001b[0;34m'141_y'\u001b[0m\u001b[0;34m,\u001b[0m\u001b[0;34m'142_y'\u001b[0m\u001b[0;34m,\u001b[0m\u001b[0;34m'143_y'\u001b[0m\u001b[0;34m,\u001b[0m\u001b[0;34m'144_y'\u001b[0m\u001b[0;34m,\u001b[0m\u001b[0;34m'145_y'\u001b[0m\u001b[0;34m,\u001b[0m\u001b[0;34m'146_y'\u001b[0m\u001b[0;34m,\u001b[0m\u001b[0;34m'147_y'\u001b[0m\u001b[0;34m,\u001b[0m\u001b[0;34m'148_y'\u001b[0m\u001b[0;34m,\u001b[0m\u001b[0;34m'149_y'\u001b[0m\u001b[0;34m,\u001b[0m\u001b[0;34m'150_y'\u001b[0m\u001b[0;34m,\u001b[0m\u001b[0;34m'151_y'\u001b[0m\u001b[0;34m,\u001b[0m\u001b[0;34m'152_y'\u001b[0m\u001b[0;34m,\u001b[0m\u001b[0;34m'153_y'\u001b[0m\u001b[0;34m,\u001b[0m\u001b[0;34m'154_y'\u001b[0m\u001b[0;34m,\u001b[0m\u001b[0;34m'155_y'\u001b[0m\u001b[0;34m,\u001b[0m\u001b[0;34m'156_y'\u001b[0m\u001b[0;34m,\u001b[0m\u001b[0;34m'157_y'\u001b[0m\u001b[0;34m,\u001b[0m\u001b[0;34m'158_y'\u001b[0m\u001b[0;34m,\u001b[0m\u001b[0;34m'159_y'\u001b[0m\u001b[0;34m,\u001b[0m\u001b[0;34m'160_y'\u001b[0m\u001b[0;34m,\u001b[0m\u001b[0;34m'161_y'\u001b[0m\u001b[0;34m,\u001b[0m\u001b[0;34m'162_y'\u001b[0m\u001b[0;34m,\u001b[0m\u001b[0;34m'163_y'\u001b[0m\u001b[0;34m,\u001b[0m\u001b[0;34m'164_y'\u001b[0m\u001b[0;34m,\u001b[0m\u001b[0;34m'165_y'\u001b[0m\u001b[0;34m,\u001b[0m\u001b[0;34m'166_y'\u001b[0m\u001b[0;34m,\u001b[0m\u001b[0;34m'167_y'\u001b[0m\u001b[0;34m,\u001b[0m\u001b[0;34m'168_y'\u001b[0m\u001b[0;34m,\u001b[0m\u001b[0;34m'169_y'\u001b[0m\u001b[0;34m,\u001b[0m\u001b[0;34m'170_y'\u001b[0m\u001b[0;34m,\u001b[0m\u001b[0;34m'171_y'\u001b[0m\u001b[0;34m,\u001b[0m\u001b[0;34m'172_y'\u001b[0m\u001b[0;34m,\u001b[0m\u001b[0;34m'173_y'\u001b[0m\u001b[0;34m,\u001b[0m\u001b[0;34m'174_y'\u001b[0m\u001b[0;34m,\u001b[0m\u001b[0;34m'175_y'\u001b[0m\u001b[0;34m,\u001b[0m\u001b[0;34m'176_y'\u001b[0m\u001b[0;34m,\u001b[0m\u001b[0;34m'177_y'\u001b[0m\u001b[0;34m,\u001b[0m\u001b[0;34m'178_y'\u001b[0m\u001b[0;34m,\u001b[0m\u001b[0;34m'179_y'\u001b[0m\u001b[0;34m,\u001b[0m\u001b[0;34m'180_y'\u001b[0m\u001b[0;34m,\u001b[0m\u001b[0;34m'181_y'\u001b[0m\u001b[0;34m,\u001b[0m\u001b[0;34m'182_y'\u001b[0m\u001b[0;34m,\u001b[0m\u001b[0;34m'183_y'\u001b[0m\u001b[0;34m,\u001b[0m\u001b[0;34m'184_y'\u001b[0m\u001b[0;34m,\u001b[0m\u001b[0;34m'185_y'\u001b[0m\u001b[0;34m,\u001b[0m\u001b[0;34m'186_y'\u001b[0m\u001b[0;34m,\u001b[0m\u001b[0;34m'187_y'\u001b[0m\u001b[0;34m,\u001b[0m\u001b[0;34m'188_y'\u001b[0m\u001b[0;34m,\u001b[0m\u001b[0;34m'189_y'\u001b[0m\u001b[0;34m,\u001b[0m\u001b[0;34m'190_y'\u001b[0m\u001b[0;34m,\u001b[0m\u001b[0;34m'191_y'\u001b[0m\u001b[0;34m,\u001b[0m\u001b[0;34m'192_y'\u001b[0m\u001b[0;34m,\u001b[0m\u001b[0;34m'193_y'\u001b[0m\u001b[0;34m,\u001b[0m\u001b[0;34m'194_y'\u001b[0m\u001b[0;34m,\u001b[0m\u001b[0;34m'195_y'\u001b[0m\u001b[0;34m,\u001b[0m\u001b[0;34m'196_y'\u001b[0m\u001b[0;34m,\u001b[0m\u001b[0;34m'197_y'\u001b[0m\u001b[0;34m,\u001b[0m\u001b[0;34m'198_y'\u001b[0m\u001b[0;34m,\u001b[0m\u001b[0;34m'199_y'\u001b[0m\u001b[0;34m,\u001b[0m\u001b[0;34m'200_y'\u001b[0m\u001b[0;34m,\u001b[0m\u001b[0;34m'201_y'\u001b[0m\u001b[0;34m,\u001b[0m\u001b[0;34m'202_y'\u001b[0m\u001b[0;34m,\u001b[0m\u001b[0;34m'203_y'\u001b[0m\u001b[0;34m,\u001b[0m\u001b[0;34m'204_y'\u001b[0m\u001b[0;34m,\u001b[0m\u001b[0;34m'205_y'\u001b[0m\u001b[0;34m,\u001b[0m\u001b[0;34m'206_y'\u001b[0m\u001b[0;34m,\u001b[0m\u001b[0;34m'207_y'\u001b[0m\u001b[0;34m,\u001b[0m\u001b[0;34m'208_y'\u001b[0m\u001b[0;34m,\u001b[0m\u001b[0;34m'209_y'\u001b[0m\u001b[0;34m,\u001b[0m\u001b[0;34m'210_y'\u001b[0m\u001b[0;34m,\u001b[0m\u001b[0;34m'211_y'\u001b[0m\u001b[0;34m,\u001b[0m\u001b[0;34m'212_y'\u001b[0m\u001b[0;34m,\u001b[0m\u001b[0;34m'213_y'\u001b[0m\u001b[0;34m,\u001b[0m\u001b[0;34m'214_y'\u001b[0m\u001b[0;34m,\u001b[0m\u001b[0;34m'215_y'\u001b[0m\u001b[0;34m,\u001b[0m\u001b[0;34m'216_y'\u001b[0m\u001b[0;34m,\u001b[0m\u001b[0;34m'217_y'\u001b[0m\u001b[0;34m,\u001b[0m\u001b[0;34m'218_y'\u001b[0m\u001b[0;34m,\u001b[0m\u001b[0;34m'219_y'\u001b[0m\u001b[0;34m,\u001b[0m\u001b[0;34m'220_y'\u001b[0m\u001b[0;34m,\u001b[0m\u001b[0;34m'221_y'\u001b[0m\u001b[0;34m,\u001b[0m\u001b[0;34m'222_y'\u001b[0m\u001b[0;34m,\u001b[0m\u001b[0;34m'223_y'\u001b[0m\u001b[0;34m,\u001b[0m\u001b[0;34m'224_y'\u001b[0m\u001b[0;34m,\u001b[0m\u001b[0;34m'225_y'\u001b[0m\u001b[0;34m,\u001b[0m\u001b[0;34m'226_y'\u001b[0m\u001b[0;34m,\u001b[0m\u001b[0;34m'227_y'\u001b[0m\u001b[0;34m,\u001b[0m\u001b[0;34m'228_y'\u001b[0m\u001b[0;34m,\u001b[0m\u001b[0;34m'229_y'\u001b[0m\u001b[0;34m,\u001b[0m\u001b[0;34m'230_y'\u001b[0m\u001b[0;34m,\u001b[0m\u001b[0;34m'231_y'\u001b[0m\u001b[0;34m,\u001b[0m\u001b[0;34m'232_y'\u001b[0m\u001b[0;34m,\u001b[0m\u001b[0;34m'233_y'\u001b[0m\u001b[0;34m,\u001b[0m\u001b[0;34m'234_y'\u001b[0m\u001b[0;34m,\u001b[0m\u001b[0;34m'235_y'\u001b[0m\u001b[0;34m,\u001b[0m\u001b[0;34m'236_y'\u001b[0m\u001b[0;34m,\u001b[0m\u001b[0;34m'237_y'\u001b[0m\u001b[0;34m,\u001b[0m\u001b[0;34m'238_y'\u001b[0m\u001b[0;34m,\u001b[0m\u001b[0;34m'239_y'\u001b[0m\u001b[0;34m,\u001b[0m\u001b[0;34m'240_y'\u001b[0m\u001b[0;34m,\u001b[0m\u001b[0;34m'241_y'\u001b[0m\u001b[0;34m,\u001b[0m\u001b[0;34m'242_y'\u001b[0m\u001b[0;34m,\u001b[0m\u001b[0;34m'243_y'\u001b[0m\u001b[0;34m,\u001b[0m\u001b[0;34m'244_y'\u001b[0m\u001b[0;34m,\u001b[0m\u001b[0;34m'245_y'\u001b[0m\u001b[0;34m,\u001b[0m\u001b[0;34m'246_y'\u001b[0m\u001b[0;34m,\u001b[0m\u001b[0;34m'247_y'\u001b[0m\u001b[0;34m,\u001b[0m\u001b[0;34m'248_y'\u001b[0m\u001b[0;34m,\u001b[0m\u001b[0;34m'249_y'\u001b[0m\u001b[0;34m,\u001b[0m\u001b[0;34m'250_y'\u001b[0m\u001b[0;34m,\u001b[0m\u001b[0;34m'251_y'\u001b[0m\u001b[0;34m,\u001b[0m\u001b[0;34m'252_y'\u001b[0m\u001b[0;34m,\u001b[0m\u001b[0;34m'253_y'\u001b[0m\u001b[0;34m,\u001b[0m\u001b[0;34m'254_y'\u001b[0m\u001b[0;34m,\u001b[0m\u001b[0;34m'255_y'\u001b[0m\u001b[0;34m,\u001b[0m\u001b[0;34m'256_y'\u001b[0m\u001b[0;34m,\u001b[0m\u001b[0;34m'257_y'\u001b[0m\u001b[0;34m,\u001b[0m\u001b[0;34m'258_y'\u001b[0m\u001b[0;34m,\u001b[0m\u001b[0;34m'259_y'\u001b[0m\u001b[0;34m,\u001b[0m\u001b[0;34m'260_y'\u001b[0m\u001b[0;34m,\u001b[0m\u001b[0;34m'261_y'\u001b[0m\u001b[0;34m,\u001b[0m\u001b[0;34m'262_y'\u001b[0m\u001b[0;34m,\u001b[0m\u001b[0;34m'263_y'\u001b[0m\u001b[0;34m,\u001b[0m\u001b[0;34m'264_y'\u001b[0m\u001b[0;34m,\u001b[0m\u001b[0;34m'265_y'\u001b[0m\u001b[0;34m,\u001b[0m\u001b[0;34m'266_y'\u001b[0m\u001b[0;34m,\u001b[0m\u001b[0;34m'267_y'\u001b[0m\u001b[0;34m,\u001b[0m\u001b[0;34m'268_y'\u001b[0m\u001b[0;34m,\u001b[0m\u001b[0;34m'269_y'\u001b[0m\u001b[0;34m,\u001b[0m\u001b[0;34m'270_y'\u001b[0m\u001b[0;34m,\u001b[0m\u001b[0;34m'271_y'\u001b[0m\u001b[0;34m,\u001b[0m\u001b[0;34m'272_y'\u001b[0m\u001b[0;34m,\u001b[0m\u001b[0;34m'273_y'\u001b[0m\u001b[0;34m,\u001b[0m\u001b[0;34m'274_y'\u001b[0m\u001b[0;34m,\u001b[0m\u001b[0;34m'275_y'\u001b[0m\u001b[0;34m,\u001b[0m\u001b[0;34m'276_y'\u001b[0m\u001b[0;34m,\u001b[0m\u001b[0;34m'277_y'\u001b[0m\u001b[0;34m,\u001b[0m\u001b[0;34m'278_y'\u001b[0m\u001b[0;34m,\u001b[0m\u001b[0;34m'279_y'\u001b[0m\u001b[0;34m,\u001b[0m\u001b[0;34m'280_y'\u001b[0m\u001b[0;34m,\u001b[0m\u001b[0;34m'281_y'\u001b[0m\u001b[0;34m,\u001b[0m\u001b[0;34m'282_y'\u001b[0m\u001b[0;34m,\u001b[0m\u001b[0;34m'283_y'\u001b[0m\u001b[0;34m,\u001b[0m\u001b[0;34m'284_y'\u001b[0m\u001b[0;34m,\u001b[0m\u001b[0;34m'285_y'\u001b[0m\u001b[0;34m,\u001b[0m\u001b[0;34m'286_y'\u001b[0m\u001b[0;34m,\u001b[0m\u001b[0;34m'287_y'\u001b[0m\u001b[0;34m,\u001b[0m\u001b[0;34m'288_y'\u001b[0m\u001b[0;34m,\u001b[0m\u001b[0;34m'289_y'\u001b[0m\u001b[0;34m,\u001b[0m\u001b[0;34m'290_y'\u001b[0m\u001b[0;34m,\u001b[0m\u001b[0;34m'291_y'\u001b[0m\u001b[0;34m,\u001b[0m\u001b[0;34m'292_y'\u001b[0m\u001b[0;34m,\u001b[0m\u001b[0;34m'293_y'\u001b[0m\u001b[0;34m,\u001b[0m\u001b[0;34m'294_y'\u001b[0m\u001b[0;34m,\u001b[0m\u001b[0;34m'295_y'\u001b[0m\u001b[0;34m,\u001b[0m\u001b[0;34m'296_y'\u001b[0m\u001b[0;34m,\u001b[0m\u001b[0;34m'297_y'\u001b[0m\u001b[0;34m,\u001b[0m\u001b[0;34m'298_y'\u001b[0m\u001b[0;34m,\u001b[0m\u001b[0;34m'299_y'\u001b[0m\u001b[0;34m,\u001b[0m\u001b[0;34m'300_y'\u001b[0m\u001b[0;34m,\u001b[0m\u001b[0;34m'301_y'\u001b[0m\u001b[0;34m,\u001b[0m\u001b[0;34m'302_y'\u001b[0m\u001b[0;34m,\u001b[0m\u001b[0;34m'303_y'\u001b[0m\u001b[0;34m,\u001b[0m\u001b[0;34m'304_y'\u001b[0m\u001b[0;34m,\u001b[0m\u001b[0;34m'305_y'\u001b[0m\u001b[0;34m,\u001b[0m\u001b[0;34m'306_y'\u001b[0m\u001b[0;34m,\u001b[0m\u001b[0;34m'307_y'\u001b[0m\u001b[0;34m,\u001b[0m\u001b[0;34m'308_y'\u001b[0m\u001b[0;34m,\u001b[0m\u001b[0;34m'309_y'\u001b[0m\u001b[0;34m,\u001b[0m\u001b[0;34m'310_y'\u001b[0m\u001b[0;34m,\u001b[0m\u001b[0;34m'311_y'\u001b[0m\u001b[0;34m,\u001b[0m\u001b[0;34m'312_y'\u001b[0m\u001b[0;34m,\u001b[0m\u001b[0;34m'313_y'\u001b[0m\u001b[0;34m,\u001b[0m\u001b[0;34m'314_y'\u001b[0m\u001b[0;34m,\u001b[0m\u001b[0;34m'315_y'\u001b[0m\u001b[0;34m,\u001b[0m\u001b[0;34m'316_y'\u001b[0m\u001b[0;34m,\u001b[0m\u001b[0;34m'317_y'\u001b[0m\u001b[0;34m,\u001b[0m\u001b[0;34m'318_y'\u001b[0m\u001b[0;34m,\u001b[0m\u001b[0;34m'319_y'\u001b[0m\u001b[0;34m,\u001b[0m\u001b[0;34m'320_y'\u001b[0m\u001b[0;34m,\u001b[0m\u001b[0;34m'321_y'\u001b[0m\u001b[0;34m,\u001b[0m\u001b[0;34m'322_y'\u001b[0m\u001b[0;34m,\u001b[0m\u001b[0;34m'323_y'\u001b[0m\u001b[0;34m,\u001b[0m\u001b[0;34m'324_y'\u001b[0m\u001b[0;34m,\u001b[0m\u001b[0;34m'325_y'\u001b[0m\u001b[0;34m,\u001b[0m\u001b[0;34m'326_y'\u001b[0m\u001b[0;34m,\u001b[0m\u001b[0;34m'327_y'\u001b[0m\u001b[0;34m,\u001b[0m\u001b[0;34m'328_y'\u001b[0m\u001b[0;34m,\u001b[0m\u001b[0;34m'329_y'\u001b[0m\u001b[0;34m,\u001b[0m\u001b[0;34m'330_y'\u001b[0m\u001b[0;34m,\u001b[0m\u001b[0;34m'331_y'\u001b[0m\u001b[0;34m,\u001b[0m\u001b[0;34m'332_y'\u001b[0m\u001b[0;34m,\u001b[0m\u001b[0;34m'333_y'\u001b[0m\u001b[0;34m,\u001b[0m\u001b[0;34m'334_y'\u001b[0m\u001b[0;34m,\u001b[0m\u001b[0;34m'335_y'\u001b[0m\u001b[0;34m,\u001b[0m\u001b[0;34m'336_y'\u001b[0m\u001b[0;34m,\u001b[0m\u001b[0;34m'337_y'\u001b[0m\u001b[0;34m,\u001b[0m\u001b[0;34m'338_y'\u001b[0m\u001b[0;34m,\u001b[0m\u001b[0;34m'339_y'\u001b[0m\u001b[0;34m,\u001b[0m\u001b[0;34m'340_y'\u001b[0m\u001b[0;34m,\u001b[0m\u001b[0;34m'341_y'\u001b[0m\u001b[0;34m,\u001b[0m\u001b[0;34m'342_y'\u001b[0m\u001b[0;34m,\u001b[0m\u001b[0;34m'343_y'\u001b[0m\u001b[0;34m,\u001b[0m\u001b[0;34m'344_y'\u001b[0m\u001b[0;34m,\u001b[0m\u001b[0;34m'345_y'\u001b[0m\u001b[0;34m,\u001b[0m\u001b[0;34m'346_y'\u001b[0m\u001b[0;34m,\u001b[0m\u001b[0;34m'347_y'\u001b[0m\u001b[0;34m,\u001b[0m\u001b[0;34m'348_y'\u001b[0m\u001b[0;34m,\u001b[0m\u001b[0;34m'349_y'\u001b[0m\u001b[0;34m,\u001b[0m\u001b[0;34m'350_y'\u001b[0m\u001b[0;34m,\u001b[0m\u001b[0;34m'351_y'\u001b[0m\u001b[0;34m,\u001b[0m\u001b[0;34m'352_y'\u001b[0m\u001b[0;34m,\u001b[0m\u001b[0;34m'353_y'\u001b[0m\u001b[0;34m,\u001b[0m\u001b[0;34m'354_y'\u001b[0m\u001b[0;34m,\u001b[0m\u001b[0;34m'355_y'\u001b[0m\u001b[0;34m,\u001b[0m\u001b[0;34m'356_y'\u001b[0m\u001b[0;34m,\u001b[0m\u001b[0;34m'357_y'\u001b[0m\u001b[0;34m,\u001b[0m\u001b[0;34m'358_y'\u001b[0m\u001b[0;34m,\u001b[0m\u001b[0;34m'359_y'\u001b[0m\u001b[0;34m,\u001b[0m\u001b[0;34m'360_y'\u001b[0m\u001b[0;34m,\u001b[0m\u001b[0;34m'361_y'\u001b[0m\u001b[0;34m,\u001b[0m\u001b[0;34m'362_y'\u001b[0m\u001b[0;34m,\u001b[0m\u001b[0;34m'363_y'\u001b[0m\u001b[0;34m,\u001b[0m\u001b[0;34m'364_y'\u001b[0m\u001b[0;34m,\u001b[0m\u001b[0;34m'365_y'\u001b[0m\u001b[0;34m,\u001b[0m\u001b[0;34m'366_y'\u001b[0m\u001b[0;34m,\u001b[0m\u001b[0;34m'367_y'\u001b[0m\u001b[0;34m,\u001b[0m\u001b[0;34m'368_y'\u001b[0m\u001b[0;34m,\u001b[0m\u001b[0;34m'369_y'\u001b[0m\u001b[0;34m,\u001b[0m\u001b[0;34m'370_y'\u001b[0m\u001b[0;34m,\u001b[0m\u001b[0;34m'371_y'\u001b[0m\u001b[0;34m,\u001b[0m\u001b[0;34m'372_y'\u001b[0m\u001b[0;34m,\u001b[0m\u001b[0;34m'373_y'\u001b[0m\u001b[0;34m,\u001b[0m\u001b[0;34m'374_y'\u001b[0m\u001b[0;34m,\u001b[0m\u001b[0;34m'375_y'\u001b[0m\u001b[0;34m,\u001b[0m\u001b[0;34m'376_y'\u001b[0m\u001b[0;34m,\u001b[0m\u001b[0;34m'377_y'\u001b[0m\u001b[0;34m,\u001b[0m\u001b[0;34m'378_y'\u001b[0m\u001b[0;34m,\u001b[0m\u001b[0;34m'379_y'\u001b[0m\u001b[0;34m,\u001b[0m\u001b[0;34m'380_y'\u001b[0m\u001b[0;34m,\u001b[0m\u001b[0;34m'381_y'\u001b[0m\u001b[0;34m,\u001b[0m\u001b[0;34m'382_y'\u001b[0m\u001b[0;34m,\u001b[0m\u001b[0;34m'383_y'\u001b[0m\u001b[0;34m]\u001b[0m\u001b[0;34m,\u001b[0m \u001b[0mchunksize\u001b[0m\u001b[0;34m=\u001b[0m\u001b[0mchunksize\u001b[0m\u001b[0;34m,\u001b[0m \u001b[0miterator\u001b[0m\u001b[0;34m=\u001b[0m\u001b[0;32mTrue\u001b[0m\u001b[0;34m,\u001b[0m \u001b[0mencoding\u001b[0m\u001b[0;34m=\u001b[0m\u001b[0;34m'utf-8'\u001b[0m\u001b[0;34m,\u001b[0m \u001b[0;34m)\u001b[0m\u001b[0;34m:\u001b[0m\u001b[0;34m\u001b[0m\u001b[0;34m\u001b[0m\u001b[0m\n\u001b[0m\u001b[1;32m      9\u001b[0m         \u001b[0mdf\u001b[0m\u001b[0;34m.\u001b[0m\u001b[0mindex\u001b[0m \u001b[0;34m+=\u001b[0m \u001b[0mindex_start\u001b[0m\u001b[0;34m\u001b[0m\u001b[0;34m\u001b[0m\u001b[0m\n\u001b[1;32m     10\u001b[0m         \u001b[0mj\u001b[0m\u001b[0;34m+=\u001b[0m\u001b[0;36m1\u001b[0m\u001b[0;34m\u001b[0m\u001b[0;34m\u001b[0m\u001b[0m\n",
      "\u001b[0;32m~/AIML/lib/python3.8/site-packages/pandas/io/parsers.py\u001b[0m in \u001b[0;36mread_csv\u001b[0;34m(filepath_or_buffer, sep, delimiter, header, names, index_col, usecols, squeeze, prefix, mangle_dupe_cols, dtype, engine, converters, true_values, false_values, skipinitialspace, skiprows, skipfooter, nrows, na_values, keep_default_na, na_filter, verbose, skip_blank_lines, parse_dates, infer_datetime_format, keep_date_col, date_parser, dayfirst, cache_dates, iterator, chunksize, compression, thousands, decimal, lineterminator, quotechar, quoting, doublequote, escapechar, comment, encoding, dialect, error_bad_lines, warn_bad_lines, delim_whitespace, low_memory, memory_map, float_precision, storage_options)\u001b[0m\n\u001b[1;32m    608\u001b[0m     \u001b[0mkwds\u001b[0m\u001b[0;34m.\u001b[0m\u001b[0mupdate\u001b[0m\u001b[0;34m(\u001b[0m\u001b[0mkwds_defaults\u001b[0m\u001b[0;34m)\u001b[0m\u001b[0;34m\u001b[0m\u001b[0;34m\u001b[0m\u001b[0m\n\u001b[1;32m    609\u001b[0m \u001b[0;34m\u001b[0m\u001b[0m\n\u001b[0;32m--> 610\u001b[0;31m     \u001b[0;32mreturn\u001b[0m \u001b[0m_read\u001b[0m\u001b[0;34m(\u001b[0m\u001b[0mfilepath_or_buffer\u001b[0m\u001b[0;34m,\u001b[0m \u001b[0mkwds\u001b[0m\u001b[0;34m)\u001b[0m\u001b[0;34m\u001b[0m\u001b[0;34m\u001b[0m\u001b[0m\n\u001b[0m\u001b[1;32m    611\u001b[0m \u001b[0;34m\u001b[0m\u001b[0m\n\u001b[1;32m    612\u001b[0m \u001b[0;34m\u001b[0m\u001b[0m\n",
      "\u001b[0;32m~/AIML/lib/python3.8/site-packages/pandas/io/parsers.py\u001b[0m in \u001b[0;36m_read\u001b[0;34m(filepath_or_buffer, kwds)\u001b[0m\n\u001b[1;32m    460\u001b[0m \u001b[0;34m\u001b[0m\u001b[0m\n\u001b[1;32m    461\u001b[0m     \u001b[0;31m# Create the parser.\u001b[0m\u001b[0;34m\u001b[0m\u001b[0;34m\u001b[0m\u001b[0;34m\u001b[0m\u001b[0m\n\u001b[0;32m--> 462\u001b[0;31m     \u001b[0mparser\u001b[0m \u001b[0;34m=\u001b[0m \u001b[0mTextFileReader\u001b[0m\u001b[0;34m(\u001b[0m\u001b[0mfilepath_or_buffer\u001b[0m\u001b[0;34m,\u001b[0m \u001b[0;34m**\u001b[0m\u001b[0mkwds\u001b[0m\u001b[0;34m)\u001b[0m\u001b[0;34m\u001b[0m\u001b[0;34m\u001b[0m\u001b[0m\n\u001b[0m\u001b[1;32m    463\u001b[0m \u001b[0;34m\u001b[0m\u001b[0m\n\u001b[1;32m    464\u001b[0m     \u001b[0;32mif\u001b[0m \u001b[0mchunksize\u001b[0m \u001b[0;32mor\u001b[0m \u001b[0miterator\u001b[0m\u001b[0;34m:\u001b[0m\u001b[0;34m\u001b[0m\u001b[0;34m\u001b[0m\u001b[0m\n",
      "\u001b[0;32m~/AIML/lib/python3.8/site-packages/pandas/io/parsers.py\u001b[0m in \u001b[0;36m__init__\u001b[0;34m(self, f, engine, **kwds)\u001b[0m\n\u001b[1;32m    817\u001b[0m             \u001b[0mself\u001b[0m\u001b[0;34m.\u001b[0m\u001b[0moptions\u001b[0m\u001b[0;34m[\u001b[0m\u001b[0;34m\"has_index_names\"\u001b[0m\u001b[0;34m]\u001b[0m \u001b[0;34m=\u001b[0m \u001b[0mkwds\u001b[0m\u001b[0;34m[\u001b[0m\u001b[0;34m\"has_index_names\"\u001b[0m\u001b[0;34m]\u001b[0m\u001b[0;34m\u001b[0m\u001b[0;34m\u001b[0m\u001b[0m\n\u001b[1;32m    818\u001b[0m \u001b[0;34m\u001b[0m\u001b[0m\n\u001b[0;32m--> 819\u001b[0;31m         \u001b[0mself\u001b[0m\u001b[0;34m.\u001b[0m\u001b[0m_engine\u001b[0m \u001b[0;34m=\u001b[0m \u001b[0mself\u001b[0m\u001b[0;34m.\u001b[0m\u001b[0m_make_engine\u001b[0m\u001b[0;34m(\u001b[0m\u001b[0mself\u001b[0m\u001b[0;34m.\u001b[0m\u001b[0mengine\u001b[0m\u001b[0;34m)\u001b[0m\u001b[0;34m\u001b[0m\u001b[0;34m\u001b[0m\u001b[0m\n\u001b[0m\u001b[1;32m    820\u001b[0m \u001b[0;34m\u001b[0m\u001b[0m\n\u001b[1;32m    821\u001b[0m     \u001b[0;32mdef\u001b[0m \u001b[0mclose\u001b[0m\u001b[0;34m(\u001b[0m\u001b[0mself\u001b[0m\u001b[0;34m)\u001b[0m\u001b[0;34m:\u001b[0m\u001b[0;34m\u001b[0m\u001b[0;34m\u001b[0m\u001b[0m\n",
      "\u001b[0;32m~/AIML/lib/python3.8/site-packages/pandas/io/parsers.py\u001b[0m in \u001b[0;36m_make_engine\u001b[0;34m(self, engine)\u001b[0m\n\u001b[1;32m   1048\u001b[0m             )\n\u001b[1;32m   1049\u001b[0m         \u001b[0;31m# error: Too many arguments for \"ParserBase\"\u001b[0m\u001b[0;34m\u001b[0m\u001b[0;34m\u001b[0m\u001b[0;34m\u001b[0m\u001b[0m\n\u001b[0;32m-> 1050\u001b[0;31m         \u001b[0;32mreturn\u001b[0m \u001b[0mmapping\u001b[0m\u001b[0;34m[\u001b[0m\u001b[0mengine\u001b[0m\u001b[0;34m]\u001b[0m\u001b[0;34m(\u001b[0m\u001b[0mself\u001b[0m\u001b[0;34m.\u001b[0m\u001b[0mf\u001b[0m\u001b[0;34m,\u001b[0m \u001b[0;34m**\u001b[0m\u001b[0mself\u001b[0m\u001b[0;34m.\u001b[0m\u001b[0moptions\u001b[0m\u001b[0;34m)\u001b[0m  \u001b[0;31m# type: ignore[call-arg]\u001b[0m\u001b[0;34m\u001b[0m\u001b[0;34m\u001b[0m\u001b[0m\n\u001b[0m\u001b[1;32m   1051\u001b[0m \u001b[0;34m\u001b[0m\u001b[0m\n\u001b[1;32m   1052\u001b[0m     \u001b[0;32mdef\u001b[0m \u001b[0m_failover_to_python\u001b[0m\u001b[0;34m(\u001b[0m\u001b[0mself\u001b[0m\u001b[0;34m)\u001b[0m\u001b[0;34m:\u001b[0m\u001b[0;34m\u001b[0m\u001b[0;34m\u001b[0m\u001b[0m\n",
      "\u001b[0;32m~/AIML/lib/python3.8/site-packages/pandas/io/parsers.py\u001b[0m in \u001b[0;36m__init__\u001b[0;34m(self, src, **kwds)\u001b[0m\n\u001b[1;32m   1865\u001b[0m \u001b[0;34m\u001b[0m\u001b[0m\n\u001b[1;32m   1866\u001b[0m         \u001b[0;31m# open handles\u001b[0m\u001b[0;34m\u001b[0m\u001b[0;34m\u001b[0m\u001b[0;34m\u001b[0m\u001b[0m\n\u001b[0;32m-> 1867\u001b[0;31m         \u001b[0mself\u001b[0m\u001b[0;34m.\u001b[0m\u001b[0m_open_handles\u001b[0m\u001b[0;34m(\u001b[0m\u001b[0msrc\u001b[0m\u001b[0;34m,\u001b[0m \u001b[0mkwds\u001b[0m\u001b[0;34m)\u001b[0m\u001b[0;34m\u001b[0m\u001b[0;34m\u001b[0m\u001b[0m\n\u001b[0m\u001b[1;32m   1868\u001b[0m         \u001b[0;32massert\u001b[0m \u001b[0mself\u001b[0m\u001b[0;34m.\u001b[0m\u001b[0mhandles\u001b[0m \u001b[0;32mis\u001b[0m \u001b[0;32mnot\u001b[0m \u001b[0;32mNone\u001b[0m\u001b[0;34m\u001b[0m\u001b[0;34m\u001b[0m\u001b[0m\n\u001b[1;32m   1869\u001b[0m         \u001b[0;32mfor\u001b[0m \u001b[0mkey\u001b[0m \u001b[0;32min\u001b[0m \u001b[0;34m(\u001b[0m\u001b[0;34m\"storage_options\"\u001b[0m\u001b[0;34m,\u001b[0m \u001b[0;34m\"encoding\"\u001b[0m\u001b[0;34m,\u001b[0m \u001b[0;34m\"memory_map\"\u001b[0m\u001b[0;34m,\u001b[0m \u001b[0;34m\"compression\"\u001b[0m\u001b[0;34m)\u001b[0m\u001b[0;34m:\u001b[0m\u001b[0;34m\u001b[0m\u001b[0;34m\u001b[0m\u001b[0m\n",
      "\u001b[0;32m~/AIML/lib/python3.8/site-packages/pandas/io/parsers.py\u001b[0m in \u001b[0;36m_open_handles\u001b[0;34m(self, src, kwds)\u001b[0m\n\u001b[1;32m   1360\u001b[0m         \u001b[0mLet\u001b[0m \u001b[0mthe\u001b[0m \u001b[0mreaders\u001b[0m \u001b[0mopen\u001b[0m \u001b[0mIOHanldes\u001b[0m \u001b[0mafter\u001b[0m \u001b[0mthey\u001b[0m \u001b[0mare\u001b[0m \u001b[0mdone\u001b[0m \u001b[0;32mwith\u001b[0m \u001b[0mtheir\u001b[0m \u001b[0mpotential\u001b[0m \u001b[0mraises\u001b[0m\u001b[0;34m.\u001b[0m\u001b[0;34m\u001b[0m\u001b[0;34m\u001b[0m\u001b[0m\n\u001b[1;32m   1361\u001b[0m         \"\"\"\n\u001b[0;32m-> 1362\u001b[0;31m         self.handles = get_handle(\n\u001b[0m\u001b[1;32m   1363\u001b[0m             \u001b[0msrc\u001b[0m\u001b[0;34m,\u001b[0m\u001b[0;34m\u001b[0m\u001b[0;34m\u001b[0m\u001b[0m\n\u001b[1;32m   1364\u001b[0m             \u001b[0;34m\"r\"\u001b[0m\u001b[0;34m,\u001b[0m\u001b[0;34m\u001b[0m\u001b[0;34m\u001b[0m\u001b[0m\n",
      "\u001b[0;32m~/AIML/lib/python3.8/site-packages/pandas/io/common.py\u001b[0m in \u001b[0;36mget_handle\u001b[0;34m(path_or_buf, mode, encoding, compression, memory_map, is_text, errors, storage_options)\u001b[0m\n\u001b[1;32m    640\u001b[0m                 \u001b[0merrors\u001b[0m \u001b[0;34m=\u001b[0m \u001b[0;34m\"replace\"\u001b[0m\u001b[0;34m\u001b[0m\u001b[0;34m\u001b[0m\u001b[0m\n\u001b[1;32m    641\u001b[0m             \u001b[0;31m# Encoding\u001b[0m\u001b[0;34m\u001b[0m\u001b[0;34m\u001b[0m\u001b[0;34m\u001b[0m\u001b[0m\n\u001b[0;32m--> 642\u001b[0;31m             handle = open(\n\u001b[0m\u001b[1;32m    643\u001b[0m                 \u001b[0mhandle\u001b[0m\u001b[0;34m,\u001b[0m\u001b[0;34m\u001b[0m\u001b[0;34m\u001b[0m\u001b[0m\n\u001b[1;32m    644\u001b[0m                 \u001b[0mioargs\u001b[0m\u001b[0;34m.\u001b[0m\u001b[0mmode\u001b[0m\u001b[0;34m,\u001b[0m\u001b[0;34m\u001b[0m\u001b[0;34m\u001b[0m\u001b[0m\n",
      "\u001b[0;31mFileNotFoundError\u001b[0m: [Errno 2] No such file or directory: 'final_features.csv'"
     ]
    }
   ],
   "source": [
    "#Creating db file from csv\n",
    "if not os.path.isfile('train.db'):\n",
    "    disk_engine = create_engine('sqlite:///train.db')\n",
    "    start = dt.datetime.now()\n",
    "    chunksize = 180000\n",
    "    j = 0\n",
    "    index_start = 1\n",
    "    for df in pd.read_csv('final_features.csv', names=['Unnamed: 0','id','is_duplicate','cwc_min','cwc_max','csc_min','csc_max','ctc_min','ctc_max','last_word_eq','first_word_eq','abs_len_diff','mean_len','token_set_ratio','token_sort_ratio','fuzz_ratio','fuzz_partial_ratio','longest_substr_ratio','freq_qid1','freq_qid2','q1len','q2len','q1_n_words','q2_n_words','word_Common','word_Total','word_share','freq_q1+q2','freq_q1-q2','0_x','1_x','2_x','3_x','4_x','5_x','6_x','7_x','8_x','9_x','10_x','11_x','12_x','13_x','14_x','15_x','16_x','17_x','18_x','19_x','20_x','21_x','22_x','23_x','24_x','25_x','26_x','27_x','28_x','29_x','30_x','31_x','32_x','33_x','34_x','35_x','36_x','37_x','38_x','39_x','40_x','41_x','42_x','43_x','44_x','45_x','46_x','47_x','48_x','49_x','50_x','51_x','52_x','53_x','54_x','55_x','56_x','57_x','58_x','59_x','60_x','61_x','62_x','63_x','64_x','65_x','66_x','67_x','68_x','69_x','70_x','71_x','72_x','73_x','74_x','75_x','76_x','77_x','78_x','79_x','80_x','81_x','82_x','83_x','84_x','85_x','86_x','87_x','88_x','89_x','90_x','91_x','92_x','93_x','94_x','95_x','96_x','97_x','98_x','99_x','100_x','101_x','102_x','103_x','104_x','105_x','106_x','107_x','108_x','109_x','110_x','111_x','112_x','113_x','114_x','115_x','116_x','117_x','118_x','119_x','120_x','121_x','122_x','123_x','124_x','125_x','126_x','127_x','128_x','129_x','130_x','131_x','132_x','133_x','134_x','135_x','136_x','137_x','138_x','139_x','140_x','141_x','142_x','143_x','144_x','145_x','146_x','147_x','148_x','149_x','150_x','151_x','152_x','153_x','154_x','155_x','156_x','157_x','158_x','159_x','160_x','161_x','162_x','163_x','164_x','165_x','166_x','167_x','168_x','169_x','170_x','171_x','172_x','173_x','174_x','175_x','176_x','177_x','178_x','179_x','180_x','181_x','182_x','183_x','184_x','185_x','186_x','187_x','188_x','189_x','190_x','191_x','192_x','193_x','194_x','195_x','196_x','197_x','198_x','199_x','200_x','201_x','202_x','203_x','204_x','205_x','206_x','207_x','208_x','209_x','210_x','211_x','212_x','213_x','214_x','215_x','216_x','217_x','218_x','219_x','220_x','221_x','222_x','223_x','224_x','225_x','226_x','227_x','228_x','229_x','230_x','231_x','232_x','233_x','234_x','235_x','236_x','237_x','238_x','239_x','240_x','241_x','242_x','243_x','244_x','245_x','246_x','247_x','248_x','249_x','250_x','251_x','252_x','253_x','254_x','255_x','256_x','257_x','258_x','259_x','260_x','261_x','262_x','263_x','264_x','265_x','266_x','267_x','268_x','269_x','270_x','271_x','272_x','273_x','274_x','275_x','276_x','277_x','278_x','279_x','280_x','281_x','282_x','283_x','284_x','285_x','286_x','287_x','288_x','289_x','290_x','291_x','292_x','293_x','294_x','295_x','296_x','297_x','298_x','299_x','300_x','301_x','302_x','303_x','304_x','305_x','306_x','307_x','308_x','309_x','310_x','311_x','312_x','313_x','314_x','315_x','316_x','317_x','318_x','319_x','320_x','321_x','322_x','323_x','324_x','325_x','326_x','327_x','328_x','329_x','330_x','331_x','332_x','333_x','334_x','335_x','336_x','337_x','338_x','339_x','340_x','341_x','342_x','343_x','344_x','345_x','346_x','347_x','348_x','349_x','350_x','351_x','352_x','353_x','354_x','355_x','356_x','357_x','358_x','359_x','360_x','361_x','362_x','363_x','364_x','365_x','366_x','367_x','368_x','369_x','370_x','371_x','372_x','373_x','374_x','375_x','376_x','377_x','378_x','379_x','380_x','381_x','382_x','383_x','0_y','1_y','2_y','3_y','4_y','5_y','6_y','7_y','8_y','9_y','10_y','11_y','12_y','13_y','14_y','15_y','16_y','17_y','18_y','19_y','20_y','21_y','22_y','23_y','24_y','25_y','26_y','27_y','28_y','29_y','30_y','31_y','32_y','33_y','34_y','35_y','36_y','37_y','38_y','39_y','40_y','41_y','42_y','43_y','44_y','45_y','46_y','47_y','48_y','49_y','50_y','51_y','52_y','53_y','54_y','55_y','56_y','57_y','58_y','59_y','60_y','61_y','62_y','63_y','64_y','65_y','66_y','67_y','68_y','69_y','70_y','71_y','72_y','73_y','74_y','75_y','76_y','77_y','78_y','79_y','80_y','81_y','82_y','83_y','84_y','85_y','86_y','87_y','88_y','89_y','90_y','91_y','92_y','93_y','94_y','95_y','96_y','97_y','98_y','99_y','100_y','101_y','102_y','103_y','104_y','105_y','106_y','107_y','108_y','109_y','110_y','111_y','112_y','113_y','114_y','115_y','116_y','117_y','118_y','119_y','120_y','121_y','122_y','123_y','124_y','125_y','126_y','127_y','128_y','129_y','130_y','131_y','132_y','133_y','134_y','135_y','136_y','137_y','138_y','139_y','140_y','141_y','142_y','143_y','144_y','145_y','146_y','147_y','148_y','149_y','150_y','151_y','152_y','153_y','154_y','155_y','156_y','157_y','158_y','159_y','160_y','161_y','162_y','163_y','164_y','165_y','166_y','167_y','168_y','169_y','170_y','171_y','172_y','173_y','174_y','175_y','176_y','177_y','178_y','179_y','180_y','181_y','182_y','183_y','184_y','185_y','186_y','187_y','188_y','189_y','190_y','191_y','192_y','193_y','194_y','195_y','196_y','197_y','198_y','199_y','200_y','201_y','202_y','203_y','204_y','205_y','206_y','207_y','208_y','209_y','210_y','211_y','212_y','213_y','214_y','215_y','216_y','217_y','218_y','219_y','220_y','221_y','222_y','223_y','224_y','225_y','226_y','227_y','228_y','229_y','230_y','231_y','232_y','233_y','234_y','235_y','236_y','237_y','238_y','239_y','240_y','241_y','242_y','243_y','244_y','245_y','246_y','247_y','248_y','249_y','250_y','251_y','252_y','253_y','254_y','255_y','256_y','257_y','258_y','259_y','260_y','261_y','262_y','263_y','264_y','265_y','266_y','267_y','268_y','269_y','270_y','271_y','272_y','273_y','274_y','275_y','276_y','277_y','278_y','279_y','280_y','281_y','282_y','283_y','284_y','285_y','286_y','287_y','288_y','289_y','290_y','291_y','292_y','293_y','294_y','295_y','296_y','297_y','298_y','299_y','300_y','301_y','302_y','303_y','304_y','305_y','306_y','307_y','308_y','309_y','310_y','311_y','312_y','313_y','314_y','315_y','316_y','317_y','318_y','319_y','320_y','321_y','322_y','323_y','324_y','325_y','326_y','327_y','328_y','329_y','330_y','331_y','332_y','333_y','334_y','335_y','336_y','337_y','338_y','339_y','340_y','341_y','342_y','343_y','344_y','345_y','346_y','347_y','348_y','349_y','350_y','351_y','352_y','353_y','354_y','355_y','356_y','357_y','358_y','359_y','360_y','361_y','362_y','363_y','364_y','365_y','366_y','367_y','368_y','369_y','370_y','371_y','372_y','373_y','374_y','375_y','376_y','377_y','378_y','379_y','380_y','381_y','382_y','383_y'], chunksize=chunksize, iterator=True, encoding='utf-8', ):\n",
    "        df.index += index_start\n",
    "        j+=1\n",
    "        print('{} rows'.format(j*chunksize))\n",
    "        df.to_sql('data', disk_engine, if_exists='append')\n",
    "        index_start = df.index[-1] + 1"
   ]
  },
  {
   "cell_type": "code",
   "execution_count": null,
   "metadata": {
    "colab": {},
    "colab_type": "code",
    "id": "4hpD3aBktARn"
   },
   "outputs": [],
   "source": [
    "#http://www.sqlitetutorial.net/sqlite-python/create-tables/\n",
    "def create_connection(db_file):\n",
    "    \"\"\" create a database connection to the SQLite database\n",
    "        specified by db_file\n",
    "    :param db_file: database file\n",
    "    :return: Connection object or None\n",
    "    \"\"\"\n",
    "    try:\n",
    "        conn = sqlite3.connect(db_file)\n",
    "        return conn\n",
    "    except Error as e:\n",
    "        print(e)\n",
    " \n",
    "    return None\n",
    "\n",
    "\n",
    "def checkTableExists(dbcon):\n",
    "    cursr = dbcon.cursor()\n",
    "    str = \"select name from sqlite_master where type='table'\"\n",
    "    table_names = cursr.execute(str)\n",
    "    print(\"Tables in the databse:\")\n",
    "    tables =table_names.fetchall() \n",
    "    print(tables[0][0])\n",
    "    return(len(tables))"
   ]
  },
  {
   "cell_type": "code",
   "execution_count": null,
   "metadata": {
    "colab": {},
    "colab_type": "code",
    "id": "nR8ZIUnttARs",
    "outputId": "810fb3fb-7da2-4b78-9e29-9edabbf68cf6"
   },
   "outputs": [],
   "source": [
    "read_db = 'train.db'\n",
    "conn_r = create_connection(read_db)\n",
    "checkTableExists(conn_r)\n",
    "conn_r.close()"
   ]
  },
  {
   "cell_type": "code",
   "execution_count": null,
   "metadata": {
    "colab": {},
    "colab_type": "code",
    "id": "SZq5gaaztARy"
   },
   "outputs": [],
   "source": [
    "# try to sample data according to the computing power you have\n",
    "if os.path.isfile(read_db):\n",
    "    conn_r = create_connection(read_db)\n",
    "    if conn_r is not None:\n",
    "        # for selecting first 1M rows\n",
    "        # data = pd.read_sql_query(\"\"\"SELECT * FROM data LIMIT 100001;\"\"\", conn_r)\n",
    "        \n",
    "        # for selecting random points\n",
    "        data = pd.read_sql_query(\"SELECT * From data ORDER BY RANDOM() LIMIT 100001;\", conn_r)\n",
    "        conn_r.commit()\n",
    "        conn_r.close()"
   ]
  },
  {
   "cell_type": "code",
   "execution_count": null,
   "metadata": {
    "colab": {},
    "colab_type": "code",
    "id": "ZkeBKktKtAR3"
   },
   "outputs": [],
   "source": [
    "# remove the first row \n",
    "data.drop(data.index[0], inplace=True)\n",
    "y_true = data['is_duplicate']\n",
    "data.drop(['Unnamed: 0', 'id','index','is_duplicate'], axis=1, inplace=True)"
   ]
  },
  {
   "cell_type": "code",
   "execution_count": null,
   "metadata": {
    "colab": {},
    "colab_type": "code",
    "id": "QKSenpsmtAR9",
    "outputId": "81d890ce-df79-4402-9324-84817dbd5a7d"
   },
   "outputs": [],
   "source": [
    "data.head()"
   ]
  },
  {
   "cell_type": "markdown",
   "metadata": {
    "colab_type": "text",
    "id": "KaWHDzqUtASD"
   },
   "source": [
    "<h2> 4.2 Converting strings to numerics </h2>"
   ]
  },
  {
   "cell_type": "code",
   "execution_count": null,
   "metadata": {
    "colab": {},
    "colab_type": "code",
    "id": "iLV60gkptASD",
    "outputId": "f297e0f4-52d5-4ab4-8a43-f0ff82f63698"
   },
   "outputs": [],
   "source": [
    "# after we read from sql table each entry was read it as a string\n",
    "# we convert all the features into numaric before we apply any model\n",
    "cols = list(data.columns)\n",
    "for i in cols:\n",
    "    data[i] = data[i].apply(pd.to_numeric)\n",
    "    print(i)"
   ]
  },
  {
   "cell_type": "code",
   "execution_count": null,
   "metadata": {
    "colab": {},
    "colab_type": "code",
    "id": "_LpfQwc9tASJ"
   },
   "outputs": [],
   "source": [
    "# https://stackoverflow.com/questions/7368789/convert-all-strings-in-a-list-to-int\n",
    "y_true = list(map(int, y_true.values))"
   ]
  },
  {
   "cell_type": "markdown",
   "metadata": {
    "colab_type": "text",
    "id": "CuMTqWGutASO"
   },
   "source": [
    "<h2> 4.3 Random train test split( 70:30) </h2>"
   ]
  },
  {
   "cell_type": "code",
   "execution_count": null,
   "metadata": {
    "colab": {},
    "colab_type": "code",
    "id": "3Rat2obGtASP"
   },
   "outputs": [],
   "source": [
    "X_train,X_test, y_train, y_test = train_test_split(data, y_true, stratify=y_true, test_size=0.3)"
   ]
  },
  {
   "cell_type": "code",
   "execution_count": null,
   "metadata": {
    "colab": {},
    "colab_type": "code",
    "id": "1Iw9zCHqtASS",
    "outputId": "910b684b-0876-4dd8-e0d9-457846236833"
   },
   "outputs": [],
   "source": [
    "print(\"Number of data points in train data :\",X_train.shape)\n",
    "print(\"Number of data points in test data :\",X_test.shape)"
   ]
  },
  {
   "cell_type": "code",
   "execution_count": null,
   "metadata": {
    "colab": {},
    "colab_type": "code",
    "id": "0oDV15LJtASY",
    "outputId": "70a1e4eb-3f31-4f1e-a53b-ad972978505d"
   },
   "outputs": [],
   "source": [
    "print(\"-\"*10, \"Distribution of output variable in train data\", \"-\"*10)\n",
    "train_distr = Counter(y_train)\n",
    "train_len = len(y_train)\n",
    "print(\"Class 0: \",int(train_distr[0])/train_len,\"Class 1: \", int(train_distr[1])/train_len)\n",
    "print(\"-\"*10, \"Distribution of output variable in train data\", \"-\"*10)\n",
    "test_distr = Counter(y_test)\n",
    "test_len = len(y_test)\n",
    "print(\"Class 0: \",int(test_distr[1])/test_len, \"Class 1: \",int(test_distr[1])/test_len)"
   ]
  },
  {
   "cell_type": "code",
   "execution_count": null,
   "metadata": {
    "colab": {},
    "colab_type": "code",
    "id": "XfxcPT6jtASg"
   },
   "outputs": [],
   "source": [
    "# This function plots the confusion matrices given y_i, y_i_hat.\n",
    "def plot_confusion_matrix(test_y, predict_y):\n",
    "    C = confusion_matrix(test_y, predict_y)\n",
    "    # C = 9,9 matrix, each cell (i,j) represents number of points of class i are predicted class j\n",
    "    \n",
    "    A =(((C.T)/(C.sum(axis=1))).T)\n",
    "    #divid each element of the confusion matrix with the sum of elements in that column\n",
    "    \n",
    "    # C = [[1, 2],\n",
    "    #     [3, 4]]\n",
    "    # C.T = [[1, 3],\n",
    "    #        [2, 4]]\n",
    "    # C.sum(axis = 1)  axis=0 corresonds to columns and axis=1 corresponds to rows in two diamensional array\n",
    "    # C.sum(axix =1) = [[3, 7]]\n",
    "    # ((C.T)/(C.sum(axis=1))) = [[1/3, 3/7]\n",
    "    #                           [2/3, 4/7]]\n",
    "\n",
    "    # ((C.T)/(C.sum(axis=1))).T = [[1/3, 2/3]\n",
    "    #                           [3/7, 4/7]]\n",
    "    # sum of row elements = 1\n",
    "    \n",
    "    B =(C/C.sum(axis=0))\n",
    "    #divid each element of the confusion matrix with the sum of elements in that row\n",
    "    # C = [[1, 2],\n",
    "    #     [3, 4]]\n",
    "    # C.sum(axis = 0)  axis=0 corresonds to columns and axis=1 corresponds to rows in two diamensional array\n",
    "    # C.sum(axix =0) = [[4, 6]]\n",
    "    # (C/C.sum(axis=0)) = [[1/4, 2/6],\n",
    "    #                      [3/4, 4/6]] \n",
    "    plt.figure(figsize=(20,4))\n",
    "    \n",
    "    labels = [1,2]\n",
    "    # representing A in heatmap format\n",
    "    cmap=sns.light_palette(\"blue\")\n",
    "    plt.subplot(1, 3, 1)\n",
    "    sns.heatmap(C, annot=True, cmap=cmap, fmt=\".3f\", xticklabels=labels, yticklabels=labels)\n",
    "    plt.xlabel('Predicted Class')\n",
    "    plt.ylabel('Original Class')\n",
    "    plt.title(\"Confusion matrix\")\n",
    "    \n",
    "    plt.subplot(1, 3, 2)\n",
    "    sns.heatmap(B, annot=True, cmap=cmap, fmt=\".3f\", xticklabels=labels, yticklabels=labels)\n",
    "    plt.xlabel('Predicted Class')\n",
    "    plt.ylabel('Original Class')\n",
    "    plt.title(\"Precision matrix\")\n",
    "    \n",
    "    plt.subplot(1, 3, 3)\n",
    "    # representing B in heatmap format\n",
    "    sns.heatmap(A, annot=True, cmap=cmap, fmt=\".3f\", xticklabels=labels, yticklabels=labels)\n",
    "    plt.xlabel('Predicted Class')\n",
    "    plt.ylabel('Original Class')\n",
    "    plt.title(\"Recall matrix\")\n",
    "    \n",
    "    plt.show()"
   ]
  },
  {
   "cell_type": "markdown",
   "metadata": {
    "colab_type": "text",
    "id": "UStQJ5F_tASk"
   },
   "source": [
    "<h2> 4.4 Building a random model (Finding worst-case log-loss) </h2>"
   ]
  },
  {
   "cell_type": "code",
   "execution_count": null,
   "metadata": {
    "colab": {},
    "colab_type": "code",
    "id": "qwMDqcU7tASl",
    "outputId": "c1e90d53-25ec-445b-e33a-299538520e32"
   },
   "outputs": [],
   "source": [
    "# we need to generate 9 numbers and the sum of numbers should be 1\n",
    "# one solution is to genarate 9 numbers and divide each of the numbers by their sum\n",
    "# ref: https://stackoverflow.com/a/18662466/4084039\n",
    "# we create a output array that has exactly same size as the CV data\n",
    "predicted_y = np.zeros((test_len,2))\n",
    "for i in range(test_len):\n",
    "    rand_probs = np.random.rand(1,2)\n",
    "    predicted_y[i] = ((rand_probs/sum(sum(rand_probs)))[0])\n",
    "print(\"Log loss on Test Data using Random Model\",log_loss(y_test, predicted_y, eps=1e-15))\n",
    "\n",
    "predicted_y =np.argmax(predicted_y, axis=1)\n",
    "plot_confusion_matrix(y_test, predicted_y)"
   ]
  },
  {
   "cell_type": "markdown",
   "metadata": {
    "colab_type": "text",
    "id": "YgY29g_qtASq"
   },
   "source": [
    "<h2> 4.4 Logistic Regression with hyperparameter tuning </h2>"
   ]
  },
  {
   "cell_type": "code",
   "execution_count": null,
   "metadata": {
    "colab": {},
    "colab_type": "code",
    "id": "Wb2tOE3GtASr",
    "outputId": "d7e4fc88-7d4e-4313-cda7-462a2409292e"
   },
   "outputs": [],
   "source": [
    "alpha = [10 ** x for x in range(-5, 2)] # hyperparam for SGD classifier.\n",
    "\n",
    "# read more about SGDClassifier() at http://scikit-learn.org/stable/modules/generated/sklearn.linear_model.SGDClassifier.html\n",
    "# ------------------------------\n",
    "# default parameters\n",
    "# SGDClassifier(loss=’hinge’, penalty=’l2’, alpha=0.0001, l1_ratio=0.15, fit_intercept=True, max_iter=None, tol=None, \n",
    "# shuffle=True, verbose=0, epsilon=0.1, n_jobs=1, random_state=None, learning_rate=’optimal’, eta0=0.0, power_t=0.5, \n",
    "# class_weight=None, warm_start=False, average=False, n_iter=None)\n",
    "\n",
    "# some of methods\n",
    "# fit(X, y[, coef_init, intercept_init, …])\tFit linear model with Stochastic Gradient Descent.\n",
    "# predict(X)\tPredict class labels for samples in X.\n",
    "\n",
    "#-------------------------------\n",
    "# video link: \n",
    "#------------------------------\n",
    "\n",
    "\n",
    "log_error_array=[]\n",
    "for i in alpha:\n",
    "    clf = SGDClassifier(alpha=i, penalty='l2', loss='log', random_state=42)\n",
    "    clf.fit(X_train, y_train)\n",
    "    sig_clf = CalibratedClassifierCV(clf, method=\"sigmoid\")\n",
    "    sig_clf.fit(X_train, y_train)\n",
    "    predict_y = sig_clf.predict_proba(X_test)\n",
    "    log_error_array.append(log_loss(y_test, predict_y, labels=clf.classes_, eps=1e-15))\n",
    "    print('For values of alpha = ', i, \"The log loss is:\",log_loss(y_test, predict_y, labels=clf.classes_, eps=1e-15))\n",
    "\n",
    "fig, ax = plt.subplots()\n",
    "ax.plot(alpha, log_error_array,c='g')\n",
    "for i, txt in enumerate(np.round(log_error_array,3)):\n",
    "    ax.annotate((alpha[i],np.round(txt,3)), (alpha[i],log_error_array[i]))\n",
    "plt.grid()\n",
    "plt.title(\"Cross Validation Error for each alpha\")\n",
    "plt.xlabel(\"Alpha i's\")\n",
    "plt.ylabel(\"Error measure\")\n",
    "plt.show()\n",
    "\n",
    "\n",
    "best_alpha = np.argmin(log_error_array)\n",
    "clf = SGDClassifier(alpha=alpha[best_alpha], penalty='l2', loss='log', random_state=42)\n",
    "clf.fit(X_train, y_train)\n",
    "sig_clf = CalibratedClassifierCV(clf, method=\"sigmoid\")\n",
    "sig_clf.fit(X_train, y_train)\n",
    "\n",
    "predict_y = sig_clf.predict_proba(X_train)\n",
    "print('For values of best alpha = ', alpha[best_alpha], \"The train log loss is:\",log_loss(y_train, predict_y, labels=clf.classes_, eps=1e-15))\n",
    "predict_y = sig_clf.predict_proba(X_test)\n",
    "print('For values of best alpha = ', alpha[best_alpha], \"The test log loss is:\",log_loss(y_test, predict_y, labels=clf.classes_, eps=1e-15))\n",
    "predicted_y =np.argmax(predict_y,axis=1)\n",
    "print(\"Total number of data points :\", len(predicted_y))\n",
    "plot_confusion_matrix(y_test, predicted_y)"
   ]
  },
  {
   "cell_type": "markdown",
   "metadata": {
    "colab_type": "text",
    "id": "ouQSEnr3tASy"
   },
   "source": [
    "<h2> 4.5 Linear SVM with hyperparameter tuning </h2>"
   ]
  },
  {
   "cell_type": "code",
   "execution_count": null,
   "metadata": {
    "colab": {},
    "colab_type": "code",
    "id": "AOFfZ5PLtAS0",
    "outputId": "d31eb598-e275-48cb-c49b-98e9eb76d8ba"
   },
   "outputs": [],
   "source": [
    "alpha = [10 ** x for x in range(-5, 2)] # hyperparam for SGD classifier.\n",
    "\n",
    "# read more about SGDClassifier() at http://scikit-learn.org/stable/modules/generated/sklearn.linear_model.SGDClassifier.html\n",
    "# ------------------------------\n",
    "# default parameters\n",
    "# SGDClassifier(loss=’hinge’, penalty=’l2’, alpha=0.0001, l1_ratio=0.15, fit_intercept=True, max_iter=None, tol=None, \n",
    "# shuffle=True, verbose=0, epsilon=0.1, n_jobs=1, random_state=None, learning_rate=’optimal’, eta0=0.0, power_t=0.5, \n",
    "# class_weight=None, warm_start=False, average=False, n_iter=None)\n",
    "\n",
    "# some of methods\n",
    "# fit(X, y[, coef_init, intercept_init, …])\tFit linear model with Stochastic Gradient Descent.\n",
    "# predict(X)\tPredict class labels for samples in X.\n",
    "\n",
    "#-------------------------------\n",
    "# video link: \n",
    "#------------------------------\n",
    "\n",
    "\n",
    "log_error_array=[]\n",
    "for i in alpha:\n",
    "    clf = SGDClassifier(alpha=i, penalty='l1', loss='hinge', random_state=42)\n",
    "    clf.fit(X_train, y_train)\n",
    "    sig_clf = CalibratedClassifierCV(clf, method=\"sigmoid\")\n",
    "    sig_clf.fit(X_train, y_train)\n",
    "    predict_y = sig_clf.predict_proba(X_test)\n",
    "    log_error_array.append(log_loss(y_test, predict_y, labels=clf.classes_, eps=1e-15))\n",
    "    print('For values of alpha = ', i, \"The log loss is:\",log_loss(y_test, predict_y, labels=clf.classes_, eps=1e-15))\n",
    "\n",
    "fig, ax = plt.subplots()\n",
    "ax.plot(alpha, log_error_array,c='g')\n",
    "for i, txt in enumerate(np.round(log_error_array,3)):\n",
    "    ax.annotate((alpha[i],np.round(txt,3)), (alpha[i],log_error_array[i]))\n",
    "plt.grid()\n",
    "plt.title(\"Cross Validation Error for each alpha\")\n",
    "plt.xlabel(\"Alpha i's\")\n",
    "plt.ylabel(\"Error measure\")\n",
    "plt.show()\n",
    "\n",
    "\n",
    "best_alpha = np.argmin(log_error_array)\n",
    "clf = SGDClassifier(alpha=alpha[best_alpha], penalty='l1', loss='hinge', random_state=42)\n",
    "clf.fit(X_train, y_train)\n",
    "sig_clf = CalibratedClassifierCV(clf, method=\"sigmoid\")\n",
    "sig_clf.fit(X_train, y_train)\n",
    "\n",
    "predict_y = sig_clf.predict_proba(X_train)\n",
    "print('For values of best alpha = ', alpha[best_alpha], \"The train log loss is:\",log_loss(y_train, predict_y, labels=clf.classes_, eps=1e-15))\n",
    "predict_y = sig_clf.predict_proba(X_test)\n",
    "print('For values of best alpha = ', alpha[best_alpha], \"The test log loss is:\",log_loss(y_test, predict_y, labels=clf.classes_, eps=1e-15))\n",
    "predicted_y =np.argmax(predict_y,axis=1)\n",
    "print(\"Total number of data points :\", len(predicted_y))\n",
    "plot_confusion_matrix(y_test, predicted_y)"
   ]
  },
  {
   "cell_type": "markdown",
   "metadata": {
    "colab_type": "text",
    "id": "ZhTJgclztAS6"
   },
   "source": [
    "<h2> 4.6 XGBoost </h2>"
   ]
  },
  {
   "cell_type": "code",
   "execution_count": null,
   "metadata": {
    "colab": {},
    "colab_type": "code",
    "id": "9U367-xetAS7",
    "outputId": "167e8588-2ac4-4c6d-ac22-f56a2fce5657"
   },
   "outputs": [],
   "source": [
    "import xgboost as xgb\n",
    "params = {}\n",
    "params['objective'] = 'binary:logistic'\n",
    "params['eval_metric'] = 'logloss'\n",
    "params['eta'] = 0.02\n",
    "params['max_depth'] = 4\n",
    "\n",
    "d_train = xgb.DMatrix(X_train, label=y_train)\n",
    "d_test = xgb.DMatrix(X_test, label=y_test)\n",
    "\n",
    "watchlist = [(d_train, 'train'), (d_test, 'valid')]\n",
    "\n",
    "bst = xgb.train(params, d_train, 400, watchlist, early_stopping_rounds=20, verbose_eval=10)\n",
    "\n",
    "xgdmat = xgb.DMatrix(X_train,y_train)\n",
    "predict_y = bst.predict(d_test)\n",
    "print(\"The test log loss is:\",log_loss(y_test, predict_y, labels=clf.classes_, eps=1e-15))"
   ]
  },
  {
   "cell_type": "code",
   "execution_count": null,
   "metadata": {
    "colab": {},
    "colab_type": "code",
    "id": "6U5b17AatAS_",
    "outputId": "ca83b680-023b-4bc5-f499-8d8d85c2ff5e"
   },
   "outputs": [],
   "source": [
    "predicted_y =np.array(predict_y>0.5,dtype=int)\n",
    "print(\"Total number of data points :\", len(predicted_y))\n",
    "plot_confusion_matrix(y_test, predicted_y)"
   ]
  },
  {
   "cell_type": "markdown",
   "metadata": {
    "colab_type": "text",
    "id": "WmiIgHOJtATF"
   },
   "source": []
  },
  {
   "cell_type": "markdown",
   "metadata": {
    "colab_type": "text",
    "id": "CWS6JoB0tATF"
   },
   "source": [
    "\n"
   ]
  }
 ],
 "metadata": {
  "colab": {
   "name": "4.ML_models.ipynb",
   "provenance": [],
   "version": "0.3.2"
  },
  "kernelspec": {
   "display_name": "Python 3",
   "language": "python",
   "name": "python3"
  },
  "language_info": {
   "codemirror_mode": {
    "name": "ipython",
    "version": 3
   },
   "file_extension": ".py",
   "mimetype": "text/x-python",
   "name": "python",
   "nbconvert_exporter": "python",
   "pygments_lexer": "ipython3",
   "version": "3.8.5"
  }
 },
 "nbformat": 4,
 "nbformat_minor": 1
}