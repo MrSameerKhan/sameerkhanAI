{
 "metadata": {
  "language_info": {
   "codemirror_mode": {
    "name": "ipython",
    "version": 3
   },
   "file_extension": ".py",
   "mimetype": "text/x-python",
   "name": "python",
   "nbconvert_exporter": "python",
   "pygments_lexer": "ipython3",
   "version": "3.8.3"
  },
  "orig_nbformat": 2,
  "kernelspec": {
   "name": "python383jvsc74a57bd0b3ba2566441a7c06988d0923437866b63cedc61552a5af99d1f4fb67d367b25f",
   "display_name": "Python 3.8.3 64-bit ('base': conda)"
  }
 },
 "nbformat": 4,
 "nbformat_minor": 2,
 "cells": [
  {
   "source": [
    "map() function returns a map object(which is an iterator) of the results after applying the given function to each item of a given iterable (list, tuple etc.)"
   ],
   "cell_type": "markdown",
   "metadata": {}
  },
  {
   "source": [
    "# MAP"
   ],
   "cell_type": "markdown",
   "metadata": {}
  },
  {
   "cell_type": "code",
   "execution_count": 2,
   "metadata": {},
   "outputs": [
    {
     "output_type": "stream",
     "name": "stdout",
     "text": [
      "1 Odd Number\n2 Even Number\n23 Odd Number\n4 Even Number\n494 Even Number\n24 Even Number\n"
     ]
    }
   ],
   "source": [
    "# Using iteration\n",
    "\n",
    "def even_or_odd(lis):\n",
    "    for ele in lis:\n",
    "        if ele%2==0:\n",
    "            print(f\"{ele} Even Number\")\n",
    "        else:\n",
    "            print(f\"{ele} Odd Number\")\n",
    "\n",
    "my_list = [1,2,23,4,494,24]\n",
    "even_or_odd(my_list)"
   ]
  },
  {
   "cell_type": "code",
   "execution_count": 9,
   "metadata": {},
   "outputs": [
    {
     "output_type": "execute_result",
     "data": {
      "text/plain": [
       "[4, 6, 8, 20]"
      ]
     },
     "metadata": {},
     "execution_count": 9
    }
   ],
   "source": [
    "# MAP addition\n",
    "\n",
    "def map_addition(num):\n",
    "    return num + num\n",
    "\n",
    "my_list = [2,3,4, 10]\n",
    "add_op= list(map(map_addition, my_list))\n",
    "add_op"
   ]
  },
  {
   "cell_type": "code",
   "execution_count": 13,
   "metadata": {},
   "outputs": [
    {
     "output_type": "execute_result",
     "data": {
      "text/plain": [
       "[4, 9, 16, 100]"
      ]
     },
     "metadata": {},
     "execution_count": 13
    }
   ],
   "source": [
    "# Map Power using lambda\n",
    "my_list = [2,3,4, 10]\n",
    "powe_op= list(map(lambda num : num**2, my_list))\n",
    "powe_op"
   ]
  },
  {
   "cell_type": "code",
   "execution_count": 18,
   "metadata": {},
   "outputs": [
    {
     "output_type": "execute_result",
     "data": {
      "text/plain": [
       "[11, 22, 33]"
      ]
     },
     "metadata": {},
     "execution_count": 18
    }
   ],
   "source": [
    "# Add two list\n",
    "\n",
    "list_1 = [10,20,30]\n",
    "list_2 = [1,2,3]\n",
    "\n",
    "add_list_op = list(map(lambda a,b : a+b, list_1, list_2))\n",
    "add_list_op\n"
   ]
  },
  {
   "cell_type": "code",
   "execution_count": 20,
   "metadata": {},
   "outputs": [
    {
     "output_type": "execute_result",
     "data": {
      "text/plain": [
       "[['S', 'a', 'm', 'e', 'e', 'r'], ['K', 'h', 'a', 'n']]"
      ]
     },
     "metadata": {},
     "execution_count": 20
    }
   ],
   "source": [
    "# list of strings individually\n",
    "\n",
    "my_list = [\"Sameer\", \"Khan\"]\n",
    "\n",
    "list(map(list, my_list))"
   ]
  },
  {
   "cell_type": "code",
   "execution_count": 22,
   "metadata": {},
   "outputs": [
    {
     "output_type": "execute_result",
     "data": {
      "text/plain": [
       "[6, 4]"
      ]
     },
     "metadata": {},
     "execution_count": 22
    }
   ],
   "source": [
    "# length of words\n",
    "list(map(len, my_list))"
   ]
  },
  {
   "source": [
    "# Lambda"
   ],
   "cell_type": "markdown",
   "metadata": {}
  },
  {
   "cell_type": "code",
   "execution_count": 29,
   "metadata": {},
   "outputs": [
    {
     "output_type": "execute_result",
     "data": {
      "text/plain": [
       "[2, 4, 4, 8, 16]"
      ]
     },
     "metadata": {},
     "execution_count": 29
    }
   ],
   "source": [
    "# Without using lambda\n",
    "\n",
    "my_list = [1,2,2,3,4]\n",
    "new_list = []\n",
    "def twoPower():\n",
    "    for i in my_list:\n",
    "        new_list.append(2**i)\n",
    "\n",
    "twoPower()\n",
    "new_list"
   ]
  },
  {
   "cell_type": "code",
   "execution_count": 34,
   "metadata": {},
   "outputs": [
    {
     "output_type": "execute_result",
     "data": {
      "text/plain": [
       "[2, 4, 4, 8, 16]"
      ]
     },
     "metadata": {},
     "execution_count": 34
    }
   ],
   "source": [
    "# Using lambda\n",
    "list(map(lambda n : 2 ** n , my_list))"
   ]
  },
  {
   "cell_type": "code",
   "execution_count": 37,
   "metadata": {},
   "outputs": [
    {
     "output_type": "execute_result",
     "data": {
      "text/plain": [
       "[6, 24, 40, 36]"
      ]
     },
     "metadata": {},
     "execution_count": 37
    }
   ],
   "source": [
    "list_1 = [2,4,5,9]\n",
    "list_2 = [3,6, 8,4]\n",
    "\n",
    "list(map(lambda a, b : a * b , list_1, list_2))"
   ]
  },
  {
   "source": [
    "# List Comprehension"
   ],
   "cell_type": "markdown",
   "metadata": {}
  },
  {
   "cell_type": "code",
   "execution_count": 39,
   "metadata": {},
   "outputs": [
    {
     "output_type": "execute_result",
     "data": {
      "text/plain": [
       "[(2, 3),\n",
       " (2, 6),\n",
       " (2, 8),\n",
       " (2, 4),\n",
       " (4, 3),\n",
       " (4, 6),\n",
       " (4, 8),\n",
       " (4, 4),\n",
       " (5, 3),\n",
       " (5, 6),\n",
       " (5, 8),\n",
       " (5, 4),\n",
       " (9, 3),\n",
       " (9, 6),\n",
       " (9, 8),\n",
       " (9, 4)]"
      ]
     },
     "metadata": {},
     "execution_count": 39
    }
   ],
   "source": [
    "[(i,j) for i in list_1 for j in list_2]"
   ]
  },
  {
   "cell_type": "code",
   "execution_count": 43,
   "metadata": {},
   "outputs": [
    {
     "output_type": "execute_result",
     "data": {
      "text/plain": [
       "[5, 9]"
      ]
     },
     "metadata": {},
     "execution_count": 43
    }
   ],
   "source": [
    "[a for a in list_1 if a % 2!=0]"
   ]
  },
  {
   "source": [
    "# Filter"
   ],
   "cell_type": "markdown",
   "metadata": {}
  },
  {
   "cell_type": "code",
   "execution_count": 50,
   "metadata": {},
   "outputs": [
    {
     "output_type": "execute_result",
     "data": {
      "text/plain": [
       "[3]"
      ]
     },
     "metadata": {},
     "execution_count": 50
    }
   ],
   "source": [
    "# even \n",
    "list_1 = [2,4,5,9]\n",
    "list(filter(lambda i : i%2==0, list_1))\n",
    "\n",
    "#Odd\n",
    "list_2 = [3,6, 8,4]\n",
    "list(filter(lambda i : i%2 != 0, list_2))\n"
   ]
  },
  {
   "cell_type": "code",
   "execution_count": 60,
   "metadata": {},
   "outputs": [
    {
     "output_type": "stream",
     "name": "stdout",
     "text": [
      "The filtered letters are:\ne\ne\n"
     ]
    }
   ],
   "source": [
    "# function that filters vowels\n",
    "def fun(variable):\n",
    "\tletters = ['a', 'e', 'i', 'o', 'u']\n",
    "\tif (variable in letters):\n",
    "\t\treturn True\n",
    "\telse:\n",
    "\t\treturn False\n",
    "\n",
    "\n",
    "# sequence\n",
    "sequence = ['g', 'e', 'e', 'j', 'k', 's', 'p', 'r']\n",
    "\n",
    "# using filter function\n",
    "filtered = filter(fun, sequence)\n",
    "\n",
    "print('The filtered letters are:')\n",
    "for s in filtered:\n",
    "\tprint(s)\n"
   ]
  },
  {
   "source": [
    "# Reduce "
   ],
   "cell_type": "markdown",
   "metadata": {}
  },
  {
   "cell_type": "code",
   "execution_count": 67,
   "metadata": {},
   "outputs": [
    {
     "output_type": "execute_result",
     "data": {
      "text/plain": [
       "10"
      ]
     },
     "metadata": {},
     "execution_count": 67
    }
   ],
   "source": [
    "from functools import reduce\n",
    "\n",
    "my_list=[1,2,3,4]\n",
    "reduce(lambda a,b: a+b, my_list)\n"
   ]
  },
  {
   "source": [
    "# List"
   ],
   "cell_type": "markdown",
   "metadata": {}
  },
  {
   "cell_type": "code",
   "execution_count": 68,
   "metadata": {},
   "outputs": [],
   "source": [
    "my_list = [\"Sameer\", 1994]\n",
    "type(my_list)"
   ]
  },
  {
   "source": [
    "# Tuple"
   ],
   "cell_type": "markdown",
   "metadata": {}
  },
  {
   "cell_type": "code",
   "execution_count": 70,
   "metadata": {},
   "outputs": [
    {
     "output_type": "execute_result",
     "data": {
      "text/plain": [
       "tuple"
      ]
     },
     "metadata": {},
     "execution_count": 70
    }
   ],
   "source": [
    "my_tuple = (\"Sameer\", 1994)\n",
    "type(my_tuple)"
   ]
  },
  {
   "source": [
    "# Dictionary"
   ],
   "cell_type": "markdown",
   "metadata": {}
  },
  {
   "source": [
    "my_dict = { \"name\" : \"Sameer\", \"Age\": 1994}\n",
    "type(my_dict)"
   ],
   "cell_type": "code",
   "metadata": {},
   "execution_count": 72,
   "outputs": [
    {
     "output_type": "execute_result",
     "data": {
      "text/plain": [
       "dict"
      ]
     },
     "metadata": {},
     "execution_count": 72
    }
   ]
  },
  {
   "source": [
    "# Set"
   ],
   "cell_type": "markdown",
   "metadata": {}
  },
  {
   "cell_type": "code",
   "execution_count": 74,
   "metadata": {},
   "outputs": [
    {
     "output_type": "execute_result",
     "data": {
      "text/plain": [
       "{'Hyderabad', 'Khan', 'Sameer'}"
      ]
     },
     "metadata": {},
     "execution_count": 74
    }
   ],
   "source": [
    "my_set = {\"Sameer\", \"Khan\", \"Hyderabad\", \"Sameer\"}\n",
    "type(my_set)\n",
    "my_set"
   ]
  },
  {
   "source": [
    "# Exception Handling"
   ],
   "cell_type": "markdown",
   "metadata": {}
  },
  {
   "source": [
    "What is Exception?\n",
    "\n",
    "An exception is an event, which occurs during the execution of a program that disrupts the normal flow of the program's instructions. In general, when a Python script encounters a situation that it cannot cope with, it raises an exception. An exception is a Python object that represents an error"
   ],
   "cell_type": "markdown",
   "metadata": {}
  },
  {
   "source": [
    "# Exception Try Except"
   ],
   "cell_type": "markdown",
   "metadata": {}
  },
  {
   "cell_type": "code",
   "execution_count": 91,
   "metadata": {},
   "outputs": [
    {
     "output_type": "stream",
     "name": "stdout",
     "text": [
      "Please enter the numbers greater than zero\nEverytime it will print\n"
     ]
    }
   ],
   "source": [
    "def checkError():\n",
    "    try:\n",
    "        a = int(input(\"Enter 1st number\"))\n",
    "        b = int(input(\"Enter 2nd number\"))\n",
    "\n",
    "        div = a%b\n",
    "        print(div)\n",
    "    except ZeroDivisionError:\n",
    "        print(\"Please enter the numbers greater than zero\")\n",
    "    except Exception as ex:\n",
    "        print(ex.__class__)\n",
    "    finally:\n",
    "        print(\"Everytime it will print\")\n",
    "\n",
    "checkError()"
   ]
  },
  {
   "cell_type": "code",
   "execution_count": 104,
   "metadata": {},
   "outputs": [
    {
     "output_type": "stream",
     "name": "stdout",
     "text": [
      "Please provide number greater than 0\nThe execution is done\n"
     ]
    }
   ],
   "source": [
    "\n",
    "\n",
    "### try else\n",
    "try:\n",
    "    ##code block where exception can occur\n",
    "    a=int(input(\"Enter the number 1 \"))\n",
    "    b=int(input(\"Enter the number 2 \"))\n",
    "    c=a/b\n",
    "    \n",
    "except NameError:\n",
    "    print(\"The user have not defined the variable\")\n",
    "except ZeroDivisionError:\n",
    "    print(\"Please provide number greater than 0\")\n",
    "except TypeError:\n",
    "    print(\"Try to make the datatype similar\")\n",
    "except Exception as ex:\n",
    "    print(ex)\n",
    "else:\n",
    "    print(c)\n",
    "finally:\n",
    "    print(\"The execution is done\")\n",
    "\n"
   ]
  },
  {
   "source": [
    "# Raise "
   ],
   "cell_type": "markdown",
   "metadata": {}
  },
  {
   "cell_type": "code",
   "execution_count": 96,
   "metadata": {},
   "outputs": [
    {
     "output_type": "error",
     "ename": "Exception",
     "evalue": "Please enter the number greater than 0",
     "traceback": [
      "\u001b[1;31m---------------------------------------------------------------------------\u001b[0m",
      "\u001b[1;31mException\u001b[0m                                 Traceback (most recent call last)",
      "\u001b[1;32m<ipython-input-96-fa77149a1beb>\u001b[0m in \u001b[0;36m<module>\u001b[1;34m\u001b[0m\n\u001b[0;32m      7\u001b[0m         \u001b[0mdiv\u001b[0m \u001b[1;33m=\u001b[0m \u001b[0mx\u001b[0m\u001b[1;33m/\u001b[0m\u001b[0my\u001b[0m\u001b[1;33m\u001b[0m\u001b[1;33m\u001b[0m\u001b[0m\n\u001b[0;32m      8\u001b[0m         \u001b[0mprint\u001b[0m\u001b[1;33m(\u001b[0m\u001b[1;34mf\"{div}\"\u001b[0m\u001b[1;33m)\u001b[0m\u001b[1;33m\u001b[0m\u001b[1;33m\u001b[0m\u001b[0m\n\u001b[1;32m----> 9\u001b[1;33m \u001b[0mraiseException\u001b[0m\u001b[1;33m(\u001b[0m\u001b[1;33m)\u001b[0m\u001b[1;33m\u001b[0m\u001b[1;33m\u001b[0m\u001b[0m\n\u001b[0m",
      "\u001b[1;32m<ipython-input-96-fa77149a1beb>\u001b[0m in \u001b[0;36mraiseException\u001b[1;34m()\u001b[0m\n\u001b[0;32m      3\u001b[0m \u001b[1;32mdef\u001b[0m \u001b[0mraiseException\u001b[0m\u001b[1;33m(\u001b[0m\u001b[1;33m)\u001b[0m\u001b[1;33m:\u001b[0m\u001b[1;33m\u001b[0m\u001b[1;33m\u001b[0m\u001b[0m\n\u001b[0;32m      4\u001b[0m     \u001b[1;32mif\u001b[0m \u001b[0my\u001b[0m \u001b[1;33m<=\u001b[0m \u001b[1;36m0\u001b[0m\u001b[1;33m:\u001b[0m\u001b[1;33m\u001b[0m\u001b[1;33m\u001b[0m\u001b[0m\n\u001b[1;32m----> 5\u001b[1;33m         \u001b[1;32mraise\u001b[0m \u001b[0mException\u001b[0m\u001b[1;33m(\u001b[0m\u001b[1;34m\"Please enter the number greater than 0\"\u001b[0m\u001b[1;33m)\u001b[0m\u001b[1;33m\u001b[0m\u001b[1;33m\u001b[0m\u001b[0m\n\u001b[0m\u001b[0;32m      6\u001b[0m     \u001b[1;32melse\u001b[0m\u001b[1;33m:\u001b[0m\u001b[1;33m\u001b[0m\u001b[1;33m\u001b[0m\u001b[0m\n\u001b[0;32m      7\u001b[0m         \u001b[0mdiv\u001b[0m \u001b[1;33m=\u001b[0m \u001b[0mx\u001b[0m\u001b[1;33m/\u001b[0m\u001b[0my\u001b[0m\u001b[1;33m\u001b[0m\u001b[1;33m\u001b[0m\u001b[0m\n",
      "\u001b[1;31mException\u001b[0m: Please enter the number greater than 0"
     ]
    }
   ],
   "source": [
    "\n",
    "x = 2\n",
    "y = 0\n",
    "def raiseException():\n",
    "    if y <= 0:\n",
    "        raise Exception(\"Please enter the number greater than 0\")\n",
    "    else:\n",
    "        div = x/y\n",
    "        print(f\"{div}\")\n",
    "raiseException()\n"
   ]
  },
  {
   "source": [
    "# Custom Exception"
   ],
   "cell_type": "markdown",
   "metadata": {}
  },
  {
   "cell_type": "code",
   "execution_count": 100,
   "metadata": {},
   "outputs": [],
   "source": [
    "class Error(Exception):\n",
    "    pass\n",
    "\n",
    "class dobException(Error):\n",
    "    pass\n",
    "\n",
    "class customgeneric(Error):\n",
    "    pass"
   ]
  },
  {
   "cell_type": "code",
   "execution_count": 103,
   "metadata": {},
   "outputs": [
    {
     "output_type": "stream",
     "name": "stdout",
     "text": [
      "The age is not within the range. You cannot apply for the exams\n"
     ]
    }
   ],
   "source": [
    "year=int(input(\"Enter the year of Birth \"))\n",
    "age=2021-year\n",
    "try:\n",
    "    if age<=30 & age>20:\n",
    "        print(\"The age is valid. You can apply for the exams\")\n",
    "    else:\n",
    "        raise dobException\n",
    "except dobException:\n",
    "    print(\"The age is not within the range. You cannot apply for the exams\")"
   ]
  },
  {
   "source": [
    "\n",
    "# Python Assert\n",
    "\n",
    "Python provides the assert statement to check if a given logical expression is true or false. Program execution proceeds only if the expression is true and raises the AssertionError when it is false. The following code shows the usage of the assert statement.\n"
   ],
   "cell_type": "markdown",
   "metadata": {}
  },
  {
   "cell_type": "code",
   "execution_count": 105,
   "metadata": {},
   "outputs": [
    {
     "output_type": "error",
     "ename": "AssertionError",
     "evalue": "",
     "traceback": [
      "\u001b[1;31m---------------------------------------------------------------------------\u001b[0m",
      "\u001b[1;31mAssertionError\u001b[0m                            Traceback (most recent call last)",
      "\u001b[1;32m<ipython-input-105-49b7f0e774e1>\u001b[0m in \u001b[0;36m<module>\u001b[1;34m\u001b[0m\n\u001b[0;32m      1\u001b[0m \u001b[0mnum\u001b[0m\u001b[1;33m=\u001b[0m\u001b[1;36m10\u001b[0m\u001b[1;33m\u001b[0m\u001b[1;33m\u001b[0m\u001b[0m\n\u001b[1;32m----> 2\u001b[1;33m \u001b[1;32massert\u001b[0m \u001b[0mnum\u001b[0m\u001b[1;33m>\u001b[0m\u001b[1;36m10\u001b[0m\u001b[1;33m\u001b[0m\u001b[1;33m\u001b[0m\u001b[0m\n\u001b[0m",
      "\u001b[1;31mAssertionError\u001b[0m: "
     ]
    }
   ],
   "source": [
    "num=10\n",
    "assert num>10"
   ]
  },
  {
   "cell_type": "code",
   "execution_count": 107,
   "metadata": {},
   "outputs": [
    {
     "output_type": "stream",
     "name": "stdout",
     "text": [
      "The number is even\n"
     ]
    }
   ],
   "source": [
    "\n",
    "try:\n",
    "    num = int(input(\"Please enter the number\"))\n",
    "    assert num % 2 == 0\n",
    "    print( \"The number is even\")\n",
    "except AssertionError:\n",
    "    print(\"Please enter even number\")"
   ]
  },
  {
   "cell_type": "code",
   "execution_count": null,
   "metadata": {},
   "outputs": [],
   "source": []
  }
 ]
}