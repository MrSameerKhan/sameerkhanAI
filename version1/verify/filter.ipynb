{
 "cells": [
  {
   "cell_type": "code",
   "execution_count": null,
   "source": [
    "# even \r\n",
    "list_1 = [2,4,5,9]\r\n",
    "list(filter(lambda i : i%2==0, list_1))\r\n",
    "\r\n",
    "#Odd\r\n",
    "list_2 = [3,6, 8,4]\r\n",
    "list(filter(lambda i : i%2 != 0, list_2))"
   ],
   "outputs": [],
   "metadata": {}
  }
 ],
 "metadata": {
  "orig_nbformat": 4,
  "language_info": {
   "name": "python"
  }
 },
 "nbformat": 4,
 "nbformat_minor": 2
}