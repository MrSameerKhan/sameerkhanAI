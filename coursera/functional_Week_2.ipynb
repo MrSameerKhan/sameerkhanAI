{
  "nbformat": 4,
  "nbformat_minor": 0,
  "metadata": {
    "kernelspec": {
      "display_name": "Python 3",
      "language": "python",
      "name": "python3"
    },
    "language_info": {
      "codemirror_mode": {
        "name": "ipython",
        "version": 3
      },
      "file_extension": ".py",
      "mimetype": "text/x-python",
      "name": "python",
      "nbconvert_exporter": "python",
      "pygments_lexer": "ipython3",
      "version": "3.8.5-final"
    },
    "colab": {
      "name": "functional_Week_2.ipynb",
      "provenance": [],
      "collapsed_sections": [
        "slDi0LNSLwlk",
        "1tPbAdRYLwmH",
        "YLOK8GMOLwmP",
        "KA-VnvRpLwmW",
        "-djfT1vDLwma",
        "wxB-r6_sLwmd",
        "eASEXb7uLwml",
        "CndbEe9-Lwmw",
        "2PTkNo-uLwm-",
        "tyi9F1cRLwnF",
        "KUfxD0WHLwnU",
        "8lDJvPvfLwnd",
        "IuICkLdgLwnv",
        "EdlrTTxkLwn1",
        "LoxWasQKLwn5",
        "zS5yD7TaLwn7",
        "vqqV3Ox9LwoA",
        "5d8X74-yLwoL",
        "agL_w4bhLwoU",
        "EgdUwwomLwom",
        "FJWNhXxMLwov",
        "WDGZ4VF-LwpC",
        "PDCxC62VLwpF",
        "B0IxwSLpLwpN",
        "8Ljy2Ro9LwpS",
        "5z_etyCZLwpZ",
        "H7rFrXSkLwpf",
        "waZerBcdLwpj",
        "6euItJ8bLwpn"
      ]
    },
    "accelerator": "GPU"
  },
  "cells": [
    {
      "cell_type": "markdown",
      "metadata": {
        "id": "4R6r-v6r5gSs"
      },
      "source": [
        "## Training with Datasets\n",
        "\n",
        "\n",
        "## 1. Dataframe is not identified\n"
      ]
    },
    {
      "cell_type": "code",
      "metadata": {
        "id": "6JsB_bKALwj0",
        "colab": {
          "base_uri": "https://localhost:8080/"
        },
        "outputId": "8161d2ff-46a3-430a-f5a4-ca7f0ef5ee2d"
      },
      "source": [
        "from tensorflow.compat.v1 import ConfigProto\n",
        "from tensorflow.compat.v1 import InteractiveSession\n",
        "\n",
        "config = ConfigProto()\n",
        "config.gpu_options.allow_growth = True\n",
        "session = InteractiveSession(config=config)\n",
        "\n",
        "\n",
        "import tensorflow as tf\n",
        "print(tf.__version__)"
      ],
      "execution_count": 1,
      "outputs": [
        {
          "output_type": "stream",
          "name": "stdout",
          "text": [
            "2.3.0\n"
          ]
        }
      ]
    },
    {
      "cell_type": "markdown",
      "metadata": {
        "id": "KT-hyAgFLwj7"
      },
      "source": [
        "# Data Pipeline"
      ]
    },
    {
      "cell_type": "markdown",
      "metadata": {
        "id": "n3ueZW9CLwj8"
      },
      "source": [
        " ## Coding tutorials\n",
        " #### [1. Keras datasets](#coding_tutorial_1)\n",
        " #### [2. Dataset generators](#coding_tutorial_2)\n",
        " #### [3. Keras image data augmentation](#coding_tutorial_3)\n",
        " #### [4. The Dataset class](#coding_tutorial_4)\n",
        " #### [5. Training with Datasets](#coding_tutorial_5)"
      ]
    },
    {
      "cell_type": "markdown",
      "metadata": {
        "id": "IF-0r_trLwj9"
      },
      "source": [
        "***\n",
        "<a id=\"coding_tutorial_1\"></a>\n",
        "## Keras datasets\n",
        "\n",
        "For a list of Keras datasets and documentation on recommended usage, see [this link](https://keras.io/datasets/)."
      ]
    },
    {
      "cell_type": "code",
      "metadata": {
        "id": "WHF_JbgGLwj-"
      },
      "source": [
        "import numpy as np\n",
        "import matplotlib.pyplot as plt"
      ],
      "execution_count": 2,
      "outputs": []
    },
    {
      "cell_type": "markdown",
      "metadata": {
        "id": "vyE5HuD8LwkB"
      },
      "source": [
        "#### Load the CIFAR-100 Dataset"
      ]
    },
    {
      "cell_type": "code",
      "metadata": {
        "id": "x3Flu2zSLwkC"
      },
      "source": [
        "from tensorflow.keras.datasets import cifar100"
      ],
      "execution_count": 3,
      "outputs": []
    },
    {
      "cell_type": "code",
      "metadata": {
        "scrolled": true,
        "id": "SQUmYRQdLwkF"
      },
      "source": [
        "# Load the CIFAR-100 dataset\n",
        "\n",
        "(train_image, train_labels),(test_images, test_labels) = cifar100.load_data(label_mode=\"fine\")"
      ],
      "execution_count": 4,
      "outputs": []
    },
    {
      "cell_type": "code",
      "metadata": {
        "id": "l75ozQVFLwkI"
      },
      "source": [
        "# Confirm that reloading the dataset does not require a download\n",
        "\n",
        "(train_images, train_labels),(test_images, test_labels) = cifar100.load_data(label_mode=\"fine\")"
      ],
      "execution_count": 5,
      "outputs": []
    },
    {
      "cell_type": "markdown",
      "metadata": {
        "id": "I1UEPzrYLwkL"
      },
      "source": [
        "#### Examine the Dataset"
      ]
    },
    {
      "cell_type": "markdown",
      "metadata": {
        "id": "rDYN-cq9Mc2Q"
      },
      "source": [
        "#### Import the data\n",
        "\n",
        "The additional files required for this tutorial can be downloaded from the following link:\n",
        "\n",
        "cifar100_fine_labels: https://drive.google.com/open?id=1WFW1cj8v_5z1pGvq6htQyFUPrJP-Z2v5\n",
        "\n",
        "cifar100_coarse_labels: https://drive.google.com/open?id=1Jmt7o-6sP85D7iRORk5tJqJMN3wCP12p\n",
        "\n",
        "You should store these files in Drive for use in this Colab notebook."
      ]
    },
    {
      "cell_type": "code",
      "metadata": {
        "id": "LiplZnP2ND6o",
        "colab": {
          "base_uri": "https://localhost:8080/"
        },
        "outputId": "2f237067-7de1-46cd-af82-09bce8a7a990"
      },
      "source": [
        "# Run this cell to connect to your Drive folder\n",
        "\n",
        "# from google.colab import drive\n",
        "# drive.mount('/content/gdrive')"
      ],
      "execution_count": 6,
      "outputs": []
    },
    {
      "cell_type": "code",
      "metadata": {
        "id": "cpkIbhLTLwkM",
        "colab": {
          "base_uri": "https://localhost:8080/"
        },
        "outputId": "b42f116a-8050-415c-8ba8-47442b44c547"
      },
      "source": [
        "# Examine the shape of the data.\n",
        "\n",
        "print(test_images.shape)\n",
        "print(test_labels.shape)"
      ],
      "execution_count": 7,
      "outputs": [
        {
          "output_type": "stream",
          "name": "stdout",
          "text": [
            "(10000, 32, 32, 3)\n(10000, 1)\n"
          ]
        }
      ]
    },
    {
      "cell_type": "code",
      "metadata": {
        "id": "vY58jmf5LwkS",
        "colab": {
          "base_uri": "https://localhost:8080/",
          "height": 283
        },
        "outputId": "5010e8d3-900e-47ee-c0bc-907f9227ad0f"
      },
      "source": [
        "# Examine one of the images and its corresponding label\n",
        "\n",
        "plt.imshow(train_images[500])\n",
        "print(train_labels[500])"
      ],
      "execution_count": 8,
      "outputs": [
        {
          "output_type": "stream",
          "name": "stdout",
          "text": [
            "[41]\n"
          ]
        },
        {
          "output_type": "display_data",
          "data": {
            "text/plain": "<Figure size 432x288 with 1 Axes>",
            "image/svg+xml": "<?xml version=\"1.0\" encoding=\"utf-8\" standalone=\"no\"?>\n<!DOCTYPE svg PUBLIC \"-//W3C//DTD SVG 1.1//EN\"\n  \"http://www.w3.org/Graphics/SVG/1.1/DTD/svg11.dtd\">\n<!-- Created with matplotlib (https://matplotlib.org/) -->\n<svg height=\"248.919844pt\" version=\"1.1\" viewBox=\"0 0 251.565 248.919844\" width=\"251.565pt\" xmlns=\"http://www.w3.org/2000/svg\" xmlns:xlink=\"http://www.w3.org/1999/xlink\">\n <defs>\n  <style type=\"text/css\">\n*{stroke-linecap:butt;stroke-linejoin:round;}\n  </style>\n </defs>\n <g id=\"figure_1\">\n  <g id=\"patch_1\">\n   <path d=\"M 0 248.919844 \nL 251.565 248.919844 \nL 251.565 0 \nL 0 0 \nz\n\" style=\"fill:none;\"/>\n  </g>\n  <g id=\"axes_1\">\n   <g id=\"patch_2\">\n    <path d=\"M 26.925 225.041719 \nL 244.365 225.041719 \nL 244.365 7.601719 \nL 26.925 7.601719 \nz\n\" style=\"fill:#ffffff;\"/>\n   </g>\n   <g clip-path=\"url(#p4be1b72c94)\">\n    <image height=\"218\" id=\"image1c494d338c\" transform=\"scale(1 -1)translate(0 -218)\" width=\"218\" x=\"26.925\" xlink:href=\"data:image/png;base64,\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\" y=\"-7.041719\"/>\n   </g>\n   <g id=\"matplotlib.axis_1\">\n    <g id=\"xtick_1\">\n     <g id=\"line2d_1\">\n      <defs>\n       <path d=\"M 0 0 \nL 0 3.5 \n\" id=\"m07ff93f5da\" style=\"stroke:#000000;stroke-width:0.8;\"/>\n      </defs>\n      <g>\n       <use style=\"stroke:#000000;stroke-width:0.8;\" x=\"30.3225\" xlink:href=\"#m07ff93f5da\" y=\"225.041719\"/>\n      </g>\n     </g>\n     <g id=\"text_1\">\n      <!-- 0 -->\n      <defs>\n       <path d=\"M 31.78125 66.40625 \nQ 24.171875 66.40625 20.328125 58.90625 \nQ 16.5 51.421875 16.5 36.375 \nQ 16.5 21.390625 20.328125 13.890625 \nQ 24.171875 6.390625 31.78125 6.390625 \nQ 39.453125 6.390625 43.28125 13.890625 \nQ 47.125 21.390625 47.125 36.375 \nQ 47.125 51.421875 43.28125 58.90625 \nQ 39.453125 66.40625 31.78125 66.40625 \nz\nM 31.78125 74.21875 \nQ 44.046875 74.21875 50.515625 64.515625 \nQ 56.984375 54.828125 56.984375 36.375 \nQ 56.984375 17.96875 50.515625 8.265625 \nQ 44.046875 -1.421875 31.78125 -1.421875 \nQ 19.53125 -1.421875 13.0625 8.265625 \nQ 6.59375 17.96875 6.59375 36.375 \nQ 6.59375 54.828125 13.0625 64.515625 \nQ 19.53125 74.21875 31.78125 74.21875 \nz\n\" id=\"DejaVuSans-48\"/>\n      </defs>\n      <g transform=\"translate(27.14125 239.640156)scale(0.1 -0.1)\">\n       <use xlink:href=\"#DejaVuSans-48\"/>\n      </g>\n     </g>\n    </g>\n    <g id=\"xtick_2\">\n     <g id=\"line2d_2\">\n      <g>\n       <use style=\"stroke:#000000;stroke-width:0.8;\" x=\"64.2975\" xlink:href=\"#m07ff93f5da\" y=\"225.041719\"/>\n      </g>\n     </g>\n     <g id=\"text_2\">\n      <!-- 5 -->\n      <defs>\n       <path d=\"M 10.796875 72.90625 \nL 49.515625 72.90625 \nL 49.515625 64.59375 \nL 19.828125 64.59375 \nL 19.828125 46.734375 \nQ 21.96875 47.46875 24.109375 47.828125 \nQ 26.265625 48.1875 28.421875 48.1875 \nQ 40.625 48.1875 47.75 41.5 \nQ 54.890625 34.8125 54.890625 23.390625 \nQ 54.890625 11.625 47.5625 5.09375 \nQ 40.234375 -1.421875 26.90625 -1.421875 \nQ 22.3125 -1.421875 17.546875 -0.640625 \nQ 12.796875 0.140625 7.71875 1.703125 \nL 7.71875 11.625 \nQ 12.109375 9.234375 16.796875 8.0625 \nQ 21.484375 6.890625 26.703125 6.890625 \nQ 35.15625 6.890625 40.078125 11.328125 \nQ 45.015625 15.765625 45.015625 23.390625 \nQ 45.015625 31 40.078125 35.4375 \nQ 35.15625 39.890625 26.703125 39.890625 \nQ 22.75 39.890625 18.8125 39.015625 \nQ 14.890625 38.140625 10.796875 36.28125 \nz\n\" id=\"DejaVuSans-53\"/>\n      </defs>\n      <g transform=\"translate(61.11625 239.640156)scale(0.1 -0.1)\">\n       <use xlink:href=\"#DejaVuSans-53\"/>\n      </g>\n     </g>\n    </g>\n    <g id=\"xtick_3\">\n     <g id=\"line2d_3\">\n      <g>\n       <use style=\"stroke:#000000;stroke-width:0.8;\" x=\"98.2725\" xlink:href=\"#m07ff93f5da\" y=\"225.041719\"/>\n      </g>\n     </g>\n     <g id=\"text_3\">\n      <!-- 10 -->\n      <defs>\n       <path d=\"M 12.40625 8.296875 \nL 28.515625 8.296875 \nL 28.515625 63.921875 \nL 10.984375 60.40625 \nL 10.984375 69.390625 \nL 28.421875 72.90625 \nL 38.28125 72.90625 \nL 38.28125 8.296875 \nL 54.390625 8.296875 \nL 54.390625 0 \nL 12.40625 0 \nz\n\" id=\"DejaVuSans-49\"/>\n      </defs>\n      <g transform=\"translate(91.91 239.640156)scale(0.1 -0.1)\">\n       <use xlink:href=\"#DejaVuSans-49\"/>\n       <use x=\"63.623047\" xlink:href=\"#DejaVuSans-48\"/>\n      </g>\n     </g>\n    </g>\n    <g id=\"xtick_4\">\n     <g id=\"line2d_4\">\n      <g>\n       <use style=\"stroke:#000000;stroke-width:0.8;\" x=\"132.2475\" xlink:href=\"#m07ff93f5da\" y=\"225.041719\"/>\n      </g>\n     </g>\n     <g id=\"text_4\">\n      <!-- 15 -->\n      <g transform=\"translate(125.885 239.640156)scale(0.1 -0.1)\">\n       <use xlink:href=\"#DejaVuSans-49\"/>\n       <use x=\"63.623047\" xlink:href=\"#DejaVuSans-53\"/>\n      </g>\n     </g>\n    </g>\n    <g id=\"xtick_5\">\n     <g id=\"line2d_5\">\n      <g>\n       <use style=\"stroke:#000000;stroke-width:0.8;\" x=\"166.2225\" xlink:href=\"#m07ff93f5da\" y=\"225.041719\"/>\n      </g>\n     </g>\n     <g id=\"text_5\">\n      <!-- 20 -->\n      <defs>\n       <path d=\"M 19.1875 8.296875 \nL 53.609375 8.296875 \nL 53.609375 0 \nL 7.328125 0 \nL 7.328125 8.296875 \nQ 12.9375 14.109375 22.625 23.890625 \nQ 32.328125 33.6875 34.8125 36.53125 \nQ 39.546875 41.84375 41.421875 45.53125 \nQ 43.3125 49.21875 43.3125 52.78125 \nQ 43.3125 58.59375 39.234375 62.25 \nQ 35.15625 65.921875 28.609375 65.921875 \nQ 23.96875 65.921875 18.8125 64.3125 \nQ 13.671875 62.703125 7.8125 59.421875 \nL 7.8125 69.390625 \nQ 13.765625 71.78125 18.9375 73 \nQ 24.125 74.21875 28.421875 74.21875 \nQ 39.75 74.21875 46.484375 68.546875 \nQ 53.21875 62.890625 53.21875 53.421875 \nQ 53.21875 48.921875 51.53125 44.890625 \nQ 49.859375 40.875 45.40625 35.40625 \nQ 44.1875 33.984375 37.640625 27.21875 \nQ 31.109375 20.453125 19.1875 8.296875 \nz\n\" id=\"DejaVuSans-50\"/>\n      </defs>\n      <g transform=\"translate(159.86 239.640156)scale(0.1 -0.1)\">\n       <use xlink:href=\"#DejaVuSans-50\"/>\n       <use x=\"63.623047\" xlink:href=\"#DejaVuSans-48\"/>\n      </g>\n     </g>\n    </g>\n    <g id=\"xtick_6\">\n     <g id=\"line2d_6\">\n      <g>\n       <use style=\"stroke:#000000;stroke-width:0.8;\" x=\"200.1975\" xlink:href=\"#m07ff93f5da\" y=\"225.041719\"/>\n      </g>\n     </g>\n     <g id=\"text_6\">\n      <!-- 25 -->\n      <g transform=\"translate(193.835 239.640156)scale(0.1 -0.1)\">\n       <use xlink:href=\"#DejaVuSans-50\"/>\n       <use x=\"63.623047\" xlink:href=\"#DejaVuSans-53\"/>\n      </g>\n     </g>\n    </g>\n    <g id=\"xtick_7\">\n     <g id=\"line2d_7\">\n      <g>\n       <use style=\"stroke:#000000;stroke-width:0.8;\" x=\"234.1725\" xlink:href=\"#m07ff93f5da\" y=\"225.041719\"/>\n      </g>\n     </g>\n     <g id=\"text_7\">\n      <!-- 30 -->\n      <defs>\n       <path d=\"M 40.578125 39.3125 \nQ 47.65625 37.796875 51.625 33 \nQ 55.609375 28.21875 55.609375 21.1875 \nQ 55.609375 10.40625 48.1875 4.484375 \nQ 40.765625 -1.421875 27.09375 -1.421875 \nQ 22.515625 -1.421875 17.65625 -0.515625 \nQ 12.796875 0.390625 7.625 2.203125 \nL 7.625 11.71875 \nQ 11.71875 9.328125 16.59375 8.109375 \nQ 21.484375 6.890625 26.8125 6.890625 \nQ 36.078125 6.890625 40.9375 10.546875 \nQ 45.796875 14.203125 45.796875 21.1875 \nQ 45.796875 27.640625 41.28125 31.265625 \nQ 36.765625 34.90625 28.71875 34.90625 \nL 20.21875 34.90625 \nL 20.21875 43.015625 \nL 29.109375 43.015625 \nQ 36.375 43.015625 40.234375 45.921875 \nQ 44.09375 48.828125 44.09375 54.296875 \nQ 44.09375 59.90625 40.109375 62.90625 \nQ 36.140625 65.921875 28.71875 65.921875 \nQ 24.65625 65.921875 20.015625 65.03125 \nQ 15.375 64.15625 9.8125 62.3125 \nL 9.8125 71.09375 \nQ 15.4375 72.65625 20.34375 73.4375 \nQ 25.25 74.21875 29.59375 74.21875 \nQ 40.828125 74.21875 47.359375 69.109375 \nQ 53.90625 64.015625 53.90625 55.328125 \nQ 53.90625 49.265625 50.4375 45.09375 \nQ 46.96875 40.921875 40.578125 39.3125 \nz\n\" id=\"DejaVuSans-51\"/>\n      </defs>\n      <g transform=\"translate(227.81 239.640156)scale(0.1 -0.1)\">\n       <use xlink:href=\"#DejaVuSans-51\"/>\n       <use x=\"63.623047\" xlink:href=\"#DejaVuSans-48\"/>\n      </g>\n     </g>\n    </g>\n   </g>\n   <g id=\"matplotlib.axis_2\">\n    <g id=\"ytick_1\">\n     <g id=\"line2d_8\">\n      <defs>\n       <path d=\"M 0 0 \nL -3.5 0 \n\" id=\"mb3c071366d\" style=\"stroke:#000000;stroke-width:0.8;\"/>\n      </defs>\n      <g>\n       <use style=\"stroke:#000000;stroke-width:0.8;\" x=\"26.925\" xlink:href=\"#mb3c071366d\" y=\"10.999219\"/>\n      </g>\n     </g>\n     <g id=\"text_8\">\n      <!-- 0 -->\n      <g transform=\"translate(13.5625 14.798437)scale(0.1 -0.1)\">\n       <use xlink:href=\"#DejaVuSans-48\"/>\n      </g>\n     </g>\n    </g>\n    <g id=\"ytick_2\">\n     <g id=\"line2d_9\">\n      <g>\n       <use style=\"stroke:#000000;stroke-width:0.8;\" x=\"26.925\" xlink:href=\"#mb3c071366d\" y=\"44.974219\"/>\n      </g>\n     </g>\n     <g id=\"text_9\">\n      <!-- 5 -->\n      <g transform=\"translate(13.5625 48.773437)scale(0.1 -0.1)\">\n       <use xlink:href=\"#DejaVuSans-53\"/>\n      </g>\n     </g>\n    </g>\n    <g id=\"ytick_3\">\n     <g id=\"line2d_10\">\n      <g>\n       <use style=\"stroke:#000000;stroke-width:0.8;\" x=\"26.925\" xlink:href=\"#mb3c071366d\" y=\"78.949219\"/>\n      </g>\n     </g>\n     <g id=\"text_10\">\n      <!-- 10 -->\n      <g transform=\"translate(7.2 82.748437)scale(0.1 -0.1)\">\n       <use xlink:href=\"#DejaVuSans-49\"/>\n       <use x=\"63.623047\" xlink:href=\"#DejaVuSans-48\"/>\n      </g>\n     </g>\n    </g>\n    <g id=\"ytick_4\">\n     <g id=\"line2d_11\">\n      <g>\n       <use style=\"stroke:#000000;stroke-width:0.8;\" x=\"26.925\" xlink:href=\"#mb3c071366d\" y=\"112.924219\"/>\n      </g>\n     </g>\n     <g id=\"text_11\">\n      <!-- 15 -->\n      <g transform=\"translate(7.2 116.723437)scale(0.1 -0.1)\">\n       <use xlink:href=\"#DejaVuSans-49\"/>\n       <use x=\"63.623047\" xlink:href=\"#DejaVuSans-53\"/>\n      </g>\n     </g>\n    </g>\n    <g id=\"ytick_5\">\n     <g id=\"line2d_12\">\n      <g>\n       <use style=\"stroke:#000000;stroke-width:0.8;\" x=\"26.925\" xlink:href=\"#mb3c071366d\" y=\"146.899219\"/>\n      </g>\n     </g>\n     <g id=\"text_12\">\n      <!-- 20 -->\n      <g transform=\"translate(7.2 150.698437)scale(0.1 -0.1)\">\n       <use xlink:href=\"#DejaVuSans-50\"/>\n       <use x=\"63.623047\" xlink:href=\"#DejaVuSans-48\"/>\n      </g>\n     </g>\n    </g>\n    <g id=\"ytick_6\">\n     <g id=\"line2d_13\">\n      <g>\n       <use style=\"stroke:#000000;stroke-width:0.8;\" x=\"26.925\" xlink:href=\"#mb3c071366d\" y=\"180.874219\"/>\n      </g>\n     </g>\n     <g id=\"text_13\">\n      <!-- 25 -->\n      <g transform=\"translate(7.2 184.673437)scale(0.1 -0.1)\">\n       <use xlink:href=\"#DejaVuSans-50\"/>\n       <use x=\"63.623047\" xlink:href=\"#DejaVuSans-53\"/>\n      </g>\n     </g>\n    </g>\n    <g id=\"ytick_7\">\n     <g id=\"line2d_14\">\n      <g>\n       <use style=\"stroke:#000000;stroke-width:0.8;\" x=\"26.925\" xlink:href=\"#mb3c071366d\" y=\"214.849219\"/>\n      </g>\n     </g>\n     <g id=\"text_14\">\n      <!-- 30 -->\n      <g transform=\"translate(7.2 218.648437)scale(0.1 -0.1)\">\n       <use xlink:href=\"#DejaVuSans-51\"/>\n       <use x=\"63.623047\" xlink:href=\"#DejaVuSans-48\"/>\n      </g>\n     </g>\n    </g>\n   </g>\n   <g id=\"patch_3\">\n    <path d=\"M 26.925 225.041719 \nL 26.925 7.601719 \n\" style=\"fill:none;stroke:#000000;stroke-linecap:square;stroke-linejoin:miter;stroke-width:0.8;\"/>\n   </g>\n   <g id=\"patch_4\">\n    <path d=\"M 244.365 225.041719 \nL 244.365 7.601719 \n\" style=\"fill:none;stroke:#000000;stroke-linecap:square;stroke-linejoin:miter;stroke-width:0.8;\"/>\n   </g>\n   <g id=\"patch_5\">\n    <path d=\"M 26.925 225.041719 \nL 244.365 225.041719 \n\" style=\"fill:none;stroke:#000000;stroke-linecap:square;stroke-linejoin:miter;stroke-width:0.8;\"/>\n   </g>\n   <g id=\"patch_6\">\n    <path d=\"M 26.925 7.601719 \nL 244.365 7.601719 \n\" style=\"fill:none;stroke:#000000;stroke-linecap:square;stroke-linejoin:miter;stroke-width:0.8;\"/>\n   </g>\n  </g>\n </g>\n <defs>\n  <clipPath id=\"p4be1b72c94\">\n   <rect height=\"217.44\" width=\"217.44\" x=\"26.925\" y=\"7.601719\"/>\n  </clipPath>\n </defs>\n</svg>\n",
            "image/png": "[encoded data removed]"
          },
          "metadata": {
            "needs_background": "light"
          }
        }
      ]
    },
    {
      "cell_type": "code",
      "metadata": {
        "id": "Bojn7VsfLwkV"
      },
      "source": [
        "# Load the list of labels from a JSON file\n",
        "\n",
        "import json\n",
        "\n",
        "with open('data/cifar-100-labels.json', 'r') as fine_labels:\n",
        "    cifar100_fine_labels = json.load(fine_labels)"
      ],
      "execution_count": 9,
      "outputs": []
    },
    {
      "cell_type": "markdown",
      "metadata": {
        "id": "RcULe51BLwkZ"
      },
      "source": [
        "The list of labels for the CIFAR-100 dataset are available [here](https://www.cs.toronto.edu/~kriz/cifar.html)."
      ]
    },
    {
      "cell_type": "code",
      "metadata": {
        "id": "KXq95zzcLwka",
        "colab": {
          "base_uri": "https://localhost:8080/"
        },
        "outputId": "fd4413ba-9feb-4a2d-fea3-6036eba78c1d"
      },
      "source": [
        "# Print a few of the labels\n",
        "\n",
        "cifar100_fine_labels[0:10]"
      ],
      "execution_count": 10,
      "outputs": [
        {
          "output_type": "execute_result",
          "data": {
            "text/plain": [
              "['apple',\n",
              " 'aquarium_fish',\n",
              " 'baby',\n",
              " 'bear',\n",
              " 'beaver',\n",
              " 'bed',\n",
              " 'bee',\n",
              " 'beetle',\n",
              " 'bicycle',\n",
              " 'bottle']"
            ]
          },
          "metadata": {},
          "execution_count": 10
        }
      ]
    },
    {
      "cell_type": "code",
      "metadata": {
        "id": "F6Oqo7xKLwkd",
        "colab": {
          "base_uri": "https://localhost:8080/"
        },
        "outputId": "691be0b1-0536-4341-fe0e-c7d25a0374e4"
      },
      "source": [
        "# Print the corresponding label for the example above\n",
        "\n",
        "print(cifar100_fine_labels[41])"
      ],
      "execution_count": 11,
      "outputs": [
        {
          "output_type": "stream",
          "name": "stdout",
          "text": [
            "lawn_mower\n"
          ]
        }
      ]
    },
    {
      "cell_type": "markdown",
      "metadata": {
        "id": "GKQA_qggLwkh"
      },
      "source": [
        "#### Load the data using different label modes"
      ]
    },
    {
      "cell_type": "code",
      "metadata": {
        "id": "UkLZ3caeLwki",
        "colab": {
          "base_uri": "https://localhost:8080/",
          "height": 166
        },
        "outputId": "60fabe2a-c7c8-4587-f52b-1bb89703f548"
      },
      "source": [
        "# Display a few examples from category 87 (index 86) and the list of labels\n",
        "\n",
        "examples = train_images[(train_labels.T == 86)[0]][:3]\n",
        "fig, ax = plt.subplots(1,3)\n",
        "ax[0].imshow(examples[0])\n",
        "ax[1].imshow(examples[1])\n",
        "ax[2].imshow(examples[2])"
      ],
      "execution_count": 12,
      "outputs": [
        {
          "output_type": "execute_result",
          "data": {
            "text/plain": [
              "<matplotlib.image.AxesImage at 0x7fea84643d00>"
            ]
          },
          "metadata": {},
          "execution_count": 12
        },
        {
          "output_type": "display_data",
          "data": {
            "text/plain": "<Figure size 432x288 with 3 Axes>",
            "image/svg+xml": "<?xml version=\"1.0\" encoding=\"utf-8\" standalone=\"no\"?>\n<!DOCTYPE svg PUBLIC \"-//W3C//DTD SVG 1.1//EN\"\n  \"http://www.w3.org/Graphics/SVG/1.1/DTD/svg11.dtd\">\n<!-- Created with matplotlib (https://matplotlib.org/) -->\n<svg height=\"131.809329pt\" version=\"1.1\" viewBox=\"0 0 368.925 131.809329\" width=\"368.925pt\" xmlns=\"http://www.w3.org/2000/svg\" xmlns:xlink=\"http://www.w3.org/1999/xlink\">\n <defs>\n  <style type=\"text/css\">\n*{stroke-linecap:butt;stroke-linejoin:round;}\n  </style>\n </defs>\n <g id=\"figure_1\">\n  <g id=\"patch_1\">\n   <path d=\"M -0 131.809329 \nL 368.925 131.809329 \nL 368.925 0 \nL -0 0 \nz\n\" style=\"fill:none;\"/>\n  </g>\n  <g id=\"axes_1\">\n   <g id=\"patch_2\">\n    <path d=\"M 26.925 107.931204 \nL 125.395588 107.931204 \nL 125.395588 9.460616 \nL 26.925 9.460616 \nz\n\" style=\"fill:#ffffff;\"/>\n   </g>\n   <g clip-path=\"url(#p9271877108)\">\n    <image height=\"99\" id=\"image5b7909bb50\" transform=\"scale(1 -1)translate(0 -99)\" width=\"99\" x=\"26.925\" xlink:href=\"data:image/png;base64,\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\" y=\"-8.931204\"/>\n   </g>\n   <g id=\"matplotlib.axis_1\">\n    <g id=\"xtick_1\">\n     <g id=\"line2d_1\">\n      <defs>\n       <path d=\"M 0 0 \nL 0 3.5 \n\" id=\"mcacd32abb1\" style=\"stroke:#000000;stroke-width:0.8;\"/>\n      </defs>\n      <g>\n       <use style=\"stroke:#000000;stroke-width:0.8;\" x=\"28.463603\" xlink:href=\"#mcacd32abb1\" y=\"107.931204\"/>\n      </g>\n     </g>\n     <g id=\"text_1\">\n      <!-- 0 -->\n      <defs>\n       <path d=\"M 31.78125 66.40625 \nQ 24.171875 66.40625 20.328125 58.90625 \nQ 16.5 51.421875 16.5 36.375 \nQ 16.5 21.390625 20.328125 13.890625 \nQ 24.171875 6.390625 31.78125 6.390625 \nQ 39.453125 6.390625 43.28125 13.890625 \nQ 47.125 21.390625 47.125 36.375 \nQ 47.125 51.421875 43.28125 58.90625 \nQ 39.453125 66.40625 31.78125 66.40625 \nz\nM 31.78125 74.21875 \nQ 44.046875 74.21875 50.515625 64.515625 \nQ 56.984375 54.828125 56.984375 36.375 \nQ 56.984375 17.96875 50.515625 8.265625 \nQ 44.046875 -1.421875 31.78125 -1.421875 \nQ 19.53125 -1.421875 13.0625 8.265625 \nQ 6.59375 17.96875 6.59375 36.375 \nQ 6.59375 54.828125 13.0625 64.515625 \nQ 19.53125 74.21875 31.78125 74.21875 \nz\n\" id=\"DejaVuSans-48\"/>\n      </defs>\n      <g transform=\"translate(25.282353 122.529642)scale(0.1 -0.1)\">\n       <use xlink:href=\"#DejaVuSans-48\"/>\n      </g>\n     </g>\n    </g>\n    <g id=\"xtick_2\">\n     <g id=\"line2d_2\">\n      <g>\n       <use style=\"stroke:#000000;stroke-width:0.8;\" x=\"90.007721\" xlink:href=\"#mcacd32abb1\" y=\"107.931204\"/>\n      </g>\n     </g>\n     <g id=\"text_2\">\n      <!-- 20 -->\n      <defs>\n       <path d=\"M 19.1875 8.296875 \nL 53.609375 8.296875 \nL 53.609375 0 \nL 7.328125 0 \nL 7.328125 8.296875 \nQ 12.9375 14.109375 22.625 23.890625 \nQ 32.328125 33.6875 34.8125 36.53125 \nQ 39.546875 41.84375 41.421875 45.53125 \nQ 43.3125 49.21875 43.3125 52.78125 \nQ 43.3125 58.59375 39.234375 62.25 \nQ 35.15625 65.921875 28.609375 65.921875 \nQ 23.96875 65.921875 18.8125 64.3125 \nQ 13.671875 62.703125 7.8125 59.421875 \nL 7.8125 69.390625 \nQ 13.765625 71.78125 18.9375 73 \nQ 24.125 74.21875 28.421875 74.21875 \nQ 39.75 74.21875 46.484375 68.546875 \nQ 53.21875 62.890625 53.21875 53.421875 \nQ 53.21875 48.921875 51.53125 44.890625 \nQ 49.859375 40.875 45.40625 35.40625 \nQ 44.1875 33.984375 37.640625 27.21875 \nQ 31.109375 20.453125 19.1875 8.296875 \nz\n\" id=\"DejaVuSans-50\"/>\n      </defs>\n      <g transform=\"translate(83.645221 122.529642)scale(0.1 -0.1)\">\n       <use xlink:href=\"#DejaVuSans-50\"/>\n       <use x=\"63.623047\" xlink:href=\"#DejaVuSans-48\"/>\n      </g>\n     </g>\n    </g>\n   </g>\n   <g id=\"matplotlib.axis_2\">\n    <g id=\"ytick_1\">\n     <g id=\"line2d_3\">\n      <defs>\n       <path d=\"M 0 0 \nL -3.5 0 \n\" id=\"m5e81aaaf95\" style=\"stroke:#000000;stroke-width:0.8;\"/>\n      </defs>\n      <g>\n       <use style=\"stroke:#000000;stroke-width:0.8;\" x=\"26.925\" xlink:href=\"#m5e81aaaf95\" y=\"10.999219\"/>\n      </g>\n     </g>\n     <g id=\"text_3\">\n      <!-- 0 -->\n      <g transform=\"translate(13.5625 14.798438)scale(0.1 -0.1)\">\n       <use xlink:href=\"#DejaVuSans-48\"/>\n      </g>\n     </g>\n    </g>\n    <g id=\"ytick_2\">\n     <g id=\"line2d_4\">\n      <g>\n       <use style=\"stroke:#000000;stroke-width:0.8;\" x=\"26.925\" xlink:href=\"#m5e81aaaf95\" y=\"41.771278\"/>\n      </g>\n     </g>\n     <g id=\"text_4\">\n      <!-- 10 -->\n      <defs>\n       <path d=\"M 12.40625 8.296875 \nL 28.515625 8.296875 \nL 28.515625 63.921875 \nL 10.984375 60.40625 \nL 10.984375 69.390625 \nL 28.421875 72.90625 \nL 38.28125 72.90625 \nL 38.28125 8.296875 \nL 54.390625 8.296875 \nL 54.390625 0 \nL 12.40625 0 \nz\n\" id=\"DejaVuSans-49\"/>\n      </defs>\n      <g transform=\"translate(7.2 45.570496)scale(0.1 -0.1)\">\n       <use xlink:href=\"#DejaVuSans-49\"/>\n       <use x=\"63.623047\" xlink:href=\"#DejaVuSans-48\"/>\n      </g>\n     </g>\n    </g>\n    <g id=\"ytick_3\">\n     <g id=\"line2d_5\">\n      <g>\n       <use style=\"stroke:#000000;stroke-width:0.8;\" x=\"26.925\" xlink:href=\"#m5e81aaaf95\" y=\"72.543336\"/>\n      </g>\n     </g>\n     <g id=\"text_5\">\n      <!-- 20 -->\n      <g transform=\"translate(7.2 76.342555)scale(0.1 -0.1)\">\n       <use xlink:href=\"#DejaVuSans-50\"/>\n       <use x=\"63.623047\" xlink:href=\"#DejaVuSans-48\"/>\n      </g>\n     </g>\n    </g>\n    <g id=\"ytick_4\">\n     <g id=\"line2d_6\">\n      <g>\n       <use style=\"stroke:#000000;stroke-width:0.8;\" x=\"26.925\" xlink:href=\"#m5e81aaaf95\" y=\"103.315395\"/>\n      </g>\n     </g>\n     <g id=\"text_6\">\n      <!-- 30 -->\n      <defs>\n       <path d=\"M 40.578125 39.3125 \nQ 47.65625 37.796875 51.625 33 \nQ 55.609375 28.21875 55.609375 21.1875 \nQ 55.609375 10.40625 48.1875 4.484375 \nQ 40.765625 -1.421875 27.09375 -1.421875 \nQ 22.515625 -1.421875 17.65625 -0.515625 \nQ 12.796875 0.390625 7.625 2.203125 \nL 7.625 11.71875 \nQ 11.71875 9.328125 16.59375 8.109375 \nQ 21.484375 6.890625 26.8125 6.890625 \nQ 36.078125 6.890625 40.9375 10.546875 \nQ 45.796875 14.203125 45.796875 21.1875 \nQ 45.796875 27.640625 41.28125 31.265625 \nQ 36.765625 34.90625 28.71875 34.90625 \nL 20.21875 34.90625 \nL 20.21875 43.015625 \nL 29.109375 43.015625 \nQ 36.375 43.015625 40.234375 45.921875 \nQ 44.09375 48.828125 44.09375 54.296875 \nQ 44.09375 59.90625 40.109375 62.90625 \nQ 36.140625 65.921875 28.71875 65.921875 \nQ 24.65625 65.921875 20.015625 65.03125 \nQ 15.375 64.15625 9.8125 62.3125 \nL 9.8125 71.09375 \nQ 15.4375 72.65625 20.34375 73.4375 \nQ 25.25 74.21875 29.59375 74.21875 \nQ 40.828125 74.21875 47.359375 69.109375 \nQ 53.90625 64.015625 53.90625 55.328125 \nQ 53.90625 49.265625 50.4375 45.09375 \nQ 46.96875 40.921875 40.578125 39.3125 \nz\n\" id=\"DejaVuSans-51\"/>\n      </defs>\n      <g transform=\"translate(7.2 107.114614)scale(0.1 -0.1)\">\n       <use xlink:href=\"#DejaVuSans-51\"/>\n       <use x=\"63.623047\" xlink:href=\"#DejaVuSans-48\"/>\n      </g>\n     </g>\n    </g>\n   </g>\n   <g id=\"patch_3\">\n    <path d=\"M 26.925 107.931204 \nL 26.925 9.460616 \n\" style=\"fill:none;stroke:#000000;stroke-linecap:square;stroke-linejoin:miter;stroke-width:0.8;\"/>\n   </g>\n   <g id=\"patch_4\">\n    <path d=\"M 125.395588 107.931204 \nL 125.395588 9.460616 \n\" style=\"fill:none;stroke:#000000;stroke-linecap:square;stroke-linejoin:miter;stroke-width:0.8;\"/>\n   </g>\n   <g id=\"patch_5\">\n    <path d=\"M 26.925 107.931204 \nL 125.395588 107.931204 \n\" style=\"fill:none;stroke:#000000;stroke-linecap:square;stroke-linejoin:miter;stroke-width:0.8;\"/>\n   </g>\n   <g id=\"patch_6\">\n    <path d=\"M 26.925 9.460616 \nL 125.395588 9.460616 \n\" style=\"fill:none;stroke:#000000;stroke-linecap:square;stroke-linejoin:miter;stroke-width:0.8;\"/>\n   </g>\n  </g>\n  <g id=\"axes_2\">\n   <g id=\"patch_7\">\n    <path d=\"M 145.089706 107.931204 \nL 243.560294 107.931204 \nL 243.560294 9.460616 \nL 145.089706 9.460616 \nz\n\" style=\"fill:#ffffff;\"/>\n   </g>\n   <g clip-path=\"url(#pe147e3910a)\">\n    <image height=\"99\" id=\"image068eeb0bd9\" transform=\"scale(1 -1)translate(0 -99)\" width=\"99\" x=\"145.089706\" xlink:href=\"data:image/png;base64,\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\" y=\"-8.931204\"/>\n   </g>\n   <g id=\"matplotlib.axis_3\">\n    <g id=\"xtick_3\">\n     <g id=\"line2d_7\">\n      <g>\n       <use style=\"stroke:#000000;stroke-width:0.8;\" x=\"146.628309\" xlink:href=\"#mcacd32abb1\" y=\"107.931204\"/>\n      </g>\n     </g>\n     <g id=\"text_7\">\n      <!-- 0 -->\n      <g transform=\"translate(143.447059 122.529642)scale(0.1 -0.1)\">\n       <use xlink:href=\"#DejaVuSans-48\"/>\n      </g>\n     </g>\n    </g>\n    <g id=\"xtick_4\">\n     <g id=\"line2d_8\">\n      <g>\n       <use style=\"stroke:#000000;stroke-width:0.8;\" x=\"208.172426\" xlink:href=\"#mcacd32abb1\" y=\"107.931204\"/>\n      </g>\n     </g>\n     <g id=\"text_8\">\n      <!-- 20 -->\n      <g transform=\"translate(201.809926 122.529642)scale(0.1 -0.1)\">\n       <use xlink:href=\"#DejaVuSans-50\"/>\n       <use x=\"63.623047\" xlink:href=\"#DejaVuSans-48\"/>\n      </g>\n     </g>\n    </g>\n   </g>\n   <g id=\"matplotlib.axis_4\">\n    <g id=\"ytick_5\">\n     <g id=\"line2d_9\">\n      <g>\n       <use style=\"stroke:#000000;stroke-width:0.8;\" x=\"145.089706\" xlink:href=\"#m5e81aaaf95\" y=\"10.999219\"/>\n      </g>\n     </g>\n     <g id=\"text_9\">\n      <!-- 0 -->\n      <g transform=\"translate(131.727206 14.798438)scale(0.1 -0.1)\">\n       <use xlink:href=\"#DejaVuSans-48\"/>\n      </g>\n     </g>\n    </g>\n    <g id=\"ytick_6\">\n     <g id=\"line2d_10\">\n      <g>\n       <use style=\"stroke:#000000;stroke-width:0.8;\" x=\"145.089706\" xlink:href=\"#m5e81aaaf95\" y=\"41.771278\"/>\n      </g>\n     </g>\n     <g id=\"text_10\">\n      <!-- 10 -->\n      <g transform=\"translate(125.364706 45.570496)scale(0.1 -0.1)\">\n       <use xlink:href=\"#DejaVuSans-49\"/>\n       <use x=\"63.623047\" xlink:href=\"#DejaVuSans-48\"/>\n      </g>\n     </g>\n    </g>\n    <g id=\"ytick_7\">\n     <g id=\"line2d_11\">\n      <g>\n       <use style=\"stroke:#000000;stroke-width:0.8;\" x=\"145.089706\" xlink:href=\"#m5e81aaaf95\" y=\"72.543336\"/>\n      </g>\n     </g>\n     <g id=\"text_11\">\n      <!-- 20 -->\n      <g transform=\"translate(125.364706 76.342555)scale(0.1 -0.1)\">\n       <use xlink:href=\"#DejaVuSans-50\"/>\n       <use x=\"63.623047\" xlink:href=\"#DejaVuSans-48\"/>\n      </g>\n     </g>\n    </g>\n    <g id=\"ytick_8\">\n     <g id=\"line2d_12\">\n      <g>\n       <use style=\"stroke:#000000;stroke-width:0.8;\" x=\"145.089706\" xlink:href=\"#m5e81aaaf95\" y=\"103.315395\"/>\n      </g>\n     </g>\n     <g id=\"text_12\">\n      <!-- 30 -->\n      <g transform=\"translate(125.364706 107.114614)scale(0.1 -0.1)\">\n       <use xlink:href=\"#DejaVuSans-51\"/>\n       <use x=\"63.623047\" xlink:href=\"#DejaVuSans-48\"/>\n      </g>\n     </g>\n    </g>\n   </g>\n   <g id=\"patch_8\">\n    <path d=\"M 145.089706 107.931204 \nL 145.089706 9.460616 \n\" style=\"fill:none;stroke:#000000;stroke-linecap:square;stroke-linejoin:miter;stroke-width:0.8;\"/>\n   </g>\n   <g id=\"patch_9\">\n    <path d=\"M 243.560294 107.931204 \nL 243.560294 9.460616 \n\" style=\"fill:none;stroke:#000000;stroke-linecap:square;stroke-linejoin:miter;stroke-width:0.8;\"/>\n   </g>\n   <g id=\"patch_10\">\n    <path d=\"M 145.089706 107.931204 \nL 243.560294 107.931204 \n\" style=\"fill:none;stroke:#000000;stroke-linecap:square;stroke-linejoin:miter;stroke-width:0.8;\"/>\n   </g>\n   <g id=\"patch_11\">\n    <path d=\"M 145.089706 9.460616 \nL 243.560294 9.460616 \n\" style=\"fill:none;stroke:#000000;stroke-linecap:square;stroke-linejoin:miter;stroke-width:0.8;\"/>\n   </g>\n  </g>\n  <g id=\"axes_3\">\n   <g id=\"patch_12\">\n    <path d=\"M 263.254412 107.931204 \nL 361.725 107.931204 \nL 361.725 9.460616 \nL 263.254412 9.460616 \nz\n\" style=\"fill:#ffffff;\"/>\n   </g>\n   <g clip-path=\"url(#p1637160176)\">\n    <image height=\"99\" id=\"imagef1c334b143\" transform=\"scale(1 -1)translate(0 -99)\" width=\"99\" x=\"263.254412\" xlink:href=\"data:image/png;base64,\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\" y=\"-8.931204\"/>\n   </g>\n   <g id=\"matplotlib.axis_5\">\n    <g id=\"xtick_5\">\n     <g id=\"line2d_13\">\n      <g>\n       <use style=\"stroke:#000000;stroke-width:0.8;\" x=\"264.793015\" xlink:href=\"#mcacd32abb1\" y=\"107.931204\"/>\n      </g>\n     </g>\n     <g id=\"text_13\">\n      <!-- 0 -->\n      <g transform=\"translate(261.611765 122.529642)scale(0.1 -0.1)\">\n       <use xlink:href=\"#DejaVuSans-48\"/>\n      </g>\n     </g>\n    </g>\n    <g id=\"xtick_6\">\n     <g id=\"line2d_14\">\n      <g>\n       <use style=\"stroke:#000000;stroke-width:0.8;\" x=\"326.337132\" xlink:href=\"#mcacd32abb1\" y=\"107.931204\"/>\n      </g>\n     </g>\n     <g id=\"text_14\">\n      <!-- 20 -->\n      <g transform=\"translate(319.974632 122.529642)scale(0.1 -0.1)\">\n       <use xlink:href=\"#DejaVuSans-50\"/>\n       <use x=\"63.623047\" xlink:href=\"#DejaVuSans-48\"/>\n      </g>\n     </g>\n    </g>\n   </g>\n   <g id=\"matplotlib.axis_6\">\n    <g id=\"ytick_9\">\n     <g id=\"line2d_15\">\n      <g>\n       <use style=\"stroke:#000000;stroke-width:0.8;\" x=\"263.254412\" xlink:href=\"#m5e81aaaf95\" y=\"10.999219\"/>\n      </g>\n     </g>\n     <g id=\"text_15\">\n      <!-- 0 -->\n      <g transform=\"translate(249.891912 14.798438)scale(0.1 -0.1)\">\n       <use xlink:href=\"#DejaVuSans-48\"/>\n      </g>\n     </g>\n    </g>\n    <g id=\"ytick_10\">\n     <g id=\"line2d_16\">\n      <g>\n       <use style=\"stroke:#000000;stroke-width:0.8;\" x=\"263.254412\" xlink:href=\"#m5e81aaaf95\" y=\"41.771278\"/>\n      </g>\n     </g>\n     <g id=\"text_16\">\n      <!-- 10 -->\n      <g transform=\"translate(243.529412 45.570496)scale(0.1 -0.1)\">\n       <use xlink:href=\"#DejaVuSans-49\"/>\n       <use x=\"63.623047\" xlink:href=\"#DejaVuSans-48\"/>\n      </g>\n     </g>\n    </g>\n    <g id=\"ytick_11\">\n     <g id=\"line2d_17\">\n      <g>\n       <use style=\"stroke:#000000;stroke-width:0.8;\" x=\"263.254412\" xlink:href=\"#m5e81aaaf95\" y=\"72.543336\"/>\n      </g>\n     </g>\n     <g id=\"text_17\">\n      <!-- 20 -->\n      <g transform=\"translate(243.529412 76.342555)scale(0.1 -0.1)\">\n       <use xlink:href=\"#DejaVuSans-50\"/>\n       <use x=\"63.623047\" xlink:href=\"#DejaVuSans-48\"/>\n      </g>\n     </g>\n    </g>\n    <g id=\"ytick_12\">\n     <g id=\"line2d_18\">\n      <g>\n       <use style=\"stroke:#000000;stroke-width:0.8;\" x=\"263.254412\" xlink:href=\"#m5e81aaaf95\" y=\"103.315395\"/>\n      </g>\n     </g>\n     <g id=\"text_18\">\n      <!-- 30 -->\n      <g transform=\"translate(243.529412 107.114614)scale(0.1 -0.1)\">\n       <use xlink:href=\"#DejaVuSans-51\"/>\n       <use x=\"63.623047\" xlink:href=\"#DejaVuSans-48\"/>\n      </g>\n     </g>\n    </g>\n   </g>\n   <g id=\"patch_13\">\n    <path d=\"M 263.254412 107.931204 \nL 263.254412 9.460616 \n\" style=\"fill:none;stroke:#000000;stroke-linecap:square;stroke-linejoin:miter;stroke-width:0.8;\"/>\n   </g>\n   <g id=\"patch_14\">\n    <path d=\"M 361.725 107.931204 \nL 361.725 9.460616 \n\" style=\"fill:none;stroke:#000000;stroke-linecap:square;stroke-linejoin:miter;stroke-width:0.8;\"/>\n   </g>\n   <g id=\"patch_15\">\n    <path d=\"M 263.254412 107.931204 \nL 361.725 107.931204 \n\" style=\"fill:none;stroke:#000000;stroke-linecap:square;stroke-linejoin:miter;stroke-width:0.8;\"/>\n   </g>\n   <g id=\"patch_16\">\n    <path d=\"M 263.254412 9.460616 \nL 361.725 9.460616 \n\" style=\"fill:none;stroke:#000000;stroke-linecap:square;stroke-linejoin:miter;stroke-width:0.8;\"/>\n   </g>\n  </g>\n </g>\n <defs>\n  <clipPath id=\"p9271877108\">\n   <rect height=\"98.470588\" width=\"98.470588\" x=\"26.925\" y=\"9.460616\"/>\n  </clipPath>\n  <clipPath id=\"pe147e3910a\">\n   <rect height=\"98.470588\" width=\"98.470588\" x=\"145.089706\" y=\"9.460616\"/>\n  </clipPath>\n  <clipPath id=\"p1637160176\">\n   <rect height=\"98.470588\" width=\"98.470588\" x=\"263.254412\" y=\"9.460616\"/>\n  </clipPath>\n </defs>\n</svg>\n",
            "image/png": "[encoded data removed]"
          },
          "metadata": {
            "needs_background": "light"
          }
        }
      ]
    },
    {
      "cell_type": "code",
      "metadata": {
        "id": "qdP2x7rFLwkk"
      },
      "source": [
        "# Reload the data using the 'coarse' label mode\n",
        "\n",
        "(train_images, train_labels),(test_images, test_labels) = cifar100.load_data(label_mode=\"coarse\")"
      ],
      "execution_count": 13,
      "outputs": []
    },
    {
      "cell_type": "code",
      "metadata": {
        "id": "zVizCMTSLwkn",
        "colab": {
          "base_uri": "https://localhost:8080/",
          "height": 166
        },
        "outputId": "fcdc1182-beae-410a-b296-b71921416b1a"
      },
      "source": [
        "# Display three images from the dataset with the label 6 (index 5)\n",
        "\n",
        "examples = train_images[(train_labels.T == 5)[0]][:3]\n",
        "fig, ax = plt.subplots(1,3)\n",
        "ax[0].imshow(examples[0])\n",
        "ax[1].imshow(examples[1])\n",
        "ax[2].imshow(examples[2])"
      ],
      "execution_count": 14,
      "outputs": [
        {
          "output_type": "execute_result",
          "data": {
            "text/plain": [
              "<matplotlib.image.AxesImage at 0x7fea841e23a0>"
            ]
          },
          "metadata": {},
          "execution_count": 14
        },
        {
          "output_type": "display_data",
          "data": {
            "text/plain": "<Figure size 432x288 with 3 Axes>",
            "image/svg+xml": "<?xml version=\"1.0\" encoding=\"utf-8\" standalone=\"no\"?>\n<!DOCTYPE svg PUBLIC \"-//W3C//DTD SVG 1.1//EN\"\n  \"http://www.w3.org/Graphics/SVG/1.1/DTD/svg11.dtd\">\n<!-- Created with matplotlib (https://matplotlib.org/) -->\n<svg height=\"131.809329pt\" version=\"1.1\" viewBox=\"0 0 368.925 131.809329\" width=\"368.925pt\" xmlns=\"http://www.w3.org/2000/svg\" xmlns:xlink=\"http://www.w3.org/1999/xlink\">\n <defs>\n  <style type=\"text/css\">\n*{stroke-linecap:butt;stroke-linejoin:round;}\n  </style>\n </defs>\n <g id=\"figure_1\">\n  <g id=\"patch_1\">\n   <path d=\"M -0 131.809329 \nL 368.925 131.809329 \nL 368.925 0 \nL -0 0 \nz\n\" style=\"fill:none;\"/>\n  </g>\n  <g id=\"axes_1\">\n   <g id=\"patch_2\">\n    <path d=\"M 26.925 107.931204 \nL 125.395588 107.931204 \nL 125.395588 9.460616 \nL 26.925 9.460616 \nz\n\" style=\"fill:#ffffff;\"/>\n   </g>\n   <g clip-path=\"url(#p40ed8aad70)\">\n    <image height=\"99\" id=\"imagec87af07425\" transform=\"scale(1 -1)translate(0 -99)\" width=\"99\" x=\"26.925\" xlink:href=\"data:image/png;base64,\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\" y=\"-8.931204\"/>\n   </g>\n   <g id=\"matplotlib.axis_1\">\n    <g id=\"xtick_1\">\n     <g id=\"line2d_1\">\n      <defs>\n       <path d=\"M 0 0 \nL 0 3.5 \n\" id=\"m7351d16d7e\" style=\"stroke:#000000;stroke-width:0.8;\"/>\n      </defs>\n      <g>\n       <use style=\"stroke:#000000;stroke-width:0.8;\" x=\"28.463603\" xlink:href=\"#m7351d16d7e\" y=\"107.931204\"/>\n      </g>\n     </g>\n     <g id=\"text_1\">\n      <!-- 0 -->\n      <defs>\n       <path d=\"M 31.78125 66.40625 \nQ 24.171875 66.40625 20.328125 58.90625 \nQ 16.5 51.421875 16.5 36.375 \nQ 16.5 21.390625 20.328125 13.890625 \nQ 24.171875 6.390625 31.78125 6.390625 \nQ 39.453125 6.390625 43.28125 13.890625 \nQ 47.125 21.390625 47.125 36.375 \nQ 47.125 51.421875 43.28125 58.90625 \nQ 39.453125 66.40625 31.78125 66.40625 \nz\nM 31.78125 74.21875 \nQ 44.046875 74.21875 50.515625 64.515625 \nQ 56.984375 54.828125 56.984375 36.375 \nQ 56.984375 17.96875 50.515625 8.265625 \nQ 44.046875 -1.421875 31.78125 -1.421875 \nQ 19.53125 -1.421875 13.0625 8.265625 \nQ 6.59375 17.96875 6.59375 36.375 \nQ 6.59375 54.828125 13.0625 64.515625 \nQ 19.53125 74.21875 31.78125 74.21875 \nz\n\" id=\"DejaVuSans-48\"/>\n      </defs>\n      <g transform=\"translate(25.282353 122.529642)scale(0.1 -0.1)\">\n       <use xlink:href=\"#DejaVuSans-48\"/>\n      </g>\n     </g>\n    </g>\n    <g id=\"xtick_2\">\n     <g id=\"line2d_2\">\n      <g>\n       <use style=\"stroke:#000000;stroke-width:0.8;\" x=\"90.007721\" xlink:href=\"#m7351d16d7e\" y=\"107.931204\"/>\n      </g>\n     </g>\n     <g id=\"text_2\">\n      <!-- 20 -->\n      <defs>\n       <path d=\"M 19.1875 8.296875 \nL 53.609375 8.296875 \nL 53.609375 0 \nL 7.328125 0 \nL 7.328125 8.296875 \nQ 12.9375 14.109375 22.625 23.890625 \nQ 32.328125 33.6875 34.8125 36.53125 \nQ 39.546875 41.84375 41.421875 45.53125 \nQ 43.3125 49.21875 43.3125 52.78125 \nQ 43.3125 58.59375 39.234375 62.25 \nQ 35.15625 65.921875 28.609375 65.921875 \nQ 23.96875 65.921875 18.8125 64.3125 \nQ 13.671875 62.703125 7.8125 59.421875 \nL 7.8125 69.390625 \nQ 13.765625 71.78125 18.9375 73 \nQ 24.125 74.21875 28.421875 74.21875 \nQ 39.75 74.21875 46.484375 68.546875 \nQ 53.21875 62.890625 53.21875 53.421875 \nQ 53.21875 48.921875 51.53125 44.890625 \nQ 49.859375 40.875 45.40625 35.40625 \nQ 44.1875 33.984375 37.640625 27.21875 \nQ 31.109375 20.453125 19.1875 8.296875 \nz\n\" id=\"DejaVuSans-50\"/>\n      </defs>\n      <g transform=\"translate(83.645221 122.529642)scale(0.1 -0.1)\">\n       <use xlink:href=\"#DejaVuSans-50\"/>\n       <use x=\"63.623047\" xlink:href=\"#DejaVuSans-48\"/>\n      </g>\n     </g>\n    </g>\n   </g>\n   <g id=\"matplotlib.axis_2\">\n    <g id=\"ytick_1\">\n     <g id=\"line2d_3\">\n      <defs>\n       <path d=\"M 0 0 \nL -3.5 0 \n\" id=\"m42f9472477\" style=\"stroke:#000000;stroke-width:0.8;\"/>\n      </defs>\n      <g>\n       <use style=\"stroke:#000000;stroke-width:0.8;\" x=\"26.925\" xlink:href=\"#m42f9472477\" y=\"10.999219\"/>\n      </g>\n     </g>\n     <g id=\"text_3\">\n      <!-- 0 -->\n      <g transform=\"translate(13.5625 14.798438)scale(0.1 -0.1)\">\n       <use xlink:href=\"#DejaVuSans-48\"/>\n      </g>\n     </g>\n    </g>\n    <g id=\"ytick_2\">\n     <g id=\"line2d_4\">\n      <g>\n       <use style=\"stroke:#000000;stroke-width:0.8;\" x=\"26.925\" xlink:href=\"#m42f9472477\" y=\"41.771278\"/>\n      </g>\n     </g>\n     <g id=\"text_4\">\n      <!-- 10 -->\n      <defs>\n       <path d=\"M 12.40625 8.296875 \nL 28.515625 8.296875 \nL 28.515625 63.921875 \nL 10.984375 60.40625 \nL 10.984375 69.390625 \nL 28.421875 72.90625 \nL 38.28125 72.90625 \nL 38.28125 8.296875 \nL 54.390625 8.296875 \nL 54.390625 0 \nL 12.40625 0 \nz\n\" id=\"DejaVuSans-49\"/>\n      </defs>\n      <g transform=\"translate(7.2 45.570496)scale(0.1 -0.1)\">\n       <use xlink:href=\"#DejaVuSans-49\"/>\n       <use x=\"63.623047\" xlink:href=\"#DejaVuSans-48\"/>\n      </g>\n     </g>\n    </g>\n    <g id=\"ytick_3\">\n     <g id=\"line2d_5\">\n      <g>\n       <use style=\"stroke:#000000;stroke-width:0.8;\" x=\"26.925\" xlink:href=\"#m42f9472477\" y=\"72.543336\"/>\n      </g>\n     </g>\n     <g id=\"text_5\">\n      <!-- 20 -->\n      <g transform=\"translate(7.2 76.342555)scale(0.1 -0.1)\">\n       <use xlink:href=\"#DejaVuSans-50\"/>\n       <use x=\"63.623047\" xlink:href=\"#DejaVuSans-48\"/>\n      </g>\n     </g>\n    </g>\n    <g id=\"ytick_4\">\n     <g id=\"line2d_6\">\n      <g>\n       <use style=\"stroke:#000000;stroke-width:0.8;\" x=\"26.925\" xlink:href=\"#m42f9472477\" y=\"103.315395\"/>\n      </g>\n     </g>\n     <g id=\"text_6\">\n      <!-- 30 -->\n      <defs>\n       <path d=\"M 40.578125 39.3125 \nQ 47.65625 37.796875 51.625 33 \nQ 55.609375 28.21875 55.609375 21.1875 \nQ 55.609375 10.40625 48.1875 4.484375 \nQ 40.765625 -1.421875 27.09375 -1.421875 \nQ 22.515625 -1.421875 17.65625 -0.515625 \nQ 12.796875 0.390625 7.625 2.203125 \nL 7.625 11.71875 \nQ 11.71875 9.328125 16.59375 8.109375 \nQ 21.484375 6.890625 26.8125 6.890625 \nQ 36.078125 6.890625 40.9375 10.546875 \nQ 45.796875 14.203125 45.796875 21.1875 \nQ 45.796875 27.640625 41.28125 31.265625 \nQ 36.765625 34.90625 28.71875 34.90625 \nL 20.21875 34.90625 \nL 20.21875 43.015625 \nL 29.109375 43.015625 \nQ 36.375 43.015625 40.234375 45.921875 \nQ 44.09375 48.828125 44.09375 54.296875 \nQ 44.09375 59.90625 40.109375 62.90625 \nQ 36.140625 65.921875 28.71875 65.921875 \nQ 24.65625 65.921875 20.015625 65.03125 \nQ 15.375 64.15625 9.8125 62.3125 \nL 9.8125 71.09375 \nQ 15.4375 72.65625 20.34375 73.4375 \nQ 25.25 74.21875 29.59375 74.21875 \nQ 40.828125 74.21875 47.359375 69.109375 \nQ 53.90625 64.015625 53.90625 55.328125 \nQ 53.90625 49.265625 50.4375 45.09375 \nQ 46.96875 40.921875 40.578125 39.3125 \nz\n\" id=\"DejaVuSans-51\"/>\n      </defs>\n      <g transform=\"translate(7.2 107.114614)scale(0.1 -0.1)\">\n       <use xlink:href=\"#DejaVuSans-51\"/>\n       <use x=\"63.623047\" xlink:href=\"#DejaVuSans-48\"/>\n      </g>\n     </g>\n    </g>\n   </g>\n   <g id=\"patch_3\">\n    <path d=\"M 26.925 107.931204 \nL 26.925 9.460616 \n\" style=\"fill:none;stroke:#000000;stroke-linecap:square;stroke-linejoin:miter;stroke-width:0.8;\"/>\n   </g>\n   <g id=\"patch_4\">\n    <path d=\"M 125.395588 107.931204 \nL 125.395588 9.460616 \n\" style=\"fill:none;stroke:#000000;stroke-linecap:square;stroke-linejoin:miter;stroke-width:0.8;\"/>\n   </g>\n   <g id=\"patch_5\">\n    <path d=\"M 26.925 107.931204 \nL 125.395588 107.931204 \n\" style=\"fill:none;stroke:#000000;stroke-linecap:square;stroke-linejoin:miter;stroke-width:0.8;\"/>\n   </g>\n   <g id=\"patch_6\">\n    <path d=\"M 26.925 9.460616 \nL 125.395588 9.460616 \n\" style=\"fill:none;stroke:#000000;stroke-linecap:square;stroke-linejoin:miter;stroke-width:0.8;\"/>\n   </g>\n  </g>\n  <g id=\"axes_2\">\n   <g id=\"patch_7\">\n    <path d=\"M 145.089706 107.931204 \nL 243.560294 107.931204 \nL 243.560294 9.460616 \nL 145.089706 9.460616 \nz\n\" style=\"fill:#ffffff;\"/>\n   </g>\n   <g clip-path=\"url(#pd6ba05563c)\">\n    <image height=\"99\" id=\"image6a4e00b803\" transform=\"scale(1 -1)translate(0 -99)\" width=\"99\" x=\"145.089706\" xlink:href=\"data:image/png;base64,\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\" y=\"-8.931204\"/>\n   </g>\n   <g id=\"matplotlib.axis_3\">\n    <g id=\"xtick_3\">\n     <g id=\"line2d_7\">\n      <g>\n       <use style=\"stroke:#000000;stroke-width:0.8;\" x=\"146.628309\" xlink:href=\"#m7351d16d7e\" y=\"107.931204\"/>\n      </g>\n     </g>\n     <g id=\"text_7\">\n      <!-- 0 -->\n      <g transform=\"translate(143.447059 122.529642)scale(0.1 -0.1)\">\n       <use xlink:href=\"#DejaVuSans-48\"/>\n      </g>\n     </g>\n    </g>\n    <g id=\"xtick_4\">\n     <g id=\"line2d_8\">\n      <g>\n       <use style=\"stroke:#000000;stroke-width:0.8;\" x=\"208.172426\" xlink:href=\"#m7351d16d7e\" y=\"107.931204\"/>\n      </g>\n     </g>\n     <g id=\"text_8\">\n      <!-- 20 -->\n      <g transform=\"translate(201.809926 122.529642)scale(0.1 -0.1)\">\n       <use xlink:href=\"#DejaVuSans-50\"/>\n       <use x=\"63.623047\" xlink:href=\"#DejaVuSans-48\"/>\n      </g>\n     </g>\n    </g>\n   </g>\n   <g id=\"matplotlib.axis_4\">\n    <g id=\"ytick_5\">\n     <g id=\"line2d_9\">\n      <g>\n       <use style=\"stroke:#000000;stroke-width:0.8;\" x=\"145.089706\" xlink:href=\"#m42f9472477\" y=\"10.999219\"/>\n      </g>\n     </g>\n     <g id=\"text_9\">\n      <!-- 0 -->\n      <g transform=\"translate(131.727206 14.798438)scale(0.1 -0.1)\">\n       <use xlink:href=\"#DejaVuSans-48\"/>\n      </g>\n     </g>\n    </g>\n    <g id=\"ytick_6\">\n     <g id=\"line2d_10\">\n      <g>\n       <use style=\"stroke:#000000;stroke-width:0.8;\" x=\"145.089706\" xlink:href=\"#m42f9472477\" y=\"41.771278\"/>\n      </g>\n     </g>\n     <g id=\"text_10\">\n      <!-- 10 -->\n      <g transform=\"translate(125.364706 45.570496)scale(0.1 -0.1)\">\n       <use xlink:href=\"#DejaVuSans-49\"/>\n       <use x=\"63.623047\" xlink:href=\"#DejaVuSans-48\"/>\n      </g>\n     </g>\n    </g>\n    <g id=\"ytick_7\">\n     <g id=\"line2d_11\">\n      <g>\n       <use style=\"stroke:#000000;stroke-width:0.8;\" x=\"145.089706\" xlink:href=\"#m42f9472477\" y=\"72.543336\"/>\n      </g>\n     </g>\n     <g id=\"text_11\">\n      <!-- 20 -->\n      <g transform=\"translate(125.364706 76.342555)scale(0.1 -0.1)\">\n       <use xlink:href=\"#DejaVuSans-50\"/>\n       <use x=\"63.623047\" xlink:href=\"#DejaVuSans-48\"/>\n      </g>\n     </g>\n    </g>\n    <g id=\"ytick_8\">\n     <g id=\"line2d_12\">\n      <g>\n       <use style=\"stroke:#000000;stroke-width:0.8;\" x=\"145.089706\" xlink:href=\"#m42f9472477\" y=\"103.315395\"/>\n      </g>\n     </g>\n     <g id=\"text_12\">\n      <!-- 30 -->\n      <g transform=\"translate(125.364706 107.114614)scale(0.1 -0.1)\">\n       <use xlink:href=\"#DejaVuSans-51\"/>\n       <use x=\"63.623047\" xlink:href=\"#DejaVuSans-48\"/>\n      </g>\n     </g>\n    </g>\n   </g>\n   <g id=\"patch_8\">\n    <path d=\"M 145.089706 107.931204 \nL 145.089706 9.460616 \n\" style=\"fill:none;stroke:#000000;stroke-linecap:square;stroke-linejoin:miter;stroke-width:0.8;\"/>\n   </g>\n   <g id=\"patch_9\">\n    <path d=\"M 243.560294 107.931204 \nL 243.560294 9.460616 \n\" style=\"fill:none;stroke:#000000;stroke-linecap:square;stroke-linejoin:miter;stroke-width:0.8;\"/>\n   </g>\n   <g id=\"patch_10\">\n    <path d=\"M 145.089706 107.931204 \nL 243.560294 107.931204 \n\" style=\"fill:none;stroke:#000000;stroke-linecap:square;stroke-linejoin:miter;stroke-width:0.8;\"/>\n   </g>\n   <g id=\"patch_11\">\n    <path d=\"M 145.089706 9.460616 \nL 243.560294 9.460616 \n\" style=\"fill:none;stroke:#000000;stroke-linecap:square;stroke-linejoin:miter;stroke-width:0.8;\"/>\n   </g>\n  </g>\n  <g id=\"axes_3\">\n   <g id=\"patch_12\">\n    <path d=\"M 263.254412 107.931204 \nL 361.725 107.931204 \nL 361.725 9.460616 \nL 263.254412 9.460616 \nz\n\" style=\"fill:#ffffff;\"/>\n   </g>\n   <g clip-path=\"url(#p2a6a80f2fb)\">\n    <image height=\"99\" id=\"image18e0dd977e\" transform=\"scale(1 -1)translate(0 -99)\" width=\"99\" x=\"263.254412\" xlink:href=\"data:image/png;base64,\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\" y=\"-8.931204\"/>\n   </g>\n   <g id=\"matplotlib.axis_5\">\n    <g id=\"xtick_5\">\n     <g id=\"line2d_13\">\n      <g>\n       <use style=\"stroke:#000000;stroke-width:0.8;\" x=\"264.793015\" xlink:href=\"#m7351d16d7e\" y=\"107.931204\"/>\n      </g>\n     </g>\n     <g id=\"text_13\">\n      <!-- 0 -->\n      <g transform=\"translate(261.611765 122.529642)scale(0.1 -0.1)\">\n       <use xlink:href=\"#DejaVuSans-48\"/>\n      </g>\n     </g>\n    </g>\n    <g id=\"xtick_6\">\n     <g id=\"line2d_14\">\n      <g>\n       <use style=\"stroke:#000000;stroke-width:0.8;\" x=\"326.337132\" xlink:href=\"#m7351d16d7e\" y=\"107.931204\"/>\n      </g>\n     </g>\n     <g id=\"text_14\">\n      <!-- 20 -->\n      <g transform=\"translate(319.974632 122.529642)scale(0.1 -0.1)\">\n       <use xlink:href=\"#DejaVuSans-50\"/>\n       <use x=\"63.623047\" xlink:href=\"#DejaVuSans-48\"/>\n      </g>\n     </g>\n    </g>\n   </g>\n   <g id=\"matplotlib.axis_6\">\n    <g id=\"ytick_9\">\n     <g id=\"line2d_15\">\n      <g>\n       <use style=\"stroke:#000000;stroke-width:0.8;\" x=\"263.254412\" xlink:href=\"#m42f9472477\" y=\"10.999219\"/>\n      </g>\n     </g>\n     <g id=\"text_15\">\n      <!-- 0 -->\n      <g transform=\"translate(249.891912 14.798438)scale(0.1 -0.1)\">\n       <use xlink:href=\"#DejaVuSans-48\"/>\n      </g>\n     </g>\n    </g>\n    <g id=\"ytick_10\">\n     <g id=\"line2d_16\">\n      <g>\n       <use style=\"stroke:#000000;stroke-width:0.8;\" x=\"263.254412\" xlink:href=\"#m42f9472477\" y=\"41.771278\"/>\n      </g>\n     </g>\n     <g id=\"text_16\">\n      <!-- 10 -->\n      <g transform=\"translate(243.529412 45.570496)scale(0.1 -0.1)\">\n       <use xlink:href=\"#DejaVuSans-49\"/>\n       <use x=\"63.623047\" xlink:href=\"#DejaVuSans-48\"/>\n      </g>\n     </g>\n    </g>\n    <g id=\"ytick_11\">\n     <g id=\"line2d_17\">\n      <g>\n       <use style=\"stroke:#000000;stroke-width:0.8;\" x=\"263.254412\" xlink:href=\"#m42f9472477\" y=\"72.543336\"/>\n      </g>\n     </g>\n     <g id=\"text_17\">\n      <!-- 20 -->\n      <g transform=\"translate(243.529412 76.342555)scale(0.1 -0.1)\">\n       <use xlink:href=\"#DejaVuSans-50\"/>\n       <use x=\"63.623047\" xlink:href=\"#DejaVuSans-48\"/>\n      </g>\n     </g>\n    </g>\n    <g id=\"ytick_12\">\n     <g id=\"line2d_18\">\n      <g>\n       <use style=\"stroke:#000000;stroke-width:0.8;\" x=\"263.254412\" xlink:href=\"#m42f9472477\" y=\"103.315395\"/>\n      </g>\n     </g>\n     <g id=\"text_18\">\n      <!-- 30 -->\n      <g transform=\"translate(243.529412 107.114614)scale(0.1 -0.1)\">\n       <use xlink:href=\"#DejaVuSans-51\"/>\n       <use x=\"63.623047\" xlink:href=\"#DejaVuSans-48\"/>\n      </g>\n     </g>\n    </g>\n   </g>\n   <g id=\"patch_13\">\n    <path d=\"M 263.254412 107.931204 \nL 263.254412 9.460616 \n\" style=\"fill:none;stroke:#000000;stroke-linecap:square;stroke-linejoin:miter;stroke-width:0.8;\"/>\n   </g>\n   <g id=\"patch_14\">\n    <path d=\"M 361.725 107.931204 \nL 361.725 9.460616 \n\" style=\"fill:none;stroke:#000000;stroke-linecap:square;stroke-linejoin:miter;stroke-width:0.8;\"/>\n   </g>\n   <g id=\"patch_15\">\n    <path d=\"M 263.254412 107.931204 \nL 361.725 107.931204 \n\" style=\"fill:none;stroke:#000000;stroke-linecap:square;stroke-linejoin:miter;stroke-width:0.8;\"/>\n   </g>\n   <g id=\"patch_16\">\n    <path d=\"M 263.254412 9.460616 \nL 361.725 9.460616 \n\" style=\"fill:none;stroke:#000000;stroke-linecap:square;stroke-linejoin:miter;stroke-width:0.8;\"/>\n   </g>\n  </g>\n </g>\n <defs>\n  <clipPath id=\"p40ed8aad70\">\n   <rect height=\"98.470588\" width=\"98.470588\" x=\"26.925\" y=\"9.460616\"/>\n  </clipPath>\n  <clipPath id=\"pd6ba05563c\">\n   <rect height=\"98.470588\" width=\"98.470588\" x=\"145.089706\" y=\"9.460616\"/>\n  </clipPath>\n  <clipPath id=\"p2a6a80f2fb\">\n   <rect height=\"98.470588\" width=\"98.470588\" x=\"263.254412\" y=\"9.460616\"/>\n  </clipPath>\n </defs>\n</svg>\n",
            "image/png": "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$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\n"
          },
          "metadata": {
            "needs_background": "light"
          }
        }
      ]
    },
    {
      "cell_type": "code",
      "metadata": {
        "id": "C_MZIWCFLwks"
      },
      "source": [
        "# Load the list of coarse labels from a JSON file\n",
        "\n",
        "with open('data/cifar-100-labels.json', 'r') as coarse_labels:\n",
        "    cifar100_coarse_labels = json.load(coarse_labels)"
      ],
      "execution_count": 15,
      "outputs": []
    },
    {
      "cell_type": "code",
      "metadata": {
        "scrolled": true,
        "id": "wbvYhD48Lwku",
        "colab": {
          "base_uri": "https://localhost:8080/"
        },
        "outputId": "c8880ce3-15a3-4f5e-d2f6-06913cf23e0c"
      },
      "source": [
        "# Print a few of the labels\n",
        "\n",
        "cifar100_coarse_labels[0:10]"
      ],
      "execution_count": 16,
      "outputs": [
        {
          "output_type": "execute_result",
          "data": {
            "text/plain": [
              "['apple',\n",
              " 'aquarium_fish',\n",
              " 'baby',\n",
              " 'bear',\n",
              " 'beaver',\n",
              " 'bed',\n",
              " 'bee',\n",
              " 'beetle',\n",
              " 'bicycle',\n",
              " 'bottle']"
            ]
          },
          "metadata": {},
          "execution_count": 16
        }
      ]
    },
    {
      "cell_type": "code",
      "metadata": {
        "id": "2KGMaEInLwkx",
        "colab": {
          "base_uri": "https://localhost:8080/"
        },
        "outputId": "c92c28e3-b5ff-41c8-fd0d-40a2b26b9afc"
      },
      "source": [
        "# Print the corresponding label for the example above\n",
        "print(cifar100_fine_labels[86])\n",
        "print(cifar100_coarse_labels[5])"
      ],
      "execution_count": 17,
      "outputs": [
        {
          "output_type": "stream",
          "name": "stdout",
          "text": [
            "telephone\nbed\n"
          ]
        }
      ]
    },
    {
      "cell_type": "markdown",
      "metadata": {
        "id": "uZDJui8OLwk1"
      },
      "source": [
        "#### Load the IMDB Dataset"
      ]
    },
    {
      "cell_type": "code",
      "metadata": {
        "id": "UKylrcBKLwk2"
      },
      "source": [
        "from tensorflow.keras.datasets import imdb"
      ],
      "execution_count": 18,
      "outputs": []
    },
    {
      "cell_type": "code",
      "metadata": {
        "id": "rWNp9BGZLwk4",
        "colab": {
          "base_uri": "https://localhost:8080/"
        },
        "outputId": "bae39c43-5d0c-4c1e-d131-0127d0d8fd13"
      },
      "source": [
        "# Load the IMDB dataset\n",
        "\n",
        "(train_data, train_labels),(test_data, test_labels) = imdb.load_data()"
      ],
      "execution_count": 19,
      "outputs": []
    },
    {
      "cell_type": "code",
      "metadata": {
        "id": "fTHEOfQ1Lwk8",
        "colab": {
          "base_uri": "https://localhost:8080/"
        },
        "outputId": "efc230d6-a1c6-49a7-a5db-34f0f1db3b48"
      },
      "source": [
        "# Print an example from the training dataset, along with its corresponding label\n",
        "\n",
        "print(train_data[0])\n",
        "print(train_labels[0])"
      ],
      "execution_count": 20,
      "outputs": [
        {
          "output_type": "stream",
          "name": "stdout",
          "text": [
            "[1, 14, 22, 16, 43, 530, 973, 1622, 1385, 65, 458, 4468, 66, 3941, 4, 173, 36, 256, 5, 25, 100, 43, 838, 112, 50, 670, 22665, 9, 35, 480, 284, 5, 150, 4, 172, 112, 167, 21631, 336, 385, 39, 4, 172, 4536, 1111, 17, 546, 38, 13, 447, 4, 192, 50, 16, 6, 147, 2025, 19, 14, 22, 4, 1920, 4613, 469, 4, 22, 71, 87, 12, 16, 43, 530, 38, 76, 15, 13, 1247, 4, 22, 17, 515, 17, 12, 16, 626, 18, 19193, 5, 62, 386, 12, 8, 316, 8, 106, 5, 4, 2223, 5244, 16, 480, 66, 3785, 33, 4, 130, 12, 16, 38, 619, 5, 25, 124, 51, 36, 135, 48, 25, 1415, 33, 6, 22, 12, 215, 28, 77, 52, 5, 14, 407, 16, 82, 10311, 8, 4, 107, 117, 5952, 15, 256, 4, 31050, 7, 3766, 5, 723, 36, 71, 43, 530, 476, 26, 400, 317, 46, 7, 4, 12118, 1029, 13, 104, 88, 4, 381, 15, 297, 98, 32, 2071, 56, 26, 141, 6, 194, 7486, 18, 4, 226, 22, 21, 134, 476, 26, 480, 5, 144, 30, 5535, 18, 51, 36, 28, 224, 92, 25, 104, 4, 226, 65, 16, 38, 1334, 88, 12, 16, 283, 5, 16, 4472, 113, 103, 32, 15, 16, 5345, 19, 178, 32]\n1\n"
          ]
        }
      ]
    },
    {
      "cell_type": "code",
      "metadata": {
        "id": "UikjKYS5Lwk-"
      },
      "source": [
        "# Get the lengths of the input sequences\n",
        "\n",
        "sequence_lengths = [len(seq) for seq in train_data]"
      ],
      "execution_count": 21,
      "outputs": []
    },
    {
      "cell_type": "code",
      "metadata": {
        "id": "3QbK1eZOLwlB",
        "colab": {
          "base_uri": "https://localhost:8080/"
        },
        "outputId": "b4c585c4-a572-4e3d-894f-1830a89cadca"
      },
      "source": [
        "# Determine the maximum and minimum sequence length\n",
        "\n",
        "print(np.max(sequence_lengths))\n",
        "print(np.min(sequence_lengths))"
      ],
      "execution_count": 22,
      "outputs": [
        {
          "output_type": "stream",
          "name": "stdout",
          "text": [
            "2494\n11\n"
          ]
        }
      ]
    },
    {
      "cell_type": "markdown",
      "metadata": {
        "id": "WfxdEsETLwlD"
      },
      "source": [
        "#### Using Keyword Arguments"
      ]
    },
    {
      "cell_type": "code",
      "metadata": {
        "id": "V_rJ9cHDLwlE"
      },
      "source": [
        "# Load the data ignoring the 50 most frequent words, use oov_char=2 (this is the default)\n",
        "\n",
        "(train_data, train_labels),(test_data, test_labels) = imdb.load_data(skip_top=50, oov_char=2)"
      ],
      "execution_count": 23,
      "outputs": []
    },
    {
      "cell_type": "code",
      "metadata": {
        "id": "EfrBgZWXLwlH"
      },
      "source": [
        "# Get the lengths of the input sequences\n",
        "\n",
        "sequence_lengths = [len(seq) for seq in train_data]"
      ],
      "execution_count": 24,
      "outputs": []
    },
    {
      "cell_type": "code",
      "metadata": {
        "id": "iqSdCKqxLwlJ",
        "colab": {
          "base_uri": "https://localhost:8080/"
        },
        "outputId": "34ddc96d-624e-4128-95c9-123fc053c96e"
      },
      "source": [
        "# Determine the maximum and minimum sequence length\n",
        "\n",
        "print(np.max(sequence_lengths))\n",
        "print(np.min(sequence_lengths))"
      ],
      "execution_count": 25,
      "outputs": [
        {
          "output_type": "stream",
          "name": "stdout",
          "text": [
            "2494\n11\n"
          ]
        }
      ]
    },
    {
      "cell_type": "code",
      "metadata": {
        "id": "R9RjMJaJLwlL"
      },
      "source": [
        "# Define functions for filtering the sequences\n",
        "\n",
        "def remove_oov_char(element):\n",
        "    ''' Filter function for removing the oov_char. '''\n",
        "    return [word for word in element if word!=2]\n",
        "\n",
        "def filter_list(lst):\n",
        "    ''' Run remove_oov_char on elements in a list. '''\n",
        "    return [remove_oov_char(element) for element in lst]"
      ],
      "execution_count": 26,
      "outputs": []
    },
    {
      "cell_type": "code",
      "metadata": {
        "id": "7eBoicx1LwlO"
      },
      "source": [
        "# Remove the oov_char from the sequences using the filter_list function\n",
        "\n",
        "train_data = filter_list(train_data)"
      ],
      "execution_count": 27,
      "outputs": []
    },
    {
      "cell_type": "code",
      "metadata": {
        "id": "YZ0myFkyLwlR"
      },
      "source": [
        "# Get the lengths of the input sequences\n",
        "\n",
        "sequence_lengths = [len(seq) for seq in train_data]"
      ],
      "execution_count": 28,
      "outputs": []
    },
    {
      "cell_type": "code",
      "metadata": {
        "id": "Qy5jFTr3LwlU",
        "colab": {
          "base_uri": "https://localhost:8080/"
        },
        "outputId": "708da2f9-9d35-4a1b-ef63-860ad1d942e7"
      },
      "source": [
        "# Determine the maximum and minimum sequence length\n",
        "\n",
        "print(np.max(sequence_lengths))\n",
        "print(np.min(sequence_lengths))"
      ],
      "execution_count": 29,
      "outputs": [
        {
          "output_type": "stream",
          "name": "stdout",
          "text": [
            "1648\n3\n"
          ]
        }
      ]
    },
    {
      "cell_type": "markdown",
      "metadata": {
        "id": "43w36xfNLwlW"
      },
      "source": [
        "***\n",
        "<a id=\"coding_tutorial_2\"></a>\n",
        "## Dataset generators"
      ]
    },
    {
      "cell_type": "code",
      "metadata": {
        "id": "_GVjAo5nLwlX"
      },
      "source": [
        "import matplotlib.pyplot as plt\n",
        "import numpy as np\n",
        "import pandas as pd"
      ],
      "execution_count": 30,
      "outputs": []
    },
    {
      "cell_type": "markdown",
      "metadata": {
        "id": "QeksQNB9LwlZ"
      },
      "source": [
        "#### Load the UCI Fertility Dataset\n",
        "\n",
        "We will be using a dataset available at https://archive.ics.uci.edu/ml/datasets/Fertility from UC Irvine."
      ]
    },
    {
      "cell_type": "markdown",
      "metadata": {
        "id": "tDMv0Yc6NGd9"
      },
      "source": [
        "#### Import the data\n",
        "\n",
        "The dataset required for this tutorial can be downloaded from the following link:\n",
        "\n",
        "https://drive.google.com/open?id=1OA0lwa5YLDs1njS377jbqPpMSlH5TzQV\n",
        "\n",
        "You should store this file in Drive for use in this Colab notebook."
      ]
    },
    {
      "cell_type": "code",
      "metadata": {
        "id": "UK-HCBxlNGpb"
      },
      "source": [
        "# Run this cell to connect to your Drive folder\n",
        "\n",
        "# from google.colab import drive\n",
        "# drive.mount('/content/gdrive')"
      ],
      "execution_count": 31,
      "outputs": []
    },
    {
      "cell_type": "code",
      "metadata": {
        "id": "XKfmk3zpLwla"
      },
      "source": [
        "# Load the fertility dataset\n",
        "\n",
        "headers = ['Season', 'Age', 'Diseases', 'Trauma', 'Surgery', 'Fever', 'Alcohol', 'Smoking', 'Sitting', 'Output']\n",
        "fertility = pd.read_csv('data/fertility_Diagnosis.txt', delimiter=',', header=None, names=headers)"
      ],
      "execution_count": 34,
      "outputs": []
    },
    {
      "cell_type": "code",
      "metadata": {
        "id": "WWOyjhCJLwld",
        "colab": {
          "base_uri": "https://localhost:8080/",
          "height": 206
        },
        "outputId": "dba937c0-2703-444d-c13f-c2514b533011"
      },
      "source": [
        "\n",
        "# Print the shape of the DataFrame\n",
        "\n",
        "fertility.head()"
      ],
      "execution_count": 35,
      "outputs": [
        {
          "output_type": "execute_result",
          "data": {
            "text/plain": [
              "   Season   Age  Diseases  Trauma  Surgery  Fever  Alcohol  Smoking  Sitting  \\\n",
              "0   -0.33  0.69         0       1        1      0      0.8        0     0.88   \n",
              "1   -0.33  0.94         1       0        1      0      0.8        1     0.31   \n",
              "2   -0.33  0.50         1       0        0      0      1.0       -1     0.50   \n",
              "3   -0.33  0.75         0       1        1      0      1.0       -1     0.38   \n",
              "4   -0.33  0.67         1       1        0      0      0.8       -1     0.50   \n",
              "\n",
              "  Output  \n",
              "0      N  \n",
              "1      O  \n",
              "2      N  \n",
              "3      N  \n",
              "4      O  "
            ],
            "text/html": "<div>\n<style scoped>\n    .dataframe tbody tr th:only-of-type {\n        vertical-align: middle;\n    }\n\n    .dataframe tbody tr th {\n        vertical-align: top;\n    }\n\n    .dataframe thead th {\n        text-align: right;\n    }\n</style>\n<table border=\"1\" class=\"dataframe\">\n  <thead>\n    <tr style=\"text-align: right;\">\n      <th></th>\n      <th>Season</th>\n      <th>Age</th>\n      <th>Diseases</th>\n      <th>Trauma</th>\n      <th>Surgery</th>\n      <th>Fever</th>\n      <th>Alcohol</th>\n      <th>Smoking</th>\n      <th>Sitting</th>\n      <th>Output</th>\n    </tr>\n  </thead>\n  <tbody>\n    <tr>\n      <th>0</th>\n      <td>-0.33</td>\n      <td>0.69</td>\n      <td>0</td>\n      <td>1</td>\n      <td>1</td>\n      <td>0</td>\n      <td>0.8</td>\n      <td>0</td>\n      <td>0.88</td>\n      <td>N</td>\n    </tr>\n    <tr>\n      <th>1</th>\n      <td>-0.33</td>\n      <td>0.94</td>\n      <td>1</td>\n      <td>0</td>\n      <td>1</td>\n      <td>0</td>\n      <td>0.8</td>\n      <td>1</td>\n      <td>0.31</td>\n      <td>O</td>\n    </tr>\n    <tr>\n      <th>2</th>\n      <td>-0.33</td>\n      <td>0.50</td>\n      <td>1</td>\n      <td>0</td>\n      <td>0</td>\n      <td>0</td>\n      <td>1.0</td>\n      <td>-1</td>\n      <td>0.50</td>\n      <td>N</td>\n    </tr>\n    <tr>\n      <th>3</th>\n      <td>-0.33</td>\n      <td>0.75</td>\n      <td>0</td>\n      <td>1</td>\n      <td>1</td>\n      <td>0</td>\n      <td>1.0</td>\n      <td>-1</td>\n      <td>0.38</td>\n      <td>N</td>\n    </tr>\n    <tr>\n      <th>4</th>\n      <td>-0.33</td>\n      <td>0.67</td>\n      <td>1</td>\n      <td>1</td>\n      <td>0</td>\n      <td>0</td>\n      <td>0.8</td>\n      <td>-1</td>\n      <td>0.50</td>\n      <td>O</td>\n    </tr>\n  </tbody>\n</table>\n</div>"
          },
          "metadata": {},
          "execution_count": 35
        }
      ]
    },
    {
      "cell_type": "code",
      "metadata": {
        "id": "mwGWKnbbLwlf",
        "colab": {
          "base_uri": "https://localhost:8080/",
          "height": 206
        },
        "outputId": "0fd832a9-456f-4646-bfaa-474d0b16b269"
      },
      "source": [
        "# Show the head of the DataFrame\n",
        "\n",
        "fertility.head()"
      ],
      "execution_count": 36,
      "outputs": [
        {
          "output_type": "execute_result",
          "data": {
            "text/plain": [
              "   Season   Age  Diseases  Trauma  Surgery  Fever  Alcohol  Smoking  Sitting  \\\n",
              "0   -0.33  0.69         0       1        1      0      0.8        0     0.88   \n",
              "1   -0.33  0.94         1       0        1      0      0.8        1     0.31   \n",
              "2   -0.33  0.50         1       0        0      0      1.0       -1     0.50   \n",
              "3   -0.33  0.75         0       1        1      0      1.0       -1     0.38   \n",
              "4   -0.33  0.67         1       1        0      0      0.8       -1     0.50   \n",
              "\n",
              "  Output  \n",
              "0      N  \n",
              "1      O  \n",
              "2      N  \n",
              "3      N  \n",
              "4      O  "
            ],
            "text/html": "<div>\n<style scoped>\n    .dataframe tbody tr th:only-of-type {\n        vertical-align: middle;\n    }\n\n    .dataframe tbody tr th {\n        vertical-align: top;\n    }\n\n    .dataframe thead th {\n        text-align: right;\n    }\n</style>\n<table border=\"1\" class=\"dataframe\">\n  <thead>\n    <tr style=\"text-align: right;\">\n      <th></th>\n      <th>Season</th>\n      <th>Age</th>\n      <th>Diseases</th>\n      <th>Trauma</th>\n      <th>Surgery</th>\n      <th>Fever</th>\n      <th>Alcohol</th>\n      <th>Smoking</th>\n      <th>Sitting</th>\n      <th>Output</th>\n    </tr>\n  </thead>\n  <tbody>\n    <tr>\n      <th>0</th>\n      <td>-0.33</td>\n      <td>0.69</td>\n      <td>0</td>\n      <td>1</td>\n      <td>1</td>\n      <td>0</td>\n      <td>0.8</td>\n      <td>0</td>\n      <td>0.88</td>\n      <td>N</td>\n    </tr>\n    <tr>\n      <th>1</th>\n      <td>-0.33</td>\n      <td>0.94</td>\n      <td>1</td>\n      <td>0</td>\n      <td>1</td>\n      <td>0</td>\n      <td>0.8</td>\n      <td>1</td>\n      <td>0.31</td>\n      <td>O</td>\n    </tr>\n    <tr>\n      <th>2</th>\n      <td>-0.33</td>\n      <td>0.50</td>\n      <td>1</td>\n      <td>0</td>\n      <td>0</td>\n      <td>0</td>\n      <td>1.0</td>\n      <td>-1</td>\n      <td>0.50</td>\n      <td>N</td>\n    </tr>\n    <tr>\n      <th>3</th>\n      <td>-0.33</td>\n      <td>0.75</td>\n      <td>0</td>\n      <td>1</td>\n      <td>1</td>\n      <td>0</td>\n      <td>1.0</td>\n      <td>-1</td>\n      <td>0.38</td>\n      <td>N</td>\n    </tr>\n    <tr>\n      <th>4</th>\n      <td>-0.33</td>\n      <td>0.67</td>\n      <td>1</td>\n      <td>1</td>\n      <td>0</td>\n      <td>0</td>\n      <td>0.8</td>\n      <td>-1</td>\n      <td>0.50</td>\n      <td>O</td>\n    </tr>\n  </tbody>\n</table>\n</div>"
          },
          "metadata": {},
          "execution_count": 36
        }
      ]
    },
    {
      "cell_type": "markdown",
      "metadata": {
        "id": "slDi0LNSLwlk"
      },
      "source": [
        "#### Process the data"
      ]
    },
    {
      "cell_type": "code",
      "metadata": {
        "id": "bCmzD-5HLwll"
      },
      "source": [
        "\n",
        "# Map the 'Output' feature from 'N' to 0 and from 'O' to 1\n",
        "\n",
        "fertility['Output'] = fertility['Output'].map(lambda x : 0.0 if x=='N' else 1.0)"
      ],
      "execution_count": 37,
      "outputs": []
    },
    {
      "cell_type": "code",
      "metadata": {
        "id": "7yjVX1KMLwlo",
        "colab": {
          "base_uri": "https://localhost:8080/",
          "height": 206
        },
        "outputId": "fb1d1a8d-52a7-42f8-e9a8-18d7f30622e7"
      },
      "source": [
        "# Show the head of the DataFrame\n",
        "\n",
        "fertility.head()"
      ],
      "execution_count": 38,
      "outputs": [
        {
          "output_type": "execute_result",
          "data": {
            "text/plain": [
              "   Season   Age  Diseases  Trauma  Surgery  Fever  Alcohol  Smoking  Sitting  \\\n",
              "0   -0.33  0.69         0       1        1      0      0.8        0     0.88   \n",
              "1   -0.33  0.94         1       0        1      0      0.8        1     0.31   \n",
              "2   -0.33  0.50         1       0        0      0      1.0       -1     0.50   \n",
              "3   -0.33  0.75         0       1        1      0      1.0       -1     0.38   \n",
              "4   -0.33  0.67         1       1        0      0      0.8       -1     0.50   \n",
              "\n",
              "   Output  \n",
              "0     0.0  \n",
              "1     1.0  \n",
              "2     0.0  \n",
              "3     0.0  \n",
              "4     1.0  "
            ],
            "text/html": "<div>\n<style scoped>\n    .dataframe tbody tr th:only-of-type {\n        vertical-align: middle;\n    }\n\n    .dataframe tbody tr th {\n        vertical-align: top;\n    }\n\n    .dataframe thead th {\n        text-align: right;\n    }\n</style>\n<table border=\"1\" class=\"dataframe\">\n  <thead>\n    <tr style=\"text-align: right;\">\n      <th></th>\n      <th>Season</th>\n      <th>Age</th>\n      <th>Diseases</th>\n      <th>Trauma</th>\n      <th>Surgery</th>\n      <th>Fever</th>\n      <th>Alcohol</th>\n      <th>Smoking</th>\n      <th>Sitting</th>\n      <th>Output</th>\n    </tr>\n  </thead>\n  <tbody>\n    <tr>\n      <th>0</th>\n      <td>-0.33</td>\n      <td>0.69</td>\n      <td>0</td>\n      <td>1</td>\n      <td>1</td>\n      <td>0</td>\n      <td>0.8</td>\n      <td>0</td>\n      <td>0.88</td>\n      <td>0.0</td>\n    </tr>\n    <tr>\n      <th>1</th>\n      <td>-0.33</td>\n      <td>0.94</td>\n      <td>1</td>\n      <td>0</td>\n      <td>1</td>\n      <td>0</td>\n      <td>0.8</td>\n      <td>1</td>\n      <td>0.31</td>\n      <td>1.0</td>\n    </tr>\n    <tr>\n      <th>2</th>\n      <td>-0.33</td>\n      <td>0.50</td>\n      <td>1</td>\n      <td>0</td>\n      <td>0</td>\n      <td>0</td>\n      <td>1.0</td>\n      <td>-1</td>\n      <td>0.50</td>\n      <td>0.0</td>\n    </tr>\n    <tr>\n      <th>3</th>\n      <td>-0.33</td>\n      <td>0.75</td>\n      <td>0</td>\n      <td>1</td>\n      <td>1</td>\n      <td>0</td>\n      <td>1.0</td>\n      <td>-1</td>\n      <td>0.38</td>\n      <td>0.0</td>\n    </tr>\n    <tr>\n      <th>4</th>\n      <td>-0.33</td>\n      <td>0.67</td>\n      <td>1</td>\n      <td>1</td>\n      <td>0</td>\n      <td>0</td>\n      <td>0.8</td>\n      <td>-1</td>\n      <td>0.50</td>\n      <td>1.0</td>\n    </tr>\n  </tbody>\n</table>\n</div>"
          },
          "metadata": {},
          "execution_count": 38
        }
      ]
    },
    {
      "cell_type": "code",
      "metadata": {
        "id": "hJ5qjO5ALwlq"
      },
      "source": [
        "# Convert the DataFrame so that the features are mapped to floats\n",
        "\n",
        "fertility = fertility.astype('float32')"
      ],
      "execution_count": 39,
      "outputs": []
    },
    {
      "cell_type": "code",
      "metadata": {
        "id": "WWIZ-en6Lwls"
      },
      "source": [
        "# Shuffle the DataFrame\n",
        "\n",
        "fertility = fertility.sample(frac=1).reset_index(drop=True)"
      ],
      "execution_count": 40,
      "outputs": []
    },
    {
      "cell_type": "code",
      "metadata": {
        "scrolled": true,
        "id": "4HH_ObWqLwlu",
        "colab": {
          "base_uri": "https://localhost:8080/",
          "height": 206
        },
        "outputId": "34471ef8-c019-4f04-e78a-a6d0b49bdd6e"
      },
      "source": [
        "# Show the head of the DataFrame\n",
        "\n",
        "fertility.head()"
      ],
      "execution_count": 41,
      "outputs": [
        {
          "output_type": "execute_result",
          "data": {
            "text/plain": [
              "   Season   Age  Diseases  Trauma  Surgery  Fever  Alcohol  Smoking  Sitting  \\\n",
              "0    1.00  0.67       1.0     0.0      1.0    0.0      0.6     -1.0     0.38   \n",
              "1   -0.33  0.50       1.0     0.0      0.0    0.0      1.0     -1.0     0.50   \n",
              "2    1.00  0.69       1.0     0.0      1.0    0.0      0.8     -1.0     0.25   \n",
              "3   -1.00  0.64       1.0     0.0      1.0    0.0      1.0      0.0     0.19   \n",
              "4   -0.33  0.67       0.0     0.0      0.0   -1.0      0.8     -1.0     0.44   \n",
              "\n",
              "   Output  \n",
              "0     1.0  \n",
              "1     0.0  \n",
              "2     1.0  \n",
              "3     0.0  \n",
              "4     0.0  "
            ],
            "text/html": "<div>\n<style scoped>\n    .dataframe tbody tr th:only-of-type {\n        vertical-align: middle;\n    }\n\n    .dataframe tbody tr th {\n        vertical-align: top;\n    }\n\n    .dataframe thead th {\n        text-align: right;\n    }\n</style>\n<table border=\"1\" class=\"dataframe\">\n  <thead>\n    <tr style=\"text-align: right;\">\n      <th></th>\n      <th>Season</th>\n      <th>Age</th>\n      <th>Diseases</th>\n      <th>Trauma</th>\n      <th>Surgery</th>\n      <th>Fever</th>\n      <th>Alcohol</th>\n      <th>Smoking</th>\n      <th>Sitting</th>\n      <th>Output</th>\n    </tr>\n  </thead>\n  <tbody>\n    <tr>\n      <th>0</th>\n      <td>1.00</td>\n      <td>0.67</td>\n      <td>1.0</td>\n      <td>0.0</td>\n      <td>1.0</td>\n      <td>0.0</td>\n      <td>0.6</td>\n      <td>-1.0</td>\n      <td>0.38</td>\n      <td>1.0</td>\n    </tr>\n    <tr>\n      <th>1</th>\n      <td>-0.33</td>\n      <td>0.50</td>\n      <td>1.0</td>\n      <td>0.0</td>\n      <td>0.0</td>\n      <td>0.0</td>\n      <td>1.0</td>\n      <td>-1.0</td>\n      <td>0.50</td>\n      <td>0.0</td>\n    </tr>\n    <tr>\n      <th>2</th>\n      <td>1.00</td>\n      <td>0.69</td>\n      <td>1.0</td>\n      <td>0.0</td>\n      <td>1.0</td>\n      <td>0.0</td>\n      <td>0.8</td>\n      <td>-1.0</td>\n      <td>0.25</td>\n      <td>1.0</td>\n    </tr>\n    <tr>\n      <th>3</th>\n      <td>-1.00</td>\n      <td>0.64</td>\n      <td>1.0</td>\n      <td>0.0</td>\n      <td>1.0</td>\n      <td>0.0</td>\n      <td>1.0</td>\n      <td>0.0</td>\n      <td>0.19</td>\n      <td>0.0</td>\n    </tr>\n    <tr>\n      <th>4</th>\n      <td>-0.33</td>\n      <td>0.67</td>\n      <td>0.0</td>\n      <td>0.0</td>\n      <td>0.0</td>\n      <td>-1.0</td>\n      <td>0.8</td>\n      <td>-1.0</td>\n      <td>0.44</td>\n      <td>0.0</td>\n    </tr>\n  </tbody>\n</table>\n</div>"
          },
          "metadata": {},
          "execution_count": 41
        }
      ]
    },
    {
      "cell_type": "code",
      "metadata": {
        "id": "oREiQC5wLwly"
      },
      "source": [
        "# Convert the field Season to a one-hot encoded vector\n",
        "\n",
        "fertility = pd.get_dummies(fertility, prefix='Season', columns=['Season'])"
      ],
      "execution_count": 42,
      "outputs": []
    },
    {
      "cell_type": "code",
      "metadata": {
        "id": "fDCUdq3VLwl2",
        "colab": {
          "base_uri": "https://localhost:8080/",
          "height": 206
        },
        "outputId": "86be4ccc-268f-4a91-8db6-060d4a16df02"
      },
      "source": [
        "# Show the head of the DataFrame\n",
        "\n",
        "fertility.head()"
      ],
      "execution_count": 43,
      "outputs": [
        {
          "output_type": "execute_result",
          "data": {
            "text/plain": [
              "    Age  Diseases  Trauma  Surgery  Fever  Alcohol  Smoking  Sitting  Output  \\\n",
              "0  0.67       1.0     0.0      1.0    0.0      0.6     -1.0     0.38     1.0   \n",
              "1  0.50       1.0     0.0      0.0    0.0      1.0     -1.0     0.50     0.0   \n",
              "2  0.69       1.0     0.0      1.0    0.0      0.8     -1.0     0.25     1.0   \n",
              "3  0.64       1.0     0.0      1.0    0.0      1.0      0.0     0.19     0.0   \n",
              "4  0.67       0.0     0.0      0.0   -1.0      0.8     -1.0     0.44     0.0   \n",
              "\n",
              "   Season_-1.0  Season_-0.33000001311302185  Season_0.33000001311302185  \\\n",
              "0            0                            0                           0   \n",
              "1            0                            1                           0   \n",
              "2            0                            0                           0   \n",
              "3            1                            0                           0   \n",
              "4            0                            1                           0   \n",
              "\n",
              "   Season_1.0  \n",
              "0           1  \n",
              "1           0  \n",
              "2           1  \n",
              "3           0  \n",
              "4           0  "
            ],
            "text/html": "<div>\n<style scoped>\n    .dataframe tbody tr th:only-of-type {\n        vertical-align: middle;\n    }\n\n    .dataframe tbody tr th {\n        vertical-align: top;\n    }\n\n    .dataframe thead th {\n        text-align: right;\n    }\n</style>\n<table border=\"1\" class=\"dataframe\">\n  <thead>\n    <tr style=\"text-align: right;\">\n      <th></th>\n      <th>Age</th>\n      <th>Diseases</th>\n      <th>Trauma</th>\n      <th>Surgery</th>\n      <th>Fever</th>\n      <th>Alcohol</th>\n      <th>Smoking</th>\n      <th>Sitting</th>\n      <th>Output</th>\n      <th>Season_-1.0</th>\n      <th>Season_-0.33000001311302185</th>\n      <th>Season_0.33000001311302185</th>\n      <th>Season_1.0</th>\n    </tr>\n  </thead>\n  <tbody>\n    <tr>\n      <th>0</th>\n      <td>0.67</td>\n      <td>1.0</td>\n      <td>0.0</td>\n      <td>1.0</td>\n      <td>0.0</td>\n      <td>0.6</td>\n      <td>-1.0</td>\n      <td>0.38</td>\n      <td>1.0</td>\n      <td>0</td>\n      <td>0</td>\n      <td>0</td>\n      <td>1</td>\n    </tr>\n    <tr>\n      <th>1</th>\n      <td>0.50</td>\n      <td>1.0</td>\n      <td>0.0</td>\n      <td>0.0</td>\n      <td>0.0</td>\n      <td>1.0</td>\n      <td>-1.0</td>\n      <td>0.50</td>\n      <td>0.0</td>\n      <td>0</td>\n      <td>1</td>\n      <td>0</td>\n      <td>0</td>\n    </tr>\n    <tr>\n      <th>2</th>\n      <td>0.69</td>\n      <td>1.0</td>\n      <td>0.0</td>\n      <td>1.0</td>\n      <td>0.0</td>\n      <td>0.8</td>\n      <td>-1.0</td>\n      <td>0.25</td>\n      <td>1.0</td>\n      <td>0</td>\n      <td>0</td>\n      <td>0</td>\n      <td>1</td>\n    </tr>\n    <tr>\n      <th>3</th>\n      <td>0.64</td>\n      <td>1.0</td>\n      <td>0.0</td>\n      <td>1.0</td>\n      <td>0.0</td>\n      <td>1.0</td>\n      <td>0.0</td>\n      <td>0.19</td>\n      <td>0.0</td>\n      <td>1</td>\n      <td>0</td>\n      <td>0</td>\n      <td>0</td>\n    </tr>\n    <tr>\n      <th>4</th>\n      <td>0.67</td>\n      <td>0.0</td>\n      <td>0.0</td>\n      <td>0.0</td>\n      <td>-1.0</td>\n      <td>0.8</td>\n      <td>-1.0</td>\n      <td>0.44</td>\n      <td>0.0</td>\n      <td>0</td>\n      <td>1</td>\n      <td>0</td>\n      <td>0</td>\n    </tr>\n  </tbody>\n</table>\n</div>"
          },
          "metadata": {},
          "execution_count": 43
        }
      ]
    },
    {
      "cell_type": "code",
      "metadata": {
        "id": "eukmHFMILwl5"
      },
      "source": [
        "# Move the Output column such that it is the last column in the DataFrame\n",
        "\n",
        "fertility.columns = [col for col in fertility.columns if col != 'Output'] + ['Output']"
      ],
      "execution_count": 44,
      "outputs": []
    },
    {
      "cell_type": "code",
      "metadata": {
        "id": "i-anaeBLLwmB",
        "colab": {
          "base_uri": "https://localhost:8080/",
          "height": 206
        },
        "outputId": "9f080e53-427b-4fbd-a394-290fecb2bdeb"
      },
      "source": [
        "# Show the head of the DataFrame\n",
        "\n",
        "fertility.head()"
      ],
      "execution_count": 45,
      "outputs": [
        {
          "output_type": "execute_result",
          "data": {
            "text/plain": [
              "    Age  Diseases  Trauma  Surgery  Fever  Alcohol  Smoking  Sitting  \\\n",
              "0  0.67       1.0     0.0      1.0    0.0      0.6     -1.0     0.38   \n",
              "1  0.50       1.0     0.0      0.0    0.0      1.0     -1.0     0.50   \n",
              "2  0.69       1.0     0.0      1.0    0.0      0.8     -1.0     0.25   \n",
              "3  0.64       1.0     0.0      1.0    0.0      1.0      0.0     0.19   \n",
              "4  0.67       0.0     0.0      0.0   -1.0      0.8     -1.0     0.44   \n",
              "\n",
              "   Season_-1.0  Season_-0.33000001311302185  Season_0.33000001311302185  \\\n",
              "0          1.0                            0                           0   \n",
              "1          0.0                            0                           1   \n",
              "2          1.0                            0                           0   \n",
              "3          0.0                            1                           0   \n",
              "4          0.0                            0                           1   \n",
              "\n",
              "   Season_1.0  Output  \n",
              "0           0       1  \n",
              "1           0       0  \n",
              "2           0       1  \n",
              "3           0       0  \n",
              "4           0       0  "
            ],
            "text/html": "<div>\n<style scoped>\n    .dataframe tbody tr th:only-of-type {\n        vertical-align: middle;\n    }\n\n    .dataframe tbody tr th {\n        vertical-align: top;\n    }\n\n    .dataframe thead th {\n        text-align: right;\n    }\n</style>\n<table border=\"1\" class=\"dataframe\">\n  <thead>\n    <tr style=\"text-align: right;\">\n      <th></th>\n      <th>Age</th>\n      <th>Diseases</th>\n      <th>Trauma</th>\n      <th>Surgery</th>\n      <th>Fever</th>\n      <th>Alcohol</th>\n      <th>Smoking</th>\n      <th>Sitting</th>\n      <th>Season_-1.0</th>\n      <th>Season_-0.33000001311302185</th>\n      <th>Season_0.33000001311302185</th>\n      <th>Season_1.0</th>\n      <th>Output</th>\n    </tr>\n  </thead>\n  <tbody>\n    <tr>\n      <th>0</th>\n      <td>0.67</td>\n      <td>1.0</td>\n      <td>0.0</td>\n      <td>1.0</td>\n      <td>0.0</td>\n      <td>0.6</td>\n      <td>-1.0</td>\n      <td>0.38</td>\n      <td>1.0</td>\n      <td>0</td>\n      <td>0</td>\n      <td>0</td>\n      <td>1</td>\n    </tr>\n    <tr>\n      <th>1</th>\n      <td>0.50</td>\n      <td>1.0</td>\n      <td>0.0</td>\n      <td>0.0</td>\n      <td>0.0</td>\n      <td>1.0</td>\n      <td>-1.0</td>\n      <td>0.50</td>\n      <td>0.0</td>\n      <td>0</td>\n      <td>1</td>\n      <td>0</td>\n      <td>0</td>\n    </tr>\n    <tr>\n      <th>2</th>\n      <td>0.69</td>\n      <td>1.0</td>\n      <td>0.0</td>\n      <td>1.0</td>\n      <td>0.0</td>\n      <td>0.8</td>\n      <td>-1.0</td>\n      <td>0.25</td>\n      <td>1.0</td>\n      <td>0</td>\n      <td>0</td>\n      <td>0</td>\n      <td>1</td>\n    </tr>\n    <tr>\n      <th>3</th>\n      <td>0.64</td>\n      <td>1.0</td>\n      <td>0.0</td>\n      <td>1.0</td>\n      <td>0.0</td>\n      <td>1.0</td>\n      <td>0.0</td>\n      <td>0.19</td>\n      <td>0.0</td>\n      <td>1</td>\n      <td>0</td>\n      <td>0</td>\n      <td>0</td>\n    </tr>\n    <tr>\n      <th>4</th>\n      <td>0.67</td>\n      <td>0.0</td>\n      <td>0.0</td>\n      <td>0.0</td>\n      <td>-1.0</td>\n      <td>0.8</td>\n      <td>-1.0</td>\n      <td>0.44</td>\n      <td>0.0</td>\n      <td>0</td>\n      <td>1</td>\n      <td>0</td>\n      <td>0</td>\n    </tr>\n  </tbody>\n</table>\n</div>"
          },
          "metadata": {},
          "execution_count": 45
        }
      ]
    },
    {
      "cell_type": "code",
      "metadata": {
        "id": "OEyYKSueLwmD"
      },
      "source": [
        "# Convert the DataFrame to a numpy array.\n",
        "\n",
        "fertility = fertility.to_numpy()"
      ],
      "execution_count": 46,
      "outputs": []
    },
    {
      "cell_type": "markdown",
      "metadata": {
        "id": "1tPbAdRYLwmH"
      },
      "source": [
        "#### Split the Data"
      ]
    },
    {
      "cell_type": "code",
      "metadata": {
        "id": "o1qYU7lcLwmI"
      },
      "source": [
        "# Split the dataset into training and validation set\n",
        "\n",
        "training = fertility[0:70]\n",
        "validation = fertility[70:100]"
      ],
      "execution_count": 47,
      "outputs": []
    },
    {
      "cell_type": "code",
      "metadata": {
        "id": "XnwFqRrLLwmL",
        "colab": {
          "base_uri": "https://localhost:8080/"
        },
        "outputId": "f73fc4d3-ed6a-4522-fcd3-eb71223e4a01"
      },
      "source": [
        "# Verify the shape of the training data\n",
        "\n",
        "training.shape"
      ],
      "execution_count": 48,
      "outputs": [
        {
          "output_type": "execute_result",
          "data": {
            "text/plain": [
              "(70, 13)"
            ]
          },
          "metadata": {},
          "execution_count": 48
        }
      ]
    },
    {
      "cell_type": "code",
      "metadata": {
        "id": "JvCdYLU5LwmN"
      },
      "source": [
        "# Separate the features and labels for the validation and training data\n",
        "\n",
        "training_features = training[:,0:-1]\n",
        "training_labels = training[:,-1]\n",
        "validation_features = validation[:,0:-1]\n",
        "validation_labels = validation[:,-1]"
      ],
      "execution_count": 49,
      "outputs": []
    },
    {
      "cell_type": "markdown",
      "metadata": {
        "id": "YLOK8GMOLwmP"
      },
      "source": [
        "#### Create the Generator"
      ]
    },
    {
      "cell_type": "code",
      "metadata": {
        "id": "uINAoFn5LwmQ"
      },
      "source": [
        "# Create a function that returns a generator producing inputs and labels\n",
        "\n",
        "def get_generator(features, labels, batch_size=1):\n",
        "    for n in range(int(len(features)/batch_size)):\n",
        "        yield (features[n*batch_size: (n+1)*batch_size], labels[n*batch_size: (n+1)*batch_size])"
      ],
      "execution_count": 50,
      "outputs": []
    },
    {
      "cell_type": "code",
      "metadata": {
        "id": "W_zKx3oJLwmS"
      },
      "source": [
        "# Apply the function to our training features and labels with a batch size of 10\n",
        "\n",
        "train_generator = get_generator(training_features, training_labels, batch_size=10)"
      ],
      "execution_count": 51,
      "outputs": []
    },
    {
      "cell_type": "code",
      "metadata": {
        "id": "7Y3jCTRuLwmT",
        "colab": {
          "base_uri": "https://localhost:8080/"
        },
        "outputId": "a6659fe5-ed18-4f45-a9c9-e9962c222293"
      },
      "source": [
        "# Test the generator using the next() function\n",
        "\n",
        "next(train_generator)"
      ],
      "execution_count": 52,
      "outputs": [
        {
          "output_type": "execute_result",
          "data": {
            "text/plain": [
              "(array([[ 0.67,  1.  ,  0.  ,  1.  ,  0.  ,  0.6 , -1.  ,  0.38,  1.  ,\n",
              "          0.  ,  0.  ,  0.  ],\n",
              "        [ 0.5 ,  1.  ,  0.  ,  0.  ,  0.  ,  1.  , -1.  ,  0.5 ,  0.  ,\n",
              "          0.  ,  1.  ,  0.  ],\n",
              "        [ 0.69,  1.  ,  0.  ,  1.  ,  0.  ,  0.8 , -1.  ,  0.25,  1.  ,\n",
              "          0.  ,  0.  ,  0.  ],\n",
              "        [ 0.64,  1.  ,  0.  ,  1.  ,  0.  ,  1.  ,  0.  ,  0.19,  0.  ,\n",
              "          1.  ,  0.  ,  0.  ],\n",
              "        [ 0.67,  0.  ,  0.  ,  0.  , -1.  ,  0.8 , -1.  ,  0.44,  0.  ,\n",
              "          0.  ,  1.  ,  0.  ],\n",
              "        [ 0.78,  1.  ,  1.  ,  0.  ,  1.  ,  0.6 , -1.  ,  0.38,  0.  ,\n",
              "          1.  ,  0.  ,  0.  ],\n",
              "        [ 0.5 ,  1.  ,  0.  ,  0.  ,  1.  ,  0.8 , -1.  ,  0.44,  0.  ,\n",
              "          1.  ,  0.  ,  0.  ],\n",
              "        [ 0.92,  1.  ,  0.  ,  0.  ,  1.  ,  0.6 , -1.  ,  0.19,  0.  ,\n",
              "          0.  ,  1.  ,  0.  ],\n",
              "        [ 0.58,  1.  ,  0.  ,  1.  ,  0.  ,  0.8 ,  1.  ,  0.19,  0.  ,\n",
              "          0.  ,  1.  ,  0.  ],\n",
              "        [ 0.56,  0.  ,  0.  ,  0.  ,  1.  ,  0.8 ,  0.  ,  1.  ,  0.  ,\n",
              "          0.  ,  0.  ,  0.  ]], dtype=float32),\n",
              " array([1., 0., 1., 0., 0., 0., 0., 0., 0., 1.], dtype=float32))"
            ]
          },
          "metadata": {},
          "execution_count": 52
        }
      ]
    },
    {
      "cell_type": "markdown",
      "metadata": {
        "id": "KA-VnvRpLwmW"
      },
      "source": [
        "#### Build the model"
      ]
    },
    {
      "cell_type": "code",
      "metadata": {
        "id": "I5T3dXGZLwmW"
      },
      "source": [
        "\n",
        "# Create a model using Keras with 3 layers\n",
        "\n",
        "from tensorflow.keras import Model\n",
        "from tensorflow.keras.layers import Dense, Input, BatchNormalization\n",
        "\n",
        "input_shape = (12,)\n",
        "output_shape = (1,)\n",
        "\n",
        "model_input = Input(input_shape)\n",
        "batch_1 = BatchNormalization(momentum=0.8)(model_input)\n",
        "dense_1 = Dense(100, activation='relu')(batch_1)\n",
        "batch_2 = BatchNormalization(momentum=0.8)(dense_1)\n",
        "output = Dense(1, activation='sigmoid')(batch_2)\n",
        "\n",
        "model = Model([model_input], output)"
      ],
      "execution_count": 53,
      "outputs": []
    },
    {
      "cell_type": "code",
      "metadata": {
        "id": "xCBoGMMULwmY",
        "colab": {
          "base_uri": "https://localhost:8080/"
        },
        "outputId": "3c6554f4-9cf5-4f84-ac44-08958bf52b97"
      },
      "source": [
        "# Display the model summary to show the resultant structure\n",
        "\n",
        "model.summary()"
      ],
      "execution_count": 54,
      "outputs": [
        {
          "output_type": "stream",
          "name": "stdout",
          "text": [
            "Model: \"functional_1\"\n_________________________________________________________________\nLayer (type)                 Output Shape              Param #   \n=================================================================\ninput_1 (InputLayer)         [(None, 12)]              0         \n_________________________________________________________________\nbatch_normalization (BatchNo (None, 12)                48        \n_________________________________________________________________\ndense (Dense)                (None, 100)               1300      \n_________________________________________________________________\nbatch_normalization_1 (Batch (None, 100)               400       \n_________________________________________________________________\ndense_1 (Dense)              (None, 1)                 101       \n=================================================================\nTotal params: 1,849\nTrainable params: 1,625\nNon-trainable params: 224\n_________________________________________________________________\n"
          ]
        }
      ]
    },
    {
      "cell_type": "markdown",
      "metadata": {
        "id": "-djfT1vDLwma"
      },
      "source": [
        "#### Compile the model"
      ]
    },
    {
      "cell_type": "code",
      "metadata": {
        "id": "D_PyDixLLwma"
      },
      "source": [
        "# Create the optimizer object\n",
        "\n",
        "optimizer = tf.keras.optimizers.Adam(learning_rate=1e-2)"
      ],
      "execution_count": 55,
      "outputs": []
    },
    {
      "cell_type": "code",
      "metadata": {
        "id": "IZUjV3LpLwmc"
      },
      "source": [
        "# Compile the model with loss function and metric\n",
        "\n",
        "model.compile(optimizer=optimizer, loss='binary_crossentropy', metrics=['accuracy'])"
      ],
      "execution_count": 56,
      "outputs": []
    },
    {
      "cell_type": "markdown",
      "metadata": {
        "id": "wxB-r6_sLwmd"
      },
      "source": [
        "#### Train and evaluate the model using the generator"
      ]
    },
    {
      "cell_type": "code",
      "metadata": {
        "id": "zCmNFC0eLwmd"
      },
      "source": [
        "# Calculate the number of training steps per epoch for the given batch size.\n",
        "\n",
        "batch_size = 5\n",
        "train_steps = len(training) // batch_size"
      ],
      "execution_count": 57,
      "outputs": []
    },
    {
      "cell_type": "code",
      "metadata": {
        "id": "tCyaX46bLwmf"
      },
      "source": [
        "# Set the epochs to 3\n",
        "\n",
        "epochs = 3"
      ],
      "execution_count": 58,
      "outputs": []
    },
    {
      "cell_type": "code",
      "metadata": {
        "id": "9TKc7muJLwmg",
        "colab": {
          "base_uri": "https://localhost:8080/"
        },
        "outputId": "f10a727b-4620-463e-d129-e8fb096f4793"
      },
      "source": [
        "# Train the model\n",
        "\n",
        "for epoch in range(epochs):\n",
        "  train_generator = get_generator(training_features, training_labels, batch_size=batch_size) \n",
        "  validation_generator = get_generator(validation_features, validation_labels, batch_size=30)\n",
        "  model.fit_generator(train_generator, steps_per_epoch=train_steps, validation_data=validation_generator)"
      ],
      "execution_count": 59,
      "outputs": [
        {
          "output_type": "stream",
          "name": "stdout",
          "text": [
            "WARNING:tensorflow:From <ipython-input-59-c7e31efec0ce>:6: Model.fit_generator (from tensorflow.python.keras.engine.training) is deprecated and will be removed in a future version.\n",
            "Instructions for updating:\n",
            "Please use Model.fit, which supports generators.\n",
            "14/14 [==============================] - 0s 11ms/step - loss: 0.5408 - accuracy: 0.6571 - val_loss: 0.3071 - val_accuracy: 0.8667\n",
            "14/14 [==============================] - 0s 5ms/step - loss: 0.1151 - accuracy: 0.9714 - val_loss: 0.0509 - val_accuracy: 1.0000\n",
            "14/14 [==============================] - 0s 4ms/step - loss: 0.0336 - accuracy: 1.0000 - val_loss: 0.0226 - val_accuracy: 1.0000\n"
          ]
        }
      ]
    },
    {
      "cell_type": "code",
      "metadata": {
        "scrolled": true,
        "id": "5-6hh7BsLwmj"
      },
      "source": [
        "# Try to run the fit_generator function once more; observe what happens\n",
        "\n",
        "# model.fit_generator(train_generator, steps_per_epoch=train_steps)"
      ],
      "execution_count": 60,
      "outputs": []
    },
    {
      "cell_type": "markdown",
      "metadata": {
        "id": "eASEXb7uLwml"
      },
      "source": [
        "#### Make an infinitely looping generator"
      ]
    },
    {
      "cell_type": "code",
      "metadata": {
        "id": "oX2TZzl2Lwmm"
      },
      "source": [
        "# Create a function that returns an infinitely looping generator\n",
        "\n",
        "\n",
        "def get_generator_cyclic(features, labels, batch_size=1):\n",
        "  while True:\n",
        "    for n in range(int(len(features)/batch_size)):\n",
        "      yield (features[n*batch_size: (n+1)*batch_size], labels[n*batch_size: (n+1)*batch_size])\n",
        "    permuted = np.random.permutation(len(features))\n",
        "    features = features[permuted]\n",
        "    labels = labels[permuted]\n"
      ],
      "execution_count": 61,
      "outputs": []
    },
    {
      "cell_type": "code",
      "metadata": {
        "id": "WkZIx02TLwmo"
      },
      "source": [
        "# Create a generator using this function.\n",
        "\n",
        "train_generator_cyclic = get_generator_cyclic(training_features, training_labels, batch_size=batch_size)"
      ],
      "execution_count": 62,
      "outputs": []
    },
    {
      "cell_type": "code",
      "metadata": {
        "id": "rCXB7YBZLwmr"
      },
      "source": [
        "# Assert that the new cyclic generator does not raise a StopIteration\n",
        "\n",
        "for i in range(2*train_steps):\n",
        "    next(train_generator_cyclic)"
      ],
      "execution_count": 63,
      "outputs": []
    },
    {
      "cell_type": "code",
      "metadata": {
        "id": "FJXeBNFALwms"
      },
      "source": [
        "# Generate a cyclic validation generator\n",
        "\n",
        "validation_generator_cyclic = get_generator_cyclic(validation_features, validation_labels, batch_size=batch_size)"
      ],
      "execution_count": 64,
      "outputs": []
    },
    {
      "cell_type": "code",
      "metadata": {
        "scrolled": true,
        "id": "-ezRy60iLwmu",
        "colab": {
          "base_uri": "https://localhost:8080/"
        },
        "outputId": "eda4524d-8ba8-49d0-d6ad-2f7b1f3edb24"
      },
      "source": [
        "# Train the model\n",
        "\n",
        "model.fit_generator(train_generator_cyclic, steps_per_epoch=train_steps, validation_data=validation_generator_cyclic, validation_steps=1, epochs=3)"
      ],
      "execution_count": 65,
      "outputs": [
        {
          "output_type": "stream",
          "name": "stdout",
          "text": [
            "Epoch 1/3\n",
            "14/14 [==============================] - 0s 4ms/step - loss: 0.0905 - accuracy: 0.9857 - val_loss: 0.0012 - val_accuracy: 1.0000\n",
            "Epoch 2/3\n",
            "14/14 [==============================] - 0s 3ms/step - loss: 0.0267 - accuracy: 1.0000 - val_loss: 7.5923e-04 - val_accuracy: 1.0000\n",
            "Epoch 3/3\n",
            "14/14 [==============================] - 0s 4ms/step - loss: 0.0170 - accuracy: 1.0000 - val_loss: 0.0014 - val_accuracy: 1.0000\n"
          ]
        },
        {
          "output_type": "execute_result",
          "data": {
            "text/plain": [
              "<tensorflow.python.keras.callbacks.History at 0x7fe96aea4880>"
            ]
          },
          "metadata": {},
          "execution_count": 65
        }
      ]
    },
    {
      "cell_type": "markdown",
      "metadata": {
        "id": "CndbEe9-Lwmw"
      },
      "source": [
        "#### Evaluate the model and get predictions"
      ]
    },
    {
      "cell_type": "code",
      "metadata": {
        "id": "CAPuIgstLwmw"
      },
      "source": [
        "# Let's obtain a validation data generator.\n",
        "\n",
        "validation_generator = get_generator(validation_features, validation_labels, batch_size=30)"
      ],
      "execution_count": 66,
      "outputs": []
    },
    {
      "cell_type": "code",
      "metadata": {
        "id": "xs38y9RaLwmz",
        "colab": {
          "base_uri": "https://localhost:8080/"
        },
        "outputId": "445c6ec6-81ee-4096-ca81-66e9895b54f9"
      },
      "source": [
        "# Get predictions on the validation data\n",
        "\n",
        "predictions = model.predict_generator(validation_generator, steps=1)\n",
        "print(np.round(predictions.T[0]))"
      ],
      "execution_count": 67,
      "outputs": [
        {
          "output_type": "stream",
          "name": "stdout",
          "text": [
            "WARNING:tensorflow:From <ipython-input-67-e04c5607c16c>:3: Model.predict_generator (from tensorflow.python.keras.engine.training) is deprecated and will be removed in a future version.\n",
            "Instructions for updating:\n",
            "Please use Model.predict, which supports generators.\n",
            "[0. 1. 0. 1. 0. 1. 0. 0. 0. 0. 1. 0. 0. 0. 0. 0. 0. 0. 0. 0. 1. 0. 0. 0.\n",
            " 1. 0. 1. 1. 0. 1.]\n"
          ]
        }
      ]
    },
    {
      "cell_type": "code",
      "metadata": {
        "scrolled": true,
        "id": "4Ce17XxwLwm4",
        "colab": {
          "base_uri": "https://localhost:8080/"
        },
        "outputId": "637abb93-2f48-448f-ed26-2ce3505f8049"
      },
      "source": [
        "# Print the corresponding validation labels\n",
        "\n",
        "print(validation_labels)"
      ],
      "execution_count": 68,
      "outputs": [
        {
          "output_type": "stream",
          "name": "stdout",
          "text": [
            "[0. 1. 0. 1. 0. 1. 0. 0. 0. 0. 1. 0. 0. 0. 0. 0. 0. 0. 0. 0. 1. 0. 0. 0.\n 1. 0. 1. 1. 0. 1.]\n"
          ]
        }
      ]
    },
    {
      "cell_type": "code",
      "metadata": {
        "id": "nUUeWVS1Lwm6"
      },
      "source": [
        "# Obtain a validation data generator\n",
        "\n",
        "validation_generator = get_generator(validation_features, validation_labels, batch_size=30)"
      ],
      "execution_count": 69,
      "outputs": []
    },
    {
      "cell_type": "code",
      "metadata": {
        "id": "shBJD8w4Lwm7",
        "colab": {
          "base_uri": "https://localhost:8080/"
        },
        "outputId": "be95e2a9-5ada-4bec-cc10-c8ca2812fe7f"
      },
      "source": [
        "# Evaluate the model\n",
        "\n",
        "print(model.evaluate(validation_generator))"
      ],
      "execution_count": 70,
      "outputs": [
        {
          "output_type": "stream",
          "name": "stdout",
          "text": [
            "1/1 [==============================] - 0s 4ms/step - loss: 0.0017 - accuracy: 1.0000\n",
            "[0.0016887139063328505, 1.0]\n"
          ]
        }
      ]
    },
    {
      "cell_type": "markdown",
      "metadata": {
        "id": "SgEaDU0TLwm8"
      },
      "source": [
        "***\n",
        "<a id=\"coding_tutorial_3\"></a>\n",
        "## Keras image data augmentation"
      ]
    },
    {
      "cell_type": "markdown",
      "metadata": {
        "id": "fea1o5zdlS0p"
      },
      "source": [
        "#### Import the data\n",
        "\n",
        "The dataset required for this tutorial can be downloaded from the following link:\n",
        "\n",
        "https://drive.google.com/open?id=11Y43ta5gT672L3sfJFR2DvPs-ralY5Pd\n",
        "\n",
        "You should store these files in Drive for use in this Colab notebook."
      ]
    },
    {
      "cell_type": "code",
      "metadata": {
        "id": "1O8N9oUDrV_W"
      },
      "source": [
        "# from tensorflow.compat.v1 import ConfigProto\n",
        "# from tensorflow.compat.v1 import InteractiveSession\n",
        "\n",
        "# config = ConfigProto()\n",
        "# config.gpu_options.allow_growth = True\n",
        "# session = InteractiveSession(config=config)\n",
        "\n",
        "\n",
        "# import tensorflow as tf\n",
        "# print(tf.__version__)"
      ],
      "execution_count": 71,
      "outputs": []
    },
    {
      "cell_type": "code",
      "metadata": {
        "id": "xPDIjLB8lW6v"
      },
      "source": [
        "# Run this cell to connect to your Drive folder\n",
        "\n",
        "# from google.colab import drive\n",
        "# drive.mount('/content/gdrive')"
      ],
      "execution_count": 72,
      "outputs": []
    },
    {
      "cell_type": "code",
      "metadata": {
        "id": "jdw6c9W-Lwm8"
      },
      "source": [
        "import matplotlib.pyplot as plt\n",
        "import numpy as np"
      ],
      "execution_count": 73,
      "outputs": []
    },
    {
      "cell_type": "markdown",
      "metadata": {
        "id": "2PTkNo-uLwm-"
      },
      "source": [
        "#### Load the CIFAR-10 Dataset"
      ]
    },
    {
      "cell_type": "code",
      "metadata": {
        "id": "-174tvQULwm-"
      },
      "source": [
        "from tensorflow.keras.datasets import cifar10"
      ],
      "execution_count": 74,
      "outputs": []
    },
    {
      "cell_type": "code",
      "metadata": {
        "id": "P_ipqjVnLwnA",
        "colab": {
          "base_uri": "https://localhost:8080/"
        },
        "outputId": "46ebb968-9904-4442-c852-714fcfef2299"
      },
      "source": [
        "# Load the CIFAR-10 dataset\n",
        "\n",
        "(training_features, training_labels), (test_features, test_labels) = cifar10.load_data()"
      ],
      "execution_count": 75,
      "outputs": []
    },
    {
      "cell_type": "code",
      "metadata": {
        "id": "JH-q30M2LwnC"
      },
      "source": [
        "# Convert the labels to a one-hot encoding\n",
        "\n",
        "num_classes = 10\n",
        "\n",
        "training_labels = tf.keras.utils.to_categorical(training_labels, num_classes)\n",
        "test_labels = tf.keras.utils.to_categorical(test_labels, num_classes)"
      ],
      "execution_count": 76,
      "outputs": []
    },
    {
      "cell_type": "markdown",
      "metadata": {
        "id": "tyi9F1cRLwnF"
      },
      "source": [
        "#### Create a generator function"
      ]
    },
    {
      "cell_type": "code",
      "metadata": {
        "id": "RiTmYP9HLwnF"
      },
      "source": [
        "# Create a function that returns a data generator\n",
        "\n",
        "def get_generator(features, labels, batch_size=1):\n",
        "    for n in range(int(len(features)/batch_size)):\n",
        "        yield (features[n*batch_size:(n+1)*batch_size], labels[n*batch_size:(n+1)*batch_size])"
      ],
      "execution_count": null,
      "outputs": []
    },
    {
      "cell_type": "code",
      "metadata": {
        "id": "aXXF9JKNLwnI"
      },
      "source": [
        "# Use the function we created to get a training data generator with a batch size of 1\n",
        "\n",
        "training_generator = get_generator(training_features, training_labels)"
      ],
      "execution_count": null,
      "outputs": []
    },
    {
      "cell_type": "code",
      "metadata": {
        "id": "ZaflrvQYLwnL",
        "colab": {
          "base_uri": "https://localhost:8080/"
        },
        "outputId": "9ab61f99-6020-4b05-ac54-1c3528051bb6"
      },
      "source": [
        "# Assess the shape of the items generated by training_generator using the `next` function to yield an item.\n",
        "\n",
        "image, label = next(training_generator)\n",
        "print(image.shape)\n",
        "print(label.shape)"
      ],
      "execution_count": null,
      "outputs": []
    },
    {
      "cell_type": "code",
      "metadata": {
        "id": "VXS3YwfdLwnQ",
        "colab": {
          "base_uri": "https://localhost:8080/",
          "height": 283
        },
        "outputId": "67e62246-ab02-42f1-9c9a-284227ca7daa"
      },
      "source": [
        "# Test the training generator by obtaining an image using the `next` generator function, and then using imshow to plot it.\n",
        "# Print the corresponding label\n",
        "\n",
        "from matplotlib.pyplot import imshow\n",
        "\n",
        "image, label = next(training_generator)\n",
        "image_unbatched = image[0,:,:,:]\n",
        "imshow(image_unbatched)\n",
        "print(label)"
      ],
      "execution_count": null,
      "outputs": []
    },
    {
      "cell_type": "code",
      "metadata": {
        "id": "IRHQU5fyLwnS"
      },
      "source": [
        "# Reset the generator by re-running the `get_generator` function.\n",
        "\n",
        "train_generator = get_generator(training_features, training_labels)"
      ],
      "execution_count": null,
      "outputs": []
    },
    {
      "cell_type": "markdown",
      "metadata": {
        "id": "KUfxD0WHLwnU"
      },
      "source": [
        "#### Create a data augmention generator"
      ]
    },
    {
      "cell_type": "code",
      "metadata": {
        "id": "S209JxdNLwnU"
      },
      "source": [
        "from tensorflow.keras.preprocessing.image import ImageDataGenerator"
      ],
      "execution_count": null,
      "outputs": []
    },
    {
      "cell_type": "code",
      "metadata": {
        "id": "R80OSZxoLwnX"
      },
      "source": [
        "# Create a function to convert an image to monochrome\n",
        "\n",
        "def monochrome(x):\n",
        "    def func_bw(a):\n",
        "        average_colour = np.mean(a)\n",
        "        return [average_colour, average_colour, average_colour]\n",
        "    x = np.apply_along_axis(func_bw, -1, x)\n",
        "    return x"
      ],
      "execution_count": null,
      "outputs": []
    },
    {
      "cell_type": "code",
      "metadata": {
        "id": "3B_-LrD8LwnZ"
      },
      "source": [
        "# Create an ImageDataGenerator object\n",
        "\n",
        "image_generator = ImageDataGenerator(\n",
        "          preprocessing_function=monochrome,\n",
        "          rotation_range = 100,\n",
        "          rescale =(1/255.0)\n",
        ")"
      ],
      "execution_count": null,
      "outputs": []
    },
    {
      "cell_type": "markdown",
      "metadata": {
        "id": "wheasgOSLwna"
      },
      "source": [
        "Check [the documentation](https://keras.io/preprocessing/image/) for the full list of image data augmentation options. "
      ]
    },
    {
      "cell_type": "code",
      "metadata": {
        "id": "ElwkY6hzLwna"
      },
      "source": [
        "# Create an iterable generator using the `flow` function\n",
        "\n",
        "image_generator_iterable = image_generator.flow(training_features, training_labels, batch_size=1, shuffle= False)"
      ],
      "execution_count": null,
      "outputs": []
    },
    {
      "cell_type": "code",
      "metadata": {
        "scrolled": false,
        "id": "G_MojVrRLwnc",
        "colab": {
          "base_uri": "https://localhost:8080/",
          "height": 216
        },
        "outputId": "ea5e1b64-2402-4b1d-b323-08acdb194435"
      },
      "source": [
        "# Show a sample from the generator and compare with the original\n",
        "\n",
        "image, label = next(image_generator_iterable)\n",
        "image_orig, label_orig = next(train_generator)\n",
        "figs, axes = plt.subplots(1,2)\n",
        "axes[0].imshow(image[0,:,:,:])\n",
        "axes[0].set_title('Transformed')\n",
        "axes[1].imshow(image_orig[0,:,:,:])\n",
        "axes[1].set_title('Original')\n",
        "plt.show()"
      ],
      "execution_count": null,
      "outputs": []
    },
    {
      "cell_type": "markdown",
      "metadata": {
        "id": "8lDJvPvfLwnd"
      },
      "source": [
        "#### Flow from directory"
      ]
    },
    {
      "cell_type": "code",
      "metadata": {
        "id": "l0sOke4dLwne"
      },
      "source": [
        "# Inspect the directory structure\n",
        "\n",
        "train_path = '/content/gdrive/My Drive/Colab Notebooks/data/flowers-recognition-split/train'\n",
        "val_path = '/content/gdrive/My Drive/Colab Notebooks/data/flowers-recognition-split/val'"
      ],
      "execution_count": null,
      "outputs": []
    },
    {
      "cell_type": "code",
      "metadata": {
        "id": "nU_0lGLnLwnf"
      },
      "source": [
        "# Create an ImageDataGenerator object\n",
        "\n",
        "datagenerator = ImageDataGenerator(rescale=(1/255.0))"
      ],
      "execution_count": null,
      "outputs": []
    },
    {
      "cell_type": "code",
      "metadata": {
        "id": "rNSTFnZpLwng"
      },
      "source": [
        "classes = ['daisy', 'dandelion', 'rose', 'sunflower', 'tulip']"
      ],
      "execution_count": null,
      "outputs": []
    },
    {
      "cell_type": "code",
      "metadata": {
        "id": "DoSrRM2vLwni",
        "colab": {
          "base_uri": "https://localhost:8080/"
        },
        "outputId": "ada39cf2-067e-40d2-bae8-66d0c450a13e"
      },
      "source": [
        "# Create a training data generator\n",
        "\n",
        "train_generator = datagenerator.flow_from_directory(train_path, batch_size=64, classes=classes, target_size=(16,16))"
      ],
      "execution_count": null,
      "outputs": []
    },
    {
      "cell_type": "code",
      "metadata": {
        "id": "I4iABrtkLwnj",
        "colab": {
          "base_uri": "https://localhost:8080/"
        },
        "outputId": "5362fee6-0066-4bbe-a025-a032f765454f"
      },
      "source": [
        "# Create a validation data generator\n",
        "\n",
        "val_generator = datagenerator.flow_from_directory(val_path, batch_size=64, classes=classes, target_size=(16,16))"
      ],
      "execution_count": null,
      "outputs": []
    },
    {
      "cell_type": "code",
      "metadata": {
        "id": "xttbpzhiLwnn",
        "colab": {
          "base_uri": "https://localhost:8080/",
          "height": 282
        },
        "outputId": "82ca6636-1778-43e0-fbcc-979e7bc605b9"
      },
      "source": [
        "# Get and display an image and label from the training generator\n",
        "\n",
        "x = next(train_generator)\n",
        "imshow(x[0][4])\n",
        "print(x[1][4])"
      ],
      "execution_count": null,
      "outputs": []
    },
    {
      "cell_type": "code",
      "metadata": {
        "id": "eubMyZu7Lwnu",
        "colab": {
          "base_uri": "https://localhost:8080/"
        },
        "outputId": "18795432-a3e9-4994-88a4-c7aba2722088"
      },
      "source": [
        "# Reset the training generator\n",
        "\n",
        "train_generator = datagenerator.flow_from_directory(train_path, batch_size=64, classes=classes, target_size=(16,16))"
      ],
      "execution_count": null,
      "outputs": []
    },
    {
      "cell_type": "markdown",
      "metadata": {
        "id": "IuICkLdgLwnv"
      },
      "source": [
        "#### Create a model to train"
      ]
    },
    {
      "cell_type": "code",
      "metadata": {
        "scrolled": false,
        "id": "Vli6KboxLwnv"
      },
      "source": [
        "# Build a CNN model\n",
        "\n",
        "from tensorflow.keras.layers import Conv2D, MaxPooling2D, Input, Flatten, Dense\n",
        "\n",
        "model = tf.keras.Sequential()\n",
        "model.add(Input((16,16,3)))\n",
        "model.add(Conv2D(8, (8, 8), padding='same', activation='relu'))\n",
        "model.add(MaxPooling2D((4,4)))\n",
        "model.add(Conv2D(8, (8, 8), padding='same', activation='relu'))\n",
        "model.add(MaxPooling2D((2,2)))\n",
        "model.add(Conv2D(4, (4, 4), padding='same', activation='relu'))\n",
        "model.add(Flatten())\n",
        "model.add(Dense(16, activation='relu'))\n",
        "model.add(Dense(8, activation='relu'))\n",
        "model.add(Dense(5, activation='softmax'))"
      ],
      "execution_count": null,
      "outputs": []
    },
    {
      "cell_type": "code",
      "metadata": {
        "id": "1EpyPWDtLwnw"
      },
      "source": [
        "# Create an optimizer object\n",
        "\n",
        "optimizer = tf.keras.optimizers.Adam(1e-3)"
      ],
      "execution_count": null,
      "outputs": []
    },
    {
      "cell_type": "code",
      "metadata": {
        "id": "KkzxS4w8Lwny"
      },
      "source": [
        "# Compile the model\n",
        "\n",
        "model.compile(optimizer=optimizer, loss='categorical_crossentropy', metrics=['accuracy'])"
      ],
      "execution_count": null,
      "outputs": []
    },
    {
      "cell_type": "code",
      "metadata": {
        "id": "KRFuAO0dLwnz",
        "colab": {
          "base_uri": "https://localhost:8080/"
        },
        "outputId": "3a67723d-d991-46bf-a127-b6fb0407e4c5"
      },
      "source": [
        "# Print the model summary\n",
        "\n",
        "model.summary()"
      ],
      "execution_count": null,
      "outputs": []
    },
    {
      "cell_type": "markdown",
      "metadata": {
        "id": "EdlrTTxkLwn1"
      },
      "source": [
        "#### Train the model"
      ]
    },
    {
      "cell_type": "code",
      "metadata": {
        "id": "8cXhw2VhLwn1",
        "colab": {
          "base_uri": "https://localhost:8080/"
        },
        "outputId": "116a69c6-d4a1-4bca-9190-b2634222b743"
      },
      "source": [
        "# Calculate the training generator and test generator steps per epoch\n",
        "\n",
        "train_steps_per_epoch = train_generator.n // train_generator.batch_size\n",
        "val_steps = val_generator.n // val_generator.batch_size\n",
        "print(train_steps_per_epoch, val_steps)"
      ],
      "execution_count": null,
      "outputs": []
    },
    {
      "cell_type": "code",
      "metadata": {
        "id": "Q3daJBkILwn4",
        "colab": {
          "base_uri": "https://localhost:8080/"
        },
        "outputId": "f6d92e19-dde7-45a1-f98a-f1ffc3794d93"
      },
      "source": [
        "# Fit the model\n",
        "\n",
        "model.fit_generator(train_generator, steps_per_epoch=train_steps_per_epoch, epochs=5)"
      ],
      "execution_count": null,
      "outputs": []
    },
    {
      "cell_type": "markdown",
      "metadata": {
        "id": "LoxWasQKLwn5"
      },
      "source": [
        "#### Evaluate the model"
      ]
    },
    {
      "cell_type": "code",
      "metadata": {
        "id": "-85jqQXiLwn6",
        "colab": {
          "base_uri": "https://localhost:8080/"
        },
        "outputId": "61c621fb-8b03-4901-b8d5-04badfd46180"
      },
      "source": [
        "# Evaluate the model\n",
        "\n",
        "model.evaluate_generator(val_generator, steps=val_steps)"
      ],
      "execution_count": null,
      "outputs": []
    },
    {
      "cell_type": "markdown",
      "metadata": {
        "id": "zS5yD7TaLwn7"
      },
      "source": [
        "#### Predict using the generator"
      ]
    },
    {
      "cell_type": "code",
      "metadata": {
        "id": "Rz3CsLtgLwn8"
      },
      "source": [
        "# Predict labels with the model\n",
        "\n",
        "predictions = model.predict_generator(val_generator, steps=1)"
      ],
      "execution_count": null,
      "outputs": []
    },
    {
      "cell_type": "markdown",
      "metadata": {
        "id": "JW1KSTrfLwn_"
      },
      "source": [
        "***\n",
        "<a id=\"coding_tutorial_4\"></a>\n",
        "## The Dataset Class"
      ]
    },
    {
      "cell_type": "markdown",
      "metadata": {
        "id": "sB1fIrr8lmUb"
      },
      "source": [
        "#### Import the data\n",
        "\n",
        "The dataset required for this tutorial can be downloaded from the following link:\n",
        "\n",
        "https://drive.google.com/open?id=1BAjGPFlpqsDdWof50Ng3Fmju5O8F1_uZ\n",
        "\n",
        "You should store these files in Drive for use in this Colab notebook."
      ]
    },
    {
      "cell_type": "code",
      "metadata": {
        "id": "xfnXkSB3lmek"
      },
      "source": [
        "# Run this cell to connect to your Drive folder\n",
        "\n",
        "# from google.colab import drive\n",
        "# drive.mount('/content/gdrive')"
      ],
      "execution_count": null,
      "outputs": []
    },
    {
      "cell_type": "code",
      "metadata": {
        "id": "PnL89e5OrV_Y"
      },
      "source": [
        "# from tensorflow.compat.v1 import ConfigProto\n",
        "# from tensorflow.compat.v1 import InteractiveSession\n",
        "\n",
        "# config = ConfigProto()\n",
        "# config.gpu_options.allow_growth = True\n",
        "# session = InteractiveSession(config=config)\n",
        "\n",
        "\n",
        "# import tensorflow as tf\n",
        "# print(tf.__version__)"
      ],
      "execution_count": null,
      "outputs": []
    },
    {
      "cell_type": "code",
      "metadata": {
        "id": "_xONz3oFLwn_"
      },
      "source": [
        "import matplotlib.pyplot as plt\n",
        "import numpy as np\n",
        "import os\n",
        "import tensorflow as tf\n"
      ],
      "execution_count": null,
      "outputs": []
    },
    {
      "cell_type": "markdown",
      "metadata": {
        "id": "vqqV3Ox9LwoA"
      },
      "source": [
        "#### Create a simple dataset"
      ]
    },
    {
      "cell_type": "code",
      "metadata": {
        "id": "p7i5Nkm6LwoA"
      },
      "source": [
        "x = np.zeros((100,10,2,2))"
      ],
      "execution_count": null,
      "outputs": []
    },
    {
      "cell_type": "code",
      "metadata": {
        "id": "VRIbPGW0LwoC"
      },
      "source": [
        "# Create a dataset from the tensor x\n",
        "\n",
        "dataset1 = tf.data.Dataset.from_tensor_slices(x)"
      ],
      "execution_count": null,
      "outputs": []
    },
    {
      "cell_type": "code",
      "metadata": {
        "id": "CPIBuRAPLwoE",
        "colab": {
          "base_uri": "https://localhost:8080/"
        },
        "outputId": "f02ac9ff-1d00-4528-8278-8d9f1dfb6c40"
      },
      "source": [
        "# Inspect the Dataset object\n",
        "\n",
        "print(dataset1)\n",
        "print(dataset1.element_spec)"
      ],
      "execution_count": null,
      "outputs": []
    },
    {
      "cell_type": "code",
      "metadata": {
        "id": "cwXTdMGYLwoF"
      },
      "source": [
        "x2 = [np.zeros((10,2,2)), np.zeros((5,2,2))]"
      ],
      "execution_count": null,
      "outputs": []
    },
    {
      "cell_type": "code",
      "metadata": {
        "id": "u33v-mOtLwoG",
        "colab": {
          "base_uri": "https://localhost:8080/",
          "height": 348
        },
        "outputId": "438ad910-b968-4cbd-848a-19debde0ae9d"
      },
      "source": [
        "# Try creating a dataset from the tensor x2\n",
        "# It will throw an error\n",
        "dataset2 = tf.data.Dataset.from_tensor_slices(x2)"
      ],
      "execution_count": null,
      "outputs": []
    },
    {
      "cell_type": "code",
      "metadata": {
        "id": "VlwcxydiLwoH"
      },
      "source": [
        "x2 = [np.zeros((10,1)), np.zeros((10,1)), np.zeros((10,1))]"
      ],
      "execution_count": null,
      "outputs": []
    },
    {
      "cell_type": "code",
      "metadata": {
        "id": "MWA_WwA9LwoI"
      },
      "source": [
        "# Create another dataset from the new x2 and inspect the Dataset object\n",
        "\n",
        "dataset2 = tf.data.Dataset.from_tensor_slices(x2)"
      ],
      "execution_count": null,
      "outputs": []
    },
    {
      "cell_type": "code",
      "metadata": {
        "id": "RaAx8T-8LwoK",
        "colab": {
          "base_uri": "https://localhost:8080/"
        },
        "outputId": "bd338a94-6536-4a8c-8a78-4fa41507eb78"
      },
      "source": [
        "# Print the element_spec\n",
        "\n",
        "print(dataset2.element_spec)"
      ],
      "execution_count": null,
      "outputs": []
    },
    {
      "cell_type": "markdown",
      "metadata": {
        "id": "5d8X74-yLwoL"
      },
      "source": [
        "#### Create a zipped dataset"
      ]
    },
    {
      "cell_type": "code",
      "metadata": {
        "id": "pll2VDVALwoM"
      },
      "source": [
        "# Combine the two datasets into one larger dataset\n",
        "\n",
        "dataset_zipped = tf.data.Dataset.zip((dataset1, dataset2))"
      ],
      "execution_count": null,
      "outputs": []
    },
    {
      "cell_type": "code",
      "metadata": {
        "id": "YFMyovAFLwoO",
        "colab": {
          "base_uri": "https://localhost:8080/"
        },
        "outputId": "11920919-ddfa-4194-ac0f-9b7ed4313173"
      },
      "source": [
        "# Print the element_spec\n",
        "\n",
        "print(dataset_zipped.element_spec)"
      ],
      "execution_count": null,
      "outputs": []
    },
    {
      "cell_type": "code",
      "metadata": {
        "id": "AKlzGVR-LwoQ"
      },
      "source": [
        "# Define a function to find the number of batches in a dataset\n",
        "\n",
        "def get_batches(dataset):\n",
        "    iter_dataset = iter(dataset)\n",
        "    i = 0\n",
        "    try:\n",
        "        while next(iter_dataset):\n",
        "            i = i+1\n",
        "    except:\n",
        "        return i"
      ],
      "execution_count": null,
      "outputs": []
    },
    {
      "cell_type": "code",
      "metadata": {
        "id": "7pN5h3VbLwoS",
        "colab": {
          "base_uri": "https://localhost:8080/"
        },
        "outputId": "8204ad07-04ff-46d9-c028-86cef1818f5d"
      },
      "source": [
        "# Find the number of batches in the zipped Dataset\n",
        "\n",
        "get_batches(dataset_zipped)"
      ],
      "execution_count": null,
      "outputs": []
    },
    {
      "cell_type": "markdown",
      "metadata": {
        "id": "agL_w4bhLwoU"
      },
      "source": [
        "#### Create a dataset from numpy arrays"
      ]
    },
    {
      "cell_type": "code",
      "metadata": {
        "id": "u8BG27uVLwoU",
        "colab": {
          "base_uri": "https://localhost:8080/"
        },
        "outputId": "cd115f3f-b179-44b6-ae48-64a51bbee18f"
      },
      "source": [
        "# Load the MNIST dataset\n",
        "\n",
        "(train_features, train_labels), (test_features, test_labels) = tf.keras.datasets.mnist.load_data()\n",
        "\n",
        "print(type(train_features), type(train_labels))"
      ],
      "execution_count": null,
      "outputs": []
    },
    {
      "cell_type": "code",
      "metadata": {
        "id": "n9z_XKC5LwoX"
      },
      "source": [
        "# Create a Dataset from the MNIST data\n",
        "\n",
        "mnist_dataset = tf.data.Dataset.from_tensor_slices((train_features, train_labels))"
      ],
      "execution_count": null,
      "outputs": []
    },
    {
      "cell_type": "code",
      "metadata": {
        "id": "X2huRDyELwob",
        "colab": {
          "base_uri": "https://localhost:8080/"
        },
        "outputId": "8798bbd1-0de3-4d51-d7fa-55f223df7410"
      },
      "source": [
        "# Inspect the Dataset object\n",
        "\n",
        "print(mnist_dataset.element_spec)"
      ],
      "execution_count": null,
      "outputs": []
    },
    {
      "cell_type": "code",
      "metadata": {
        "id": "fYy7jUxxLwog",
        "colab": {
          "base_uri": "https://localhost:8080/"
        },
        "outputId": "82230d26-154b-4950-e25a-b5ad6c9ef77a"
      },
      "source": [
        "# Inspect the length of an element using the take method\n",
        "\n",
        "element = next(iter(mnist_dataset.take(1)))\n",
        "print(len(element))"
      ],
      "execution_count": null,
      "outputs": []
    },
    {
      "cell_type": "code",
      "metadata": {
        "id": "vmU3DT_0Lwok",
        "colab": {
          "base_uri": "https://localhost:8080/"
        },
        "outputId": "2b41f473-967b-4d3a-8836-15706ba4f5fa"
      },
      "source": [
        "# Examine the shapes of the data\n",
        "\n",
        "print(element[0].shape)\n",
        "print(element[1].shape)"
      ],
      "execution_count": null,
      "outputs": []
    },
    {
      "cell_type": "markdown",
      "metadata": {
        "id": "EgdUwwomLwom"
      },
      "source": [
        "#### Create a dataset from text data"
      ]
    },
    {
      "cell_type": "code",
      "metadata": {
        "id": "zc2ox0fXLwon",
        "colab": {
          "base_uri": "https://localhost:8080/"
        },
        "outputId": "2e09e6a7-c921-443d-f8b1-efd76b4072ce"
      },
      "source": [
        "# Print the list of text files\n",
        "\n",
        "text_files = sorted([f.path for f in os.scandir('/content/gdrive/My Drive/Colab Notebooks/data/shakespeare')])\n",
        "\n",
        "print(text_files)"
      ],
      "execution_count": null,
      "outputs": []
    },
    {
      "cell_type": "code",
      "metadata": {
        "id": "K91kV97kLwoo",
        "colab": {
          "base_uri": "https://localhost:8080/"
        },
        "outputId": "63ecbe90-6f7f-42ad-a279-0c08f0dbdf81"
      },
      "source": [
        "# Load the first file using python and print the first 5 lines.\n",
        "\n",
        "with open(text_files[0], 'r') as fil:\n",
        "    contents = [fil.readline() for i in range(5)]\n",
        "    for line in contents:\n",
        "        print(line)"
      ],
      "execution_count": null,
      "outputs": []
    },
    {
      "cell_type": "code",
      "metadata": {
        "id": "5MMqVhxNLwop"
      },
      "source": [
        "# Load the lines from the files into a dataset using TextLineDataset\n",
        "\n",
        "shakespeare_dataset = tf.data.TextLineDataset(text_files)"
      ],
      "execution_count": null,
      "outputs": []
    },
    {
      "cell_type": "code",
      "metadata": {
        "id": "sEM2up5CLwoq",
        "colab": {
          "base_uri": "https://localhost:8080/"
        },
        "outputId": "daf79ca4-4a92-4156-c0ef-30267351d112"
      },
      "source": [
        "# Use the take method to get and print the first 5 lines of the dataset\n",
        "\n",
        "first_5_lines_dataset = iter(shakespeare_dataset.take(5))\n",
        "lines = [line for line in first_5_lines_dataset]\n",
        "for line in lines:\n",
        "    print(line)"
      ],
      "execution_count": null,
      "outputs": []
    },
    {
      "cell_type": "code",
      "metadata": {
        "id": "t06mXu1oLwor",
        "colab": {
          "base_uri": "https://localhost:8080/"
        },
        "outputId": "30add499-2aca-4fa6-8bdf-05f38a2b6a8a"
      },
      "source": [
        "# Compute the number of lines in the first file\n",
        "\n",
        "lines = []\n",
        "with open(text_files[0], 'r') as fil:\n",
        "    line = fil.readline()\n",
        "    while line:\n",
        "        lines.append(line)\n",
        "        line = fil.readline()\n",
        "    print(len(lines))"
      ],
      "execution_count": null,
      "outputs": []
    },
    {
      "cell_type": "code",
      "metadata": {
        "id": "GS3TysHqLwot",
        "colab": {
          "base_uri": "https://localhost:8080/"
        },
        "outputId": "6201b5e0-04b9-44cc-a8fd-3eb9b93fac13"
      },
      "source": [
        "# Compute the number of lines in the shakespeare dataset we created\n",
        "\n",
        "shakespeare_dataset_iterator = iter(shakespeare_dataset)\n",
        "lines = [line for line in shakespeare_dataset_iterator]\n",
        "print(len(lines))"
      ],
      "execution_count": null,
      "outputs": []
    },
    {
      "cell_type": "markdown",
      "metadata": {
        "id": "FJWNhXxMLwov"
      },
      "source": [
        "#### Interleave lines from the text data files"
      ]
    },
    {
      "cell_type": "code",
      "metadata": {
        "scrolled": true,
        "id": "n7ukqFrcLwov",
        "colab": {
          "base_uri": "https://localhost:8080/"
        },
        "outputId": "b2740083-47f0-405d-d589-114c10494455"
      },
      "source": [
        "# Create a dataset of the text file strings\n",
        "\n",
        "text_files_dataset = tf.data.Dataset.from_tensor_slices(text_files)\n",
        "files = [file for file in text_files_dataset]\n",
        "for file in files:\n",
        "    print(file)"
      ],
      "execution_count": null,
      "outputs": []
    },
    {
      "cell_type": "code",
      "metadata": {
        "id": "UGgRFvR_Lwox",
        "colab": {
          "base_uri": "https://localhost:8080/"
        },
        "outputId": "d434d8cf-c5cb-4b2c-fad3-73132b46e456"
      },
      "source": [
        "# Interleave the lines from the text files\n",
        "\n",
        "interleaved_shakespeare_dataset = text_files_dataset.interleave(tf.data.TextLineDataset, cycle_length=9)\n",
        "print(interleaved_shakespeare_dataset.element_spec)"
      ],
      "execution_count": null,
      "outputs": []
    },
    {
      "cell_type": "code",
      "metadata": {
        "id": "x88YAMsuLwoz",
        "colab": {
          "base_uri": "https://localhost:8080/"
        },
        "outputId": "abcbbfe8-26b5-4b14-a98e-83032f28c061"
      },
      "source": [
        "# Print the first 10 elements of the interleaved dataset\n",
        "\n",
        "lines = [line for line in iter(interleaved_shakespeare_dataset.take(10))]\n",
        "for line in lines:\n",
        "    print(line)"
      ],
      "execution_count": null,
      "outputs": []
    },
    {
      "cell_type": "markdown",
      "metadata": {
        "id": "3Px88RXmLwo0"
      },
      "source": [
        "***\n",
        "<a id=\"coding_tutorial_5\"></a>\n",
        "## Training with Datasets"
      ]
    },
    {
      "cell_type": "code",
      "metadata": {
        "id": "zcYG9ZhprV_a"
      },
      "source": [
        "# from tensorflow.compat.v1 import ConfigProto\n",
        "# from tensorflow.compat.v1 import InteractiveSession\n",
        "\n",
        "# config = ConfigProto()\n",
        "# config.gpu_options.allow_growth = True\n",
        "# session = InteractiveSession(config=config)\n",
        "\n",
        "\n",
        "# import tensorflow as tf\n",
        "# print(tf.__version__)\n"
      ],
      "execution_count": null,
      "outputs": []
    },
    {
      "cell_type": "code",
      "metadata": {
        "id": "TfCscLFLLwo1"
      },
      "source": [
        "import matplotlib.pyplot as plt\n",
        "import numpy as np\n",
        "import os\n",
        "import pandas as pd\n",
        "import tensorflow as tf"
      ],
      "execution_count": null,
      "outputs": []
    },
    {
      "cell_type": "markdown",
      "metadata": {
        "id": "hEq4s3oHLwo3"
      },
      "source": [
        "#### Load the UCI Bank Marketing Dataset"
      ]
    },
    {
      "cell_type": "markdown",
      "metadata": {
        "id": "NukSa_ESmgRg"
      },
      "source": [
        "#### Import the data\n",
        "\n",
        "The dataset required for this tutorial can be downloaded from the following link:\n",
        "\n",
        "https://drive.google.com/open?id=1cNtP4iDyGhF620ZbmJdmJWYQrRgJTCum\n",
        "\n",
        "You should store these files in Drive for use in this Colab notebook."
      ]
    },
    {
      "cell_type": "code",
      "metadata": {
        "id": "1TD43V9imgeD"
      },
      "source": [
        "# Run this cell to connect to your Drive folder\n",
        "\n",
        "# from google.colab import drive\n",
        "# drive.mount('/content/gdrive')"
      ],
      "execution_count": null,
      "outputs": []
    },
    {
      "cell_type": "code",
      "metadata": {
        "id": "8mWVTUMGLwo4"
      },
      "source": [
        "# Load the CSV file into a pandas DataFrame\n",
        "\n",
        "bank_dataframe = pd.read_csv('/content/gdrive/My Drive/Colab Notebooks/data/bank/bank-full.csv', delimiter=';')"
      ],
      "execution_count": null,
      "outputs": []
    },
    {
      "cell_type": "code",
      "metadata": {
        "scrolled": true,
        "id": "yhXvshyRLwo6",
        "colab": {
          "base_uri": "https://localhost:8080/",
          "height": 206
        },
        "outputId": "baa89aa5-5ff8-43d2-8b83-f085071830b7"
      },
      "source": [
        "# Show the head of the DataFrame\n",
        "\n",
        "bank_dataframe.head()"
      ],
      "execution_count": null,
      "outputs": []
    },
    {
      "cell_type": "code",
      "metadata": {
        "id": "wTEQWdkfLwo9",
        "colab": {
          "base_uri": "https://localhost:8080/"
        },
        "outputId": "6a891f88-4787-4de9-960b-acd43a7f455d"
      },
      "source": [
        "# Print the shape of the DataFrame\n",
        "\n",
        "print(bank_dataframe.shape)"
      ],
      "execution_count": null,
      "outputs": []
    },
    {
      "cell_type": "code",
      "metadata": {
        "id": "M8ORhBIMLwo_"
      },
      "source": [
        "# Select features from the DataFrame\n",
        "\n",
        "features = ['age', 'job', 'marital', 'education', 'default', 'balance', 'housing',\n",
        "            'loan', 'contact', 'campaign', 'pdays', 'poutcome']\n",
        "labels = ['y']\n",
        "\n",
        "bank_dataframe = bank_dataframe.filter(features + labels)"
      ],
      "execution_count": null,
      "outputs": []
    },
    {
      "cell_type": "code",
      "metadata": {
        "scrolled": true,
        "id": "OvhQZha0LwpA",
        "colab": {
          "base_uri": "https://localhost:8080/",
          "height": 206
        },
        "outputId": "f7749e1b-1ad1-48eb-b63a-fcbda8b14757"
      },
      "source": [
        "# Show the head of the DataFrame\n",
        "\n",
        "bank_dataframe.head()"
      ],
      "execution_count": null,
      "outputs": []
    },
    {
      "cell_type": "markdown",
      "metadata": {
        "id": "WDGZ4VF-LwpC"
      },
      "source": [
        "#### Preprocess the data"
      ]
    },
    {
      "cell_type": "code",
      "metadata": {
        "id": "l5OJBhpHLwpC"
      },
      "source": [
        "# Convert the categorical features in the DataFrame to one-hot encodings\n",
        "\n",
        "from sklearn.preprocessing import LabelBinarizer\n",
        "\n",
        "encoder = LabelBinarizer()\n",
        "categorical_features = ['default', 'housing', 'job', 'loan', 'education', 'contact', 'poutcome']\n",
        "\n",
        "for feature in categorical_features:\n",
        "    bank_dataframe[feature] = tuple(encoder.fit_transform(bank_dataframe[feature]))"
      ],
      "execution_count": null,
      "outputs": []
    },
    {
      "cell_type": "code",
      "metadata": {
        "scrolled": true,
        "id": "_H29rfTRLwpD",
        "colab": {
          "base_uri": "https://localhost:8080/",
          "height": 206
        },
        "outputId": "d084ace2-71e0-4071-96ad-c9d9e0cddcd1"
      },
      "source": [
        "# Show the head of the DataFrame\n",
        "\n",
        "bank_dataframe.head()"
      ],
      "execution_count": null,
      "outputs": []
    },
    {
      "cell_type": "code",
      "metadata": {
        "id": "HzA8Yfl7LwpE",
        "colab": {
          "base_uri": "https://localhost:8080/",
          "height": 202
        },
        "outputId": "01e65f9d-533a-4aae-c0fd-dfd69a6c1823"
      },
      "source": [
        "# Shuffle the DataFrame\n",
        "\n",
        "bank_dataframe = dataframe.sample(frac=1).reset_index(drop=True)\n"
      ],
      "execution_count": null,
      "outputs": []
    },
    {
      "cell_type": "markdown",
      "metadata": {
        "id": "PDCxC62VLwpF"
      },
      "source": [
        "#### Create the Dataset object"
      ]
    },
    {
      "cell_type": "code",
      "metadata": {
        "id": "58t232NWLwpF",
        "colab": {
          "base_uri": "https://localhost:8080/",
          "height": 202
        },
        "outputId": "d3ef8758-b1a7-480d-cd09-eaea2e99d13a"
      },
      "source": [
        "# Convert the DataFrame to a Dataset\n",
        "\n",
        "bank_dataset = tf.data.Dataset.from_tensor_slices(dict(dataframe))"
      ],
      "execution_count": null,
      "outputs": []
    },
    {
      "cell_type": "code",
      "metadata": {
        "id": "wIam8gBSLwpH"
      },
      "source": [
        "# Inspect the Dataset object\n",
        "\n",
        "bank_dataset.element_spec"
      ],
      "execution_count": null,
      "outputs": []
    },
    {
      "cell_type": "markdown",
      "metadata": {
        "id": "B0IxwSLpLwpN"
      },
      "source": [
        "#### Filter the Dataset"
      ]
    },
    {
      "cell_type": "code",
      "metadata": {
        "id": "s0m_HNo6LwpO"
      },
      "source": [
        "# First check that there are records in the dataset for non-married individuals\n",
        "\n",
        "def check_divorced():\n",
        "    bank_dataset_iterable = iter(bank_dataset)\n",
        "    for x in bank_dataset_iterable:\n",
        "        if x['marital'] != 'divorced':\n",
        "            print('Found a person with marital status: {}'.format(x['marital']))\n",
        "            return\n",
        "    print('No non-divorced people were found!')\n",
        "\n",
        "check_divorced()"
      ],
      "execution_count": null,
      "outputs": []
    },
    {
      "cell_type": "code",
      "metadata": {
        "id": "1dpKPS8vLwpP"
      },
      "source": [
        "# Filter the Dataset to retain only entries with a 'divorced' marital status\n",
        "\n",
        "bank_dataset = bank_dataset.filter(lambda x : tf.equal(x['marital'], tf.constant([b'divorced']))[0] )"
      ],
      "execution_count": null,
      "outputs": []
    },
    {
      "cell_type": "code",
      "metadata": {
        "id": "xDqnULCjLwpR"
      },
      "source": [
        "# Check the records in the dataset again\n",
        "\n",
        "check_divorced()"
      ],
      "execution_count": null,
      "outputs": []
    },
    {
      "cell_type": "markdown",
      "metadata": {
        "id": "8Ljy2Ro9LwpS"
      },
      "source": [
        "#### Map a function over the dataset"
      ]
    },
    {
      "cell_type": "code",
      "metadata": {
        "id": "qakJuUiNLwpS"
      },
      "source": [
        "# Convert the label ('y') to an integer instead of 'yes' or 'no'\n",
        "\n",
        "def map_label(x):\n",
        "    x['y'] = 0 if (x[\"y\"] == tf.constant([b\"no\"], dtype = tf.string)) else 1\n",
        "    return x\n",
        "\n",
        "bank_dataset = bank_dataset.map(map_label)\n"
      ],
      "execution_count": null,
      "outputs": []
    },
    {
      "cell_type": "code",
      "metadata": {
        "id": "W1YcLNq7LwpT"
      },
      "source": [
        "# Inspect the Dataset object\n",
        "\n",
        "bank_dataset.element_spec"
      ],
      "execution_count": null,
      "outputs": []
    },
    {
      "cell_type": "code",
      "metadata": {
        "id": "6bSkBnzlLwpV"
      },
      "source": [
        "# Remove the 'marital' column\n",
        "\n",
        "bank_dataset = bank_dataset.map(lambda x : {key:val for key , val in x.items() if  key != \"martial\"})"
      ],
      "execution_count": null,
      "outputs": []
    },
    {
      "cell_type": "code",
      "metadata": {
        "id": "_lK3OmJ4LwpW"
      },
      "source": [
        "# Inspect the Dataset object\n",
        "\n",
        "bank_dataset.element_spec"
      ],
      "execution_count": null,
      "outputs": []
    },
    {
      "cell_type": "markdown",
      "metadata": {
        "id": "5z_etyCZLwpZ"
      },
      "source": [
        "#### Create input and output data tuples"
      ]
    },
    {
      "cell_type": "code",
      "metadata": {
        "id": "6PStTjmKLwpZ"
      },
      "source": [
        "# Create an input and output tuple for the dataset\n",
        "\n",
        "def map_feature_label(x):\n",
        "    features = [[x['age']], [x['balance']], [x['campaign']], x['contact'], x['default'],\n",
        "                x['education'], x['housing'], x['job'], x['loan'], [x['pdays']], x['poutcome']]\n",
        "    return (tf.concat(features, axis=0), x['y'])"
      ],
      "execution_count": null,
      "outputs": []
    },
    {
      "cell_type": "code",
      "metadata": {
        "scrolled": true,
        "id": "pKehf3i-Lwpc"
      },
      "source": [
        "# Map this function over the dataset\n",
        "\n",
        "bank_dataset = bank_dataset.Map(map_feature_label)"
      ],
      "execution_count": null,
      "outputs": []
    },
    {
      "cell_type": "code",
      "metadata": {
        "id": "yet0K8SjLwpd"
      },
      "source": [
        "# Inspect the Dataset object\n",
        "\n",
        "bank_dataset.element_spec"
      ],
      "execution_count": null,
      "outputs": []
    },
    {
      "cell_type": "markdown",
      "metadata": {
        "id": "H7rFrXSkLwpf"
      },
      "source": [
        "#### Split into a training and a validation set"
      ]
    },
    {
      "cell_type": "code",
      "metadata": {
        "id": "u16htz4qLwpg"
      },
      "source": [
        "# Determine the length of the Dataset\n",
        "\n",
        "dataset_length = 0\n",
        "for _ in bank_dataset:\n",
        "    dataset_length += 1\n",
        "print(dataset_length)"
      ],
      "execution_count": null,
      "outputs": []
    },
    {
      "cell_type": "code",
      "metadata": {
        "id": "AFo3xsyQLwph"
      },
      "source": [
        "# Make training and validation sets from the dataset\n",
        "\n",
        "training_elements = int( dataset_length = 0.7)\n",
        "train_dataset = bank_dataset.take(training_elements)\n",
        "validation_dataset = bank_dataset.skip(training_elements)"
      ],
      "execution_count": null,
      "outputs": []
    },
    {
      "cell_type": "markdown",
      "metadata": {
        "id": "waZerBcdLwpj"
      },
      "source": [
        "#### Build a classification model\n",
        "\n",
        "Now let's build a model to classify the features."
      ]
    },
    {
      "cell_type": "code",
      "metadata": {
        "id": "AMFNjG7PLwpj"
      },
      "source": [
        "# Build a classifier model\n",
        "\n",
        "from tensorflow.keras.layers import Dense, Input, Concatenate, BatchNormalization\n",
        "from tensorflow.keras import Sequential\n",
        "\n",
        "model = Sequential()\n",
        "model.add(Input(shape=(30,)))\n",
        "model.add(BatchNormalization(momentum=0.8))\n",
        "model.add(Dense(400, activation='relu'))\n",
        "model.add(BatchNormalization(momentum=0.8))\n",
        "model.add(Dense(400, activation='relu'))\n",
        "model.add(BatchNormalization(momentum=0.8))\n",
        "model.add(Dense(1, activation='sigmoid'))"
      ],
      "execution_count": null,
      "outputs": []
    },
    {
      "cell_type": "code",
      "metadata": {
        "id": "4Ov8EijXLwpk"
      },
      "source": [
        "# Compile the model\n",
        "\n",
        "optimizer = tf.keras.optimizers.Adam(1e-4)\n",
        "model.compile(optimizer=optimizer, loss='binary_crossentropy', metrics=['accuracy'])"
      ],
      "execution_count": null,
      "outputs": []
    },
    {
      "cell_type": "code",
      "metadata": {
        "scrolled": true,
        "id": "VtbN-lMbLwpl"
      },
      "source": [
        "# Show the model summary\n",
        "\n",
        "model.summary()"
      ],
      "execution_count": null,
      "outputs": []
    },
    {
      "cell_type": "markdown",
      "metadata": {
        "id": "6euItJ8bLwpn"
      },
      "source": [
        "#### Train the model"
      ]
    },
    {
      "cell_type": "code",
      "metadata": {
        "id": "O0-gu3b4Lwpo"
      },
      "source": [
        "# Create batched training and validation datasets\n",
        "\n",
        "train_dataset = train_dataset.batch(20, drop_remainder = True)\n",
        "validation_dataset = validation_dataset.batch(100)"
      ],
      "execution_count": null,
      "outputs": []
    },
    {
      "cell_type": "code",
      "metadata": {
        "id": "tSc4I6lhLwpp"
      },
      "source": [
        "# Shuffle the training data\n",
        "\n",
        "train_dataset = train_dataset.shuffle(1000)"
      ],
      "execution_count": null,
      "outputs": []
    },
    {
      "cell_type": "code",
      "metadata": {
        "scrolled": true,
        "id": "BBzjSPpLLwpr"
      },
      "source": [
        "# Fit the model\n",
        "\n",
        "history = model.fit(train_dataset,validation_dataset, epochs =5)"
      ],
      "execution_count": null,
      "outputs": []
    },
    {
      "cell_type": "code",
      "metadata": {
        "id": "OKUL_6uvLwps"
      },
      "source": [
        "# Plot the training and validation accuracy\n",
        "\n",
        "plt.Plot(history.epoch, history.history[\"accuracy\"], label=\"training\")\n",
        "plt.plot(history.epoch, history.history[\"val_accuracy\"], label= \"validation\")\n",
        "plt.legend()\n",
        "plt.xlabel(\"Epoch\")\n",
        "plt.ylabel(\"Accuracy\")"
      ],
      "execution_count": null,
      "outputs": []
    }
  ]
}